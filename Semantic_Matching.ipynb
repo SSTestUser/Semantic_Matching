{
  "cells": [
    {
      "cell_type": "code",
      "execution_count": null,
      "metadata": {
        "id": "OMSJsQAZee-u"
      },
      "outputs": [],
      "source": [
        "import zipfile\n",
        "import os\n",
        "import pandas as pd\n",
        "import numpy as np\n",
        "import re\n",
        "import string\n",
        "import csv\n",
        "import nltk\n",
        "from nltk.stem.porter import PorterStemmer\n",
        "from sklearn.feature_extraction.text import TfidfVectorizer\n",
        "from sklearn.metrics.pairwise import cosine_similarity\n",
        "from sklearn.metrics.pairwise import linear_kernel\n",
        "import matplotlib.pyplot as plt\n",
        "import warnings\n",
        "from scipy.stats import kendalltau\n",
        "from nltk.translate.bleu_score import sentence_bleu\n",
        "from nltk.stem.porter import PorterStemmer\n",
        "from nltk.stem import WordNetLemmatizer\n",
        "from time import time\n",
        "warnings.filterwarnings('ignore')"
      ]
    },
    {
      "cell_type": "markdown",
      "metadata": {
        "id": "yCD190T1Dgrf"
      },
      "source": [
        "# TO-DO\n",
        "\n",
        "* Implement PDF to Text methods to also handle docx files\n",
        "* Generalize medthods fetching text files \n",
        "* Find a Combination of Semantic Similarity that works\n",
        "* Figure out which texts are outputting a 0 or NaN values for all method. They are the docx files.\n",
        "* Which columns to use? (We would use GPA/Resume/Relevant questions)\n",
        "* Some questions are free form and it would be better if they are checkboxes or dropdown boxes.\n",
        "* Perform Error Analysis(Manually check resumes to find out how well current methods rank candidates eg, best vs worst,first/last 5/10, consistency within a method and with each other)\n",
        "* Implement "
      ]
    },
    {
      "cell_type": "markdown",
      "source": [
        "#Backend"
      ],
      "metadata": {
        "id": "bAUU2oweInvk"
      }
    },
    {
      "cell_type": "markdown",
      "metadata": {
        "id": "EilnP1R2SKnC"
      },
      "source": [
        "##Mount Drive"
      ]
    },
    {
      "cell_type": "code",
      "execution_count": null,
      "metadata": {
        "colab": {
          "base_uri": "https://localhost:8080/"
        },
        "id": "391bpN5Nr1Pg",
        "outputId": "b1490fa4-13d8-4f50-bb30-8a0a6e5e61dd"
      },
      "outputs": [
        {
          "output_type": "stream",
          "name": "stdout",
          "text": [
            "Mounted at /content/drive\n"
          ]
        }
      ],
      "source": [
        "#mount drive\n",
        "from google.colab import drive\n",
        "drive.mount('/content/drive', force_remount=True)"
      ]
    },
    {
      "cell_type": "markdown",
      "metadata": {
        "id": "fHSWK3nixS2n"
      },
      "source": [
        "##Tokenize + StopWords"
      ]
    },
    {
      "cell_type": "code",
      "execution_count": null,
      "metadata": {
        "id": "6c405-BcxU4t"
      },
      "outputs": [],
      "source": [
        "from collections import Counter\n",
        "# Limit number of each token occurances to a limit\n",
        "def limit_tokens(tokens):\n",
        "    count_tokens = Counter(tokens)\n",
        "    token_limit = []\n",
        "    n = 3\n",
        "    for key,value in count_tokens.items():\n",
        "        #print([key],value)\n",
        "        if value > n:\n",
        "            token_limit.extend([key]*n)\n",
        "        else:\n",
        "            token_limit.extend([key]*value)\n",
        "    return token_limit \n",
        " # Tokenize document\n",
        "stemmer = PorterStemmer()\n",
        "def tokenize(path):\n",
        "    with open(path,'r') as resume:\n",
        "        contents = ' '.join(resume.readlines())\n",
        "    contents = contents.lower()\n",
        "    contents = re.sub(r'[A-Za-z0-9]*@[A-Za-z]*\\.?[A-Za-z0-9]*', \"\", contents)\n",
        "    contents = re.sub(r'http\\S+', '', contents)\n",
        "    contents = re.sub('[%s]' % re.escape(string.punctuation), '', contents)\n",
        "    token_clean = []\n",
        "    for i in contents.split():\n",
        "        if i in stopwords: \n",
        "            #print(i)\n",
        "            pass\n",
        "        else:\n",
        "            #print(i)\n",
        "            #token_clean.append(i)\n",
        "            token_clean.append(stemmer.stem(i))\n",
        "    return limit_tokens(token_clean)   \n",
        "#    return token_clean   "
      ]
    },
    {
      "cell_type": "code",
      "execution_count": null,
      "metadata": {
        "id": "tOE4IDC-HL99"
      },
      "outputs": [],
      "source": [
        "#Replace tokens with embeddings\n",
        "def tokens_to_embeddings(tokens):\n",
        "    embeddings = []\n",
        "    rejects = set()\n",
        "    for i in tokens:\n",
        "        try:\n",
        "            if i not in stopwords: \n",
        "                embeddings.append(glove_model[i])\n",
        "                #print(i)\n",
        "            else:\n",
        "                pass\n",
        "                #print(i)\n",
        "            #print(i)\n",
        "        except:\n",
        "            rejects.add(i)\n",
        "            #print(i)\n",
        "            pass\n",
        "    return embeddings,rejects"
      ]
    },
    {
      "cell_type": "code",
      "execution_count": null,
      "metadata": {
        "id": "zCj_ivfODDRI"
      },
      "outputs": [],
      "source": [
        "stopwords = []\n",
        "with open('/content/drive/MyDrive/stopwords.txt','r') as stop_words:\n",
        "    for i in stop_words:\n",
        "        stopwords.append(i[:-1])"
      ]
    },
    {
      "cell_type": "markdown",
      "source": [
        "##Rank Based Overlap"
      ],
      "metadata": {
        "id": "XllHsgz1ZXI9"
      }
    },
    {
      "cell_type": "code",
      "source": [
        "def RBO(l1, l2, p = 0.98):\n",
        "    \"\"\"\n",
        "        Calculates Ranked Biased Overlap (RBO) score. \n",
        "        l1 -- Ranked List 1\n",
        "        l2 -- Ranked List 2\n",
        "    \"\"\"\n",
        "    if l1 == None: l1 = []\n",
        "    if l2 == None: l2 = []\n",
        "    \n",
        "    sl,ll = sorted([(len(l1), l1),(len(l2),l2)])\n",
        "    s, S = sl\n",
        "    l, L = ll\n",
        "    if s == 0: return 0\n",
        "\n",
        "    # Calculate the overlaps at ranks 1 through l \n",
        "    # (the longer of the two lists)\n",
        "    ss = set([]) # contains elements from the smaller list till depth i\n",
        "    ls = set([]) # contains elements from the longer list till depth i\n",
        "    x_d = {0: 0}\n",
        "    sum1 = 0.0\n",
        "    for i in range(l):\n",
        "        x = L[i]\n",
        "        y = S[i] if i < s else None\n",
        "        d = i + 1\n",
        "        \n",
        "        # if two elements are same then \n",
        "        # we don't need to add to either of the set\n",
        "        if x == y: \n",
        "            x_d[d] = x_d[d-1] + 1.0\n",
        "        # else add items to respective list\n",
        "        # and calculate overlap\n",
        "        else: \n",
        "            ls.add(x) \n",
        "            if y != None: ss.add(y)\n",
        "            x_d[d] = x_d[d-1] + (1.0 if x in ss else 0.0) + (1.0 if y in ls else 0.0)     \n",
        "        #calculate average overlap\n",
        "        sum1 += x_d[d]/d * pow(p, d)\n",
        "        \n",
        "    sum2 = 0.0\n",
        "    for i in range(l-s):\n",
        "        d = s+i+1\n",
        "        sum2 += x_d[d]*(d-s)/(d*s)*pow(p,d)\n",
        "\n",
        "    sum3 = ((x_d[l]-x_d[s])/l+x_d[s]/s)*pow(p,l)\n",
        "\n",
        "    rbo_ext = (1-p)/p*(sum1+sum2)+sum3\n",
        "    return rbo_ext"
      ],
      "metadata": {
        "id": "IIpsVFHeZZIE"
      },
      "execution_count": null,
      "outputs": []
    },
    {
      "cell_type": "markdown",
      "source": [
        "#Preprocessing"
      ],
      "metadata": {
        "id": "G7mWbqcVI5Fx"
      }
    },
    {
      "cell_type": "markdown",
      "metadata": {
        "id": "7DWqvVJTSdUa"
      },
      "source": [
        "##PDF To Text methods"
      ]
    },
    {
      "cell_type": "code",
      "execution_count": null,
      "metadata": {
        "colab": {
          "base_uri": "https://localhost:8080/"
        },
        "id": "4ByGGGVEtdAt",
        "outputId": "01a46d1a-df02-4110-ed61-5300855a3ff8"
      },
      "outputs": [
        {
          "name": "stdout",
          "output_type": "stream",
          "text": [
            "[Errno 2] No such file or directory: '/content/drive/MyDrive/Jobs/Data_Analytics/Resumes.zip'\n"
          ]
        }
      ],
      "source": [
        "#Unzip if compressed\n",
        "\n",
        "target_location = r'/content/drive/MyDrive/Jobs/Data_Analytics/Resumes'\n",
        "zip_file = r'/content/drive/MyDrive/Jobs/Data_Analytics/Resumes.zip'\n",
        "\n",
        "\n",
        "try:\n",
        "  with zipfile.ZipFile(zip_file) as zip_file:\n",
        "        os.makedirs(target_location)\n",
        "        zip_file.extractall(target_location)\n",
        "        print(target_location,\"unzipped\")\n",
        "except Exception as e:\n",
        "  print(e)\n",
        "\n"
      ]
    },
    {
      "cell_type": "code",
      "execution_count": null,
      "metadata": {
        "id": "rEaAlJ0pN58k"
      },
      "outputs": [],
      "source": [
        "# bash PDF to text\n",
        "!sudo apt install poppler-utils\n",
        "!for file in /content/drive/MyDrive/Jobs/Data_Analytics/Resumes/*.pdf; do pdftotext -layout \"$file\"; done\n",
        "#try to move text files to other dir to see which is faster"
      ]
    },
    {
      "cell_type": "code",
      "execution_count": null,
      "metadata": {
        "colab": {
          "base_uri": "https://localhost:8080/"
        },
        "id": "CY_RsFzATFC0",
        "outputId": "70d5010d-96ad-4fb4-f6ca-610c4fe94669"
      },
      "outputs": [
        {
          "name": "stdout",
          "output_type": "stream",
          "text": [
            "Looking in indexes: https://pypi.org/simple, https://us-python.pkg.dev/colab-wheels/public/simple/\n",
            "Requirement already satisfied: pdfminer.six in /usr/local/lib/python3.7/dist-packages (20220524)\n",
            "Requirement already satisfied: cryptography>=36.0.0 in /usr/local/lib/python3.7/dist-packages (from pdfminer.six) (37.0.2)\n",
            "Requirement already satisfied: charset-normalizer>=2.0.0 in /usr/local/lib/python3.7/dist-packages (from pdfminer.six) (2.0.12)\n",
            "Requirement already satisfied: cffi>=1.12 in /usr/local/lib/python3.7/dist-packages (from cryptography>=36.0.0->pdfminer.six) (1.15.0)\n",
            "Requirement already satisfied: pycparser in /usr/local/lib/python3.7/dist-packages (from cffi>=1.12->cryptography>=36.0.0->pdfminer.six) (2.21)\n",
            "Looking in indexes: https://pypi.org/simple, https://us-python.pkg.dev/colab-wheels/public/simple/\n",
            "Collecting python-docx\n",
            "  Downloading python-docx-0.8.11.tar.gz (5.6 MB)\n",
            "\u001b[K     |████████████████████████████████| 5.6 MB 9.9 MB/s \n",
            "\u001b[?25hRequirement already satisfied: lxml>=2.3.2 in /usr/local/lib/python3.7/dist-packages (from python-docx) (4.2.6)\n",
            "Building wheels for collected packages: python-docx\n",
            "  Building wheel for python-docx (setup.py) ... \u001b[?25l\u001b[?25hdone\n",
            "  Created wheel for python-docx: filename=python_docx-0.8.11-py3-none-any.whl size=184507 sha256=c31ae651d718718f146082fc11f9cc2540c1e6f8406dc385497ab4c2a94ca8c2\n",
            "  Stored in directory: /root/.cache/pip/wheels/f6/6f/b9/d798122a8b55b74ad30b5f52b01482169b445fbb84a11797a6\n",
            "Successfully built python-docx\n",
            "Installing collected packages: python-docx\n",
            "Successfully installed python-docx-0.8.11\n"
          ]
        }
      ],
      "source": [
        "# Python PDF to text\n",
        "!pip install pdfminer.six\n",
        "!pip install python-docx "
      ]
    },
    {
      "cell_type": "code",
      "execution_count": null,
      "metadata": {
        "id": "SL1_LHV-7tG3"
      },
      "outputs": [],
      "source": [
        "  from pdfminer.high_level import extract_text\n",
        "  import docx\n",
        "  pdf_resumes = r'/content/drive/MyDrive/Jobs/Data_Analytics/Resumes'\n",
        "  text_resumes = r'/content/drive/MyDrive/Jobs/Data_Analytics/Text_Resumes'\n",
        "  file_path = [x for x in os.listdir(pdf_resumes)]\n",
        "  try:\n",
        "    os.makedirs(text_resumes)\n",
        "  except Exception as e:\n",
        "    print(e)\n",
        "  for i in file_path:\n",
        "    with open(text_resumes + \"/\" + i, 'w+') as text_file:\n",
        "      print(pdf_resumes + \"/\" + i)\n",
        "      try:\n",
        "        text_file.write(extract_text(pdf_resumes + \"/\" + i))\n",
        "      except Exception as e:\n",
        "        document = docx.Document(pdf_resumes + \"/\" + i)\n",
        "        docText = '\\n\\n'.join(paragraph.text for paragraph in document.paragraphs)\n",
        "        text_file.write(docText)\n",
        "        print(e)\n",
        "      "
      ]
    },
    {
      "cell_type": "code",
      "execution_count": null,
      "metadata": {
        "colab": {
          "base_uri": "https://localhost:8080/"
        },
        "id": "OOtYgb-IU2l9",
        "outputId": "6207b128-549c-40ae-87f3-550c5e278da6"
      },
      "outputs": [
        {
          "name": "stdout",
          "output_type": "stream",
          "text": [
            "'KUNJAL PANCHAL\\n\\n(413) 210-9198 ● kpanchal@umass.edu ● https://github.com/astuary ● astuary.github.io/Kunjal\\nhttps://www.linkedin.com/in/kunjal-panchal\\n\\nSKILLS\\n\\nProgramming Languages – Python, Java, C/C++, Matlab\\nTools/Frameworks             – PyTorch, TensorFlow, TF-Federated, NumPy, pandas, scikit-learn, Github\\n\\nEDUCATION\\n\\nUniversity of Massachusetts – Amherst, Massachusetts                           Sep 2021 – Expected May 2026\\n• Doctor of Philosophy in Computer Science – Advised by Dr. Hui Guan and Dr. Adam O’Neill\\n•\\n\\nResearch Area: Federated Learning, Privacy-preserving Machine Learning, Relaxed Cryptography\\n\\nUniversity of Massachusetts – Amherst, Massachusetts                                            Sep 2019 – May 2021\\n• Master of Science in Computer Science – Research Track – 3.6/4.0 GPA\\n•\\n\\nRelevant Coursework – Machine Learning, Computer Vision, Natural Language Processing,\\nRobotics, Optimization in Computer Science, Reinforcement Learning, Advanced Algorithms\\n\\nThe Maharaja Sayajirao University of Baroda, Gujarat, India                                    Aug 2015 – May 2019\\n•\\n•\\n\\nBachelor of Engineering in Computer Science – 4.0/4.0 GPA\\nRelevant Coursework – Artiﬁcial\\nProgramming, Software Engineering, Design and Analysis of Algorithms, Network Security\\n\\nIntelligence, Data Structures, Databases, Object Oriented\\n\\nWORK EXPERIENCE\\n\\nResearch Fellow / Teaching Assistant\\nManning College of Information and Computer Sciences, UMass - Amherst\\nCurrently working on solving open issues of Federated Learning, with focus on Personalized\\nFederated Learning and Poisoning Attacks resilient Federated Learning\\n\\nSep 2021 - Current\\n\\nAI and Machine Learning Head Mentor - MIT FutureMakers 2022\\nAI and Machine Learning Head Mentor - MIT FutureMakers 2021\\nMachine Learning Mentor - Virtual AI Learning Program\\nSureStart, New York City, NY (Remote)\\n\\n●\\n\\nJuly 2022 - Aug 2022\\nJun 2021 - Aug 2021\\nFeb 2021 - Mar 2021\\n\\nApr 2020 – Aug 2021\\n\\nGraduate Student Researcher - UMass CyberSecurity / ML Group\\nCollege of Information and Computer Sciences, UMass – Amherst\\nAreas – Machine Learning, Cryptography\\n•\\n\\nEmployed evolutional network architecture search to identify the best model conﬁguration for a\\nlate fusion multimodal deep learning strategy\\nImproved the latency of multimodal fusion by ~80%, while achieving near state of the art\\naccuracy performance\\n\\n•\\n\\n\\x0c•\\n\\n•\\n\\nParallelly also worked on a novel cryptographic notion of relaxed authentication with digital\\nsignatures to create a “ﬁne grained knob” for trade-oﬀs between unforgeability and speed\\nBesides formally introducing the concept, sketched and implemented a practical hash-based\\ndigital signature scheme, which ﬁt the notion of relaxed authentication\\n\\nTeaching Assistant and Grader\\nCollege of Information and Computer Sciences, UMass – Amherst\\n• Held oﬃce hours, resolved student queries, walked through homework problems for the\\n\\nSep 2020 – May 2021\\n\\ngraduate class CS 690C Foundations of Applied Cryptography and CS 466 Applied Cryptography\\n\\n• Graded homeworks, quizzes, assignments, exams for the graduate class CS 690C, CS 466\\n\\nEmotion AI Program Mentor\\nAﬀectiva, Boston, MA (Remote)\\n• Mentored 3 undergrad students in the ﬁeld of Machine Learning and Aﬀective Computing\\n• Developed a prototype for an “Emotion-enabled” smart fridge\\n•\\n•\\n\\nTrained the VGG-16 food classiﬁer on Freiburg Grocery dataset with the accuracy of 76.16%\\nBecame familiar with market analysis, idea pitching, patent creation and honed the technical\\naspects of data acquisition, data synthesis, and aﬀect analysis\\n\\nJul 2020 – Aug 2020\\n\\nSoftware Developer Intern\\nThe Maharaja Sayajirao University of Baroda, India\\n•\\n• Utilized JNLP [Java Network Launch Protocol] to make the Java simulations render on client-side\\n\\nCreated simulations, visualizations of inner workings of operating systems in Java\\n\\nJun 2018 – Jun 2019\\n\\nwhile using server resources with ~1000 simultaneous connections capacity\\nRefactored the database of the learning platform site, on which these simulations were\\nembedded, with 60% increase in speed-up eﬃciency\\nProvided a mobile interface for the site which had inherently no support for servlet rendering\\n\\n•\\n\\n•\\n\\nPROJECTS\\n\\nSoundCluch – https://github.com/Astuary/BoseSoundTouchAPI\\nFeb 2020\\n• Winner of “Best use of Bose SoundTouch API” and “Best Hack for Home Accessibility sponsored\\n\\n•\\n\\nby Wayfair” at Hack(h)er413 2020 at UMass Amherst\\nEnhanced the SoundTouch API in Python to get the motion sensor inputs within 150 cm with a\\nRaspberry Pi, to sound oﬀ a custom audio notiﬁcation through the Bose speakers\\n\\nLSTM Variants for Time-Series Data Prediction\\n\\nDec 2019\\nUsed the human activity recognition data set - ExtraSensory dataset, containing data from 60\\nindividuals, for the task of probabilistic activity forecasting.\\nBuilt LSTM variants to predict the probability that each of the ﬁve labels (LYING_DOWN, SITTING,\\nFIX_walking, TALKING, OR_standing) at the future speciﬁed time, t.\\nExperimented with GRU baseline model, LSTM baseline, CNN LSTM, Separable CNN LSTM\\n\\n●\\n\\n●\\n\\n●\\n\\nOptimization-based supervised and unsupervised learning models\\nSep 2019 – Sep 2020\\nDeveloped from scratch, the augmented versions of outlier minimizing linear regression with Huber\\nand Approximate Absolute losses,\\nlogistic regression with Z-score transform, heteroscedastic\\nregression, geometric regression, support vector classiﬁers with regularization, a custom neural\\n\\n\\x0cnetwork with regression and multi-class classiﬁcation, laplacian mixture models with missing data\\nimputations\\n\\nDeep Image Prior - https://github.com/Astuary/DeepImagePrior\\nSep 2019 – Dec 2020\\nDenoising images with an auto-encoder with batch normalization and bilinear upsampling and also\\nwith deeper architectures, those with skip connections, averaging the results across iterations to\\nscale up the resolution\\n\\nLEADERSHIP\\n\\nCoding Gym Leader – SureStart winter bootcamp to teach coding interview strategies          Jan 2022\\n\\nCampus Leader – Google Developer Students Club India\\n\\nDec 2018 – Dec 2019\\n\\nACHIEVEMENTS\\n\\nCICS Jumpstart Fellowship (2021) - College of Info and Comp Sci, UMass - Amherst\\n\\nGold Medalist (2019) – The Maharaja Sayajirao University of Baroda, B.Engg. in Computer Science\\n\\nStudent of the Year (2019) – The Maharaja Sayajirao University of Baroda, B.Engg. in CS\\n\\nNational Talent Search Examination [High-school] – Top 100 in Science and Mathematics\\n\\nAll India Essay Writing Event – Honorable Mention\\n\\nCommunity Science Center – Winner of Conmat Cosmopolitan Tree Garden Award\\n\\n\\x0c'\n"
          ]
        }
      ],
      "source": [
        "#from pdfminer.high_level import extract_text\n",
        "#text = extract_text('/content/pdf_file.pdf')\n",
        "#print(repr(text))"
      ]
    },
    {
      "cell_type": "markdown",
      "metadata": {
        "id": "0wlhmeY9OTVX"
      },
      "source": [
        "##Load StopWords"
      ]
    },
    {
      "cell_type": "code",
      "execution_count": null,
      "metadata": {
        "colab": {
          "base_uri": "https://localhost:8080/",
          "height": 70
        },
        "id": "JerqPuOBEOHL",
        "outputId": "7663145f-2e0a-420d-f5b3-bfb6e00edde9"
      },
      "outputs": [
        {
          "output_type": "execute_result",
          "data": {
            "text/plain": [
              "\"with open('/content/stopwords.txt','r') as stopwords:\\n    stop_words = stopwords.readlines()\\nstop_dict = set()\\nfor i in stop_words:\\n    stop_dict.update(i.split())\\nprint(len(stop_dict))\\nwith open('/content/stopwords_clean.txt','w') as stopwords:\\n    stopwords.write('\\n'.join(stop_dict))\""
            ],
            "application/vnd.google.colaboratory.intrinsic+json": {
              "type": "string"
            }
          },
          "metadata": {},
          "execution_count": 53
        }
      ],
      "source": [
        "#Clean Stopwords\n",
        "'''with open('/content/stopwords.txt','r') as stopwords:\n",
        "    stop_words = stopwords.readlines()\n",
        "stop_dict = set()\n",
        "for i in stop_words:\n",
        "    stop_dict.update(i.split())\n",
        "print(len(stop_dict))\n",
        "with open('/content/stopwords_clean.txt','w') as stopwords:\n",
        "    stopwords.write('\\n'.join(stop_dict))'''"
      ]
    },
    {
      "cell_type": "code",
      "execution_count": null,
      "metadata": {
        "id": "lDGOYqHOFj2o",
        "colab": {
          "base_uri": "https://localhost:8080/",
          "height": 217
        },
        "outputId": "64cdb262-b18d-4bf2-86c7-b6a1b2d6bc68"
      },
      "outputs": [
        {
          "output_type": "error",
          "ename": "FileNotFoundError",
          "evalue": "ignored",
          "traceback": [
            "\u001b[0;31m---------------------------------------------------------------------------\u001b[0m",
            "\u001b[0;31mFileNotFoundError\u001b[0m                         Traceback (most recent call last)",
            "\u001b[0;32m<ipython-input-54-cb63a81b68e2>\u001b[0m in \u001b[0;36m<module>\u001b[0;34m()\u001b[0m\n\u001b[1;32m      1\u001b[0m \u001b[0mstopwords\u001b[0m \u001b[0;34m=\u001b[0m \u001b[0;34m[\u001b[0m\u001b[0;34m]\u001b[0m\u001b[0;34m\u001b[0m\u001b[0;34m\u001b[0m\u001b[0m\n\u001b[0;32m----> 2\u001b[0;31m \u001b[0;32mwith\u001b[0m \u001b[0mopen\u001b[0m\u001b[0;34m(\u001b[0m\u001b[0;34m'/content/stopwords_clean.txt'\u001b[0m\u001b[0;34m,\u001b[0m\u001b[0;34m'r'\u001b[0m\u001b[0;34m)\u001b[0m \u001b[0;32mas\u001b[0m \u001b[0mstop_words\u001b[0m\u001b[0;34m:\u001b[0m\u001b[0;34m\u001b[0m\u001b[0;34m\u001b[0m\u001b[0m\n\u001b[0m\u001b[1;32m      3\u001b[0m     \u001b[0;32mfor\u001b[0m \u001b[0mi\u001b[0m \u001b[0;32min\u001b[0m \u001b[0mstop_words\u001b[0m\u001b[0;34m:\u001b[0m\u001b[0;34m\u001b[0m\u001b[0;34m\u001b[0m\u001b[0m\n\u001b[1;32m      4\u001b[0m         \u001b[0mstopwords\u001b[0m\u001b[0;34m.\u001b[0m\u001b[0mappend\u001b[0m\u001b[0;34m(\u001b[0m\u001b[0mi\u001b[0m\u001b[0;34m[\u001b[0m\u001b[0;34m:\u001b[0m\u001b[0;34m-\u001b[0m\u001b[0;36m1\u001b[0m\u001b[0;34m]\u001b[0m\u001b[0;34m)\u001b[0m\u001b[0;34m\u001b[0m\u001b[0;34m\u001b[0m\u001b[0m\n",
            "\u001b[0;31mFileNotFoundError\u001b[0m: [Errno 2] No such file or directory: '/content/stopwords_clean.txt'"
          ]
        }
      ],
      "source": [
        "stopwords = []\n",
        "with open('/content/stopwords_clean.txt','r') as stop_words:\n",
        "    for i in stop_words:\n",
        "        stopwords.append(i[:-1])"
      ]
    },
    {
      "cell_type": "code",
      "execution_count": null,
      "metadata": {
        "id": "1Fb6LUJRo2SH"
      },
      "outputs": [],
      "source": [
        "stopwords = []\n",
        "with open('/content/drive/MyDrive/stopwords.txt','r') as stop_words:\n",
        "    for i in stop_words:\n",
        "        stopwords.append(i[:-1])"
      ]
    },
    {
      "cell_type": "code",
      "execution_count": null,
      "metadata": {
        "id": "M3ul8G8fF0_z"
      },
      "outputs": [],
      "source": [
        "#print(stopwords)"
      ]
    },
    {
      "cell_type": "markdown",
      "metadata": {
        "id": "AUdtAHtY3Pv0"
      },
      "source": [
        "##Load GLoVe"
      ]
    },
    {
      "cell_type": "code",
      "execution_count": null,
      "metadata": {
        "colab": {
          "base_uri": "https://localhost:8080/"
        },
        "id": "wVjFRmpB3P7k",
        "outputId": "339b1b89-8137-4c40-f4d1-c16b4bf8dfd6"
      },
      "outputs": [
        {
          "name": "stdout",
          "output_type": "stream",
          "text": [
            "--2022-05-27 09:47:01--  http://nlp.stanford.edu/data/glove.6B.zip\n",
            "Resolving nlp.stanford.edu (nlp.stanford.edu)... 171.64.67.140\n",
            "Connecting to nlp.stanford.edu (nlp.stanford.edu)|171.64.67.140|:80... connected.\n",
            "HTTP request sent, awaiting response... 302 Found\n",
            "Location: https://nlp.stanford.edu/data/glove.6B.zip [following]\n",
            "--2022-05-27 09:47:01--  https://nlp.stanford.edu/data/glove.6B.zip\n",
            "Connecting to nlp.stanford.edu (nlp.stanford.edu)|171.64.67.140|:443... connected.\n",
            "HTTP request sent, awaiting response... 301 Moved Permanently\n",
            "Location: http://downloads.cs.stanford.edu/nlp/data/glove.6B.zip [following]\n",
            "--2022-05-27 09:47:02--  http://downloads.cs.stanford.edu/nlp/data/glove.6B.zip\n",
            "Resolving downloads.cs.stanford.edu (downloads.cs.stanford.edu)... 171.64.64.22\n",
            "Connecting to downloads.cs.stanford.edu (downloads.cs.stanford.edu)|171.64.64.22|:80... connected.\n",
            "HTTP request sent, awaiting response... 200 OK\n",
            "Length: 862182613 (822M) [application/zip]\n",
            "Saving to: ‘/content/drive/MyDrive/GLoVe/glove.6B.zip’\n",
            "\n",
            "/content/drive/MyDr 100%[===================>] 822.24M  5.11MB/s    in 2m 56s  \n",
            "\n",
            "2022-05-27 09:49:58 (4.67 MB/s) - ‘/content/drive/MyDrive/GLoVe/glove.6B.zip’ saved [862182613/862182613]\n",
            "\n",
            "/content/drive/MyDrive/GLoVe unzipped\n"
          ]
        }
      ],
      "source": [
        "#Load a GLoVe embedding models\n",
        "!wget http://nlp.stanford.edu/data/glove.6B.zip -O /content/drive/MyDrive/GLoVe/glove.6B.zip\n",
        "#!unzip glove*.zip\n",
        "target_location = r'/content/drive/MyDrive/GLoVe'\n",
        "zip_file = r'/content/drive/MyDrive/GLoVe/glove.6B.zip'\n",
        "\n",
        "\n",
        "try:\n",
        "  with zipfile.ZipFile(zip_file) as zip_file:\n",
        "        #os.makedirs(target_location)\n",
        "        zip_file.extractall(target_location)\n",
        "        print(target_location,\"unzipped\")\n",
        "except Exception as e:\n",
        "  print(e)\n"
      ]
    },
    {
      "cell_type": "markdown",
      "source": [
        "#Individual Methods(Test)"
      ],
      "metadata": {
        "id": "0pCqr9K9JEWd"
      }
    },
    {
      "cell_type": "markdown",
      "metadata": {
        "id": "I1TrByDnOQHc"
      },
      "source": [
        "##GLoVe"
      ]
    },
    {
      "cell_type": "code",
      "execution_count": null,
      "metadata": {
        "colab": {
          "base_uri": "https://localhost:8080/"
        },
        "id": "RIrKnJ4aV2wr",
        "outputId": "d68b867c-c10c-43d8-cf06-2f30c4eb4930"
      },
      "outputs": [
        {
          "name": "stdout",
          "output_type": "stream",
          "text": [
            "--2022-05-25 13:32:31--  http://nlp.stanford.edu/data/glove.6B.zip\n",
            "Resolving nlp.stanford.edu (nlp.stanford.edu)... 171.64.67.140\n",
            "Connecting to nlp.stanford.edu (nlp.stanford.edu)|171.64.67.140|:80... connected.\n",
            "HTTP request sent, awaiting response... 302 Found\n",
            "Location: https://nlp.stanford.edu/data/glove.6B.zip [following]\n",
            "--2022-05-25 13:32:31--  https://nlp.stanford.edu/data/glove.6B.zip\n",
            "Connecting to nlp.stanford.edu (nlp.stanford.edu)|171.64.67.140|:443... connected.\n",
            "HTTP request sent, awaiting response... 301 Moved Permanently\n",
            "Location: http://downloads.cs.stanford.edu/nlp/data/glove.6B.zip [following]\n",
            "--2022-05-25 13:32:31--  http://downloads.cs.stanford.edu/nlp/data/glove.6B.zip\n",
            "Resolving downloads.cs.stanford.edu (downloads.cs.stanford.edu)... 171.64.64.22\n",
            "Connecting to downloads.cs.stanford.edu (downloads.cs.stanford.edu)|171.64.64.22|:80... connected.\n",
            "HTTP request sent, awaiting response... 200 OK\n",
            "Length: 862182613 (822M) [application/zip]\n",
            "Saving to: ‘glove.6B.zip’\n",
            "\n",
            "glove.6B.zip        100%[===================>] 822.24M  5.21MB/s    in 2m 39s  \n",
            "\n",
            "2022-05-25 13:35:11 (5.16 MB/s) - ‘glove.6B.zip’ saved [862182613/862182613]\n",
            "\n",
            "Archive:  glove.6B.zip\n",
            "  inflating: glove.6B.50d.txt        \n",
            "  inflating: glove.6B.100d.txt       \n",
            "  inflating: glove.6B.200d.txt       \n",
            "  inflating: glove.6B.300d.txt       \n"
          ]
        }
      ],
      "source": [
        "#Working with GLoVe embeddings\n",
        "\n",
        "#Download and extract GLoVe embedding model\n",
        "!wget http://nlp.stanford.edu/data/glove.6B.zip\n",
        "#!wget https://nlp.stanford.edu/data/wordvecs/glove.840B.300d.zip\n",
        "#!wget https://nlp.stanford.edu/data/wordvecs/glove.42B.300d.zip\n",
        "!unzip glove*.zip"
      ]
    },
    {
      "cell_type": "code",
      "execution_count": null,
      "metadata": {
        "id": "jfiy-XJqoHjm"
      },
      "outputs": [],
      "source": [
        "#Load a GLoVe embedding models\n",
        "with open('glove.6B.100d.txt', encoding='utf-8') as embedding_file:\n",
        "    glove_model = {}  \n",
        "    for line in embedding_file:\n",
        "        split_line = line.split()\n",
        "        word = split_line[0]\n",
        "        embedding = np.array(split_line[1:], dtype=np.float64)\n",
        "        glove_model[word] = embedding"
      ]
    },
    {
      "cell_type": "code",
      "execution_count": null,
      "metadata": {
        "id": "dABfjN4t7aA-"
      },
      "outputs": [],
      "source": [
        "#Load a GLoVe embedding models\n",
        "with open('/content/drive/MyDrive/GLoVe/glove.6B.100d.txt', encoding='utf-8') as embedding_file:\n",
        "    glove_model = {}  \n",
        "    for line in embedding_file:\n",
        "        split_line = line.split()\n",
        "        word = split_line[0]\n",
        "        embedding = np.array(split_line[1:], dtype=np.float64)\n",
        "        glove_model[word] = embedding"
      ]
    },
    {
      "cell_type": "code",
      "execution_count": null,
      "metadata": {
        "id": "xTDeJHlNqScA"
      },
      "outputs": [],
      "source": [
        "# Tokenize document\n",
        "def tokenize(path):\n",
        "    with open(path,'r') as resume:\n",
        "        contents = ' '.join(resume.readlines())\n",
        "        contents = contents.lower()\n",
        "        contents = re.sub(r'[A-Za-z0-9]*@[A-Za-z]*\\.?[A-Za-z0-9]*', \"\", contents)\n",
        "        contents = re.sub(r'http\\S+', '', contents)\n",
        "        contents = re.sub('[%s]' % re.escape(string.punctuation), '', contents)\n",
        "        tokens = contents.split()\n",
        "    return tokens"
      ]
    },
    {
      "cell_type": "code",
      "execution_count": null,
      "metadata": {
        "id": "DMtFiTsJzT5i"
      },
      "outputs": [],
      "source": [
        "#Replace tokens with embeddings\n",
        "def tokens_to_embeddings(tokens):\n",
        "    embeddings = []\n",
        "    glove_rejects = []\n",
        "    for i in tokens:\n",
        "        try:\n",
        "            if i not in stopwords: \n",
        "                embeddings.append(glove_model[i])\n",
        "                #print(i)\n",
        "            else:\n",
        "                #print(i)\n",
        "                pass\n",
        "            #print(i)\n",
        "        except:\n",
        "            glove_rejects.append(i)\n",
        "            pass\n",
        "    return embeddings,glove_rejects"
      ]
    },
    {
      "cell_type": "code",
      "execution_count": null,
      "metadata": {
        "id": "16EYER7_36x4"
      },
      "outputs": [],
      "source": [
        "document_path = '/content/Nisarg_Parikh_CV.txt'\n",
        "#document_path = '/content/LopSum.txt'\n",
        "#document_path = '/content/Random.txt'\n",
        "job_requirement_path = '/content/Requirements.txt'\n",
        "\n",
        "job_tokens = tokenize(job_requirement_path)\n",
        "document_tokens = tokenize(document_path) \n",
        "# job_tokens = [\"python\", \"programming\"]\n",
        "# document_tokens =  [\"programming\", \"nisarg\"]\n",
        "# print(job_tokens)\n",
        "# print(document_tokens)\n",
        "job_embeddings = np.array(tokens_to_embeddings(job_tokens))\n",
        "job_embeddings = np.mean(np.array(tokens_to_embeddings(job_tokens)), axis=0)\n",
        "document_embeddings = np.array(tokens_to_embeddings(document_tokens))\n",
        "document_embeddings = np.mean(np.array(tokens_to_embeddings(document_tokens)), axis=0)\n",
        "\n",
        "# print(job_embeddings)\n",
        "# print(job_embeddings.shape)\n",
        "# print(document_embeddings)\n",
        "# print(document_embeddings)"
      ]
    },
    {
      "cell_type": "code",
      "execution_count": null,
      "metadata": {
        "colab": {
          "base_uri": "https://localhost:8080/"
        },
        "id": "b1MSYK5e4lVl",
        "outputId": "2aa487bf-de07-4bb1-e810-3a3004b1d8e3"
      },
      "outputs": [
        {
          "data": {
            "text/plain": [
              "0.8708055988612683"
            ]
          },
          "execution_count": 147,
          "metadata": {},
          "output_type": "execute_result"
        }
      ],
      "source": [
        "np.dot(job_embeddings, document_embeddings) / (np.linalg.norm(job_embeddings) * np.linalg.norm(document_embeddings))"
      ]
    },
    {
      "cell_type": "code",
      "execution_count": null,
      "metadata": {
        "colab": {
          "base_uri": "https://localhost:8080/"
        },
        "id": "powj49-4sLS2",
        "outputId": "ac27ff8f-2156-4e0b-9b3b-d3c0a15201d9"
      },
      "outputs": [
        {
          "name": "stdout",
          "output_type": "stream",
          "text": [
            "-0.006\n"
          ]
        }
      ],
      "source": [
        "cosine_similarity = 0\n",
        "count = 0\n",
        "\n",
        "for i in range(job_embeddings.shape[0]):\n",
        "    for j in range(document_embeddings.shape[0]):\n",
        "        # print(job_embeddings[i].shape)\n",
        "        # print(document_embeddings[j].shape)\n",
        "        dst = np.dot(job_embeddings[i], document_embeddings[j]) / (np.linalg.norm(job_embeddings[i]) * np.linalg.norm(document_embeddings[j]))\n",
        "        cosine_similarity += dst\n",
        "        count +=  1\n",
        "\n",
        "print(cosine_similarity / count)"
      ]
    },
    {
      "cell_type": "code",
      "execution_count": null,
      "metadata": {
        "id": "DM3YvKljIAFu"
      },
      "outputs": [],
      "source": [
        "#document_path = fetch_resume_path(file_names,candidates['First Name'][id],candidates['Last Name'][id],text_path)\n",
        "#document_path = '/content/Nisarg_Parikh_CV.txt'\n",
        "#document_path = '/content/LopSum.txt'\n",
        "document_path = '/content/Random.txt'\n",
        "job_requirement_path = r'/content/drive/MyDrive/Jobs/Data_Analytics/Job_Requirements_Data_Analytics.txt'"
      ]
    },
    {
      "cell_type": "code",
      "execution_count": null,
      "metadata": {
        "id": "4POYAY8Oz-Ti"
      },
      "outputs": [],
      "source": [
        "#GLoVe + TFiDF\n",
        "dataset = [' '.join(tokenize(job_requirement_path)),' '.join(tokenize(document_path))]\n",
        "\n",
        "# Create TfidfVectorizer object\n",
        "vectorizer = TfidfVectorizer()\n",
        "\n",
        "# Generate matrix of word vectors\n",
        "tfidf_matrix = vectorizer.fit_transform(dataset)"
      ]
    },
    {
      "cell_type": "code",
      "execution_count": null,
      "metadata": {
        "colab": {
          "base_uri": "https://localhost:8080/"
        },
        "id": "pMx3qSJB1J6d",
        "outputId": "907e1d0d-7221-4f96-e0aa-8bff9dc9d77f"
      },
      "outputs": [
        {
          "name": "stdout",
          "output_type": "stream",
          "text": [
            "[[1.         0.90613468]\n",
            " [0.90613468 1.        ]]\n"
          ]
        },
        {
          "name": "stderr",
          "output_type": "stream",
          "text": [
            "/usr/local/lib/python3.7/dist-packages/sklearn/utils/deprecation.py:87: FutureWarning: Function get_feature_names is deprecated; get_feature_names is deprecated in 1.0 and will be removed in 1.2. Please use get_feature_names_out instead.\n",
            "  warnings.warn(msg, category=FutureWarning)\n"
          ]
        }
      ],
      "source": [
        "from sklearn.metrics.pairwise import cosine_similarity\n",
        "tfidf_matrix = tfidf_matrix.toarray()\n",
        "words=vectorizer.get_feature_names()\n",
        "document_vectors = np.zeros((len(dataset),100))\n",
        "for i in range(len(dataset)):\n",
        "    for j,k in zip(words,range(len(words))):\n",
        "      try:\n",
        "          #print(j)\n",
        "          #print(i)\n",
        "          document_vectors[i]+=glove_model[j]*tfidf_matrix[i][k]\n",
        "      except:\n",
        "          #print(i,k)\n",
        "          pass\n",
        "\n",
        "pairwise_similarities=cosine_similarity(document_vectors)\n",
        "print(pairwise_similarities)"
      ]
    },
    {
      "cell_type": "code",
      "execution_count": null,
      "metadata": {
        "id": "CWgldoj_-raf"
      },
      "outputs": [],
      "source": [
        "print(tfidf_matrix)"
      ]
    },
    {
      "cell_type": "markdown",
      "metadata": {
        "id": "MihdWxVzYYdQ"
      },
      "source": [
        "##Text-Distances"
      ]
    },
    {
      "cell_type": "code",
      "execution_count": null,
      "metadata": {
        "colab": {
          "base_uri": "https://localhost:8080/"
        },
        "id": "nWTBQbnFYUKj",
        "outputId": "a8414234-2164-4275-ff32-35d9487d8a04"
      },
      "outputs": [
        {
          "name": "stdout",
          "output_type": "stream",
          "text": [
            "Looking in indexes: https://pypi.org/simple, https://us-python.pkg.dev/colab-wheels/public/simple/\n",
            "Collecting textdistance\n",
            "  Downloading textdistance-4.2.2-py3-none-any.whl (28 kB)\n",
            "Installing collected packages: textdistance\n",
            "Successfully installed textdistance-4.2.2\n"
          ]
        }
      ],
      "source": [
        "!pip install textdistance \n",
        "import textdistance as td\n",
        "\n",
        "\n",
        "def match(resume, job_des):\n",
        "    j = td.jaccard.similarity(resume, job_des)\n",
        "    s = td.sorensen_dice.similarity(resume, job_des)\n",
        "    c = td.cosine.similarity(resume, job_des)\n",
        "    o = td.overlap.normalized_similarity(resume, job_des)\n",
        "    total = (j+s+c+o)/4\n",
        "    # total = (s+o)/2\n",
        "    return total*100"
      ]
    },
    {
      "cell_type": "code",
      "execution_count": null,
      "metadata": {
        "id": "Wxxd5aWOY7b-"
      },
      "outputs": [],
      "source": [
        "document_path = '/content/Nisarg_Parikh_CV.txt'\n",
        "#document_path = '/content/LopSum.txt'\n",
        "#document_path = '/content/Random.txt'\n",
        "job_requirement_path = '/content/Requirements.txt'\n",
        "\n",
        "job_tokens = tokenize(job_requirement_path)\n",
        "document_tokens = tokenize(document_path) "
      ]
    },
    {
      "cell_type": "code",
      "execution_count": null,
      "metadata": {
        "colab": {
          "base_uri": "https://localhost:8080/"
        },
        "id": "qk4nwd7-aAoT",
        "outputId": "e24d4ee1-2d99-4b01-e843-9b96c48158ad"
      },
      "outputs": [
        {
          "name": "stdout",
          "output_type": "stream",
          "text": [
            "4.910061180141377\n"
          ]
        }
      ],
      "source": [
        "print(match(job_tokens,document_tokens))"
      ]
    },
    {
      "cell_type": "markdown",
      "metadata": {
        "id": "kEciyvBlN9pZ"
      },
      "source": [
        "##BERT"
      ]
    },
    {
      "cell_type": "code",
      "execution_count": null,
      "metadata": {
        "id": "IZMApnDMB2e0",
        "colab": {
          "base_uri": "https://localhost:8080/"
        },
        "outputId": "f85ac905-281b-4b69-f1fb-3d49485a8392"
      },
      "outputs": [
        {
          "output_type": "stream",
          "name": "stdout",
          "text": [
            "Looking in indexes: https://pypi.org/simple, https://us-python.pkg.dev/colab-wheels/public/simple/\n",
            "Requirement already satisfied: sentence_transformers in /usr/local/lib/python3.7/dist-packages (2.2.0)\n",
            "Requirement already satisfied: torchvision in /usr/local/lib/python3.7/dist-packages (from sentence_transformers) (0.12.0+cu113)\n",
            "Requirement already satisfied: transformers<5.0.0,>=4.6.0 in /usr/local/lib/python3.7/dist-packages (from sentence_transformers) (4.19.2)\n",
            "Requirement already satisfied: nltk in /usr/local/lib/python3.7/dist-packages (from sentence_transformers) (3.2.5)\n",
            "Requirement already satisfied: sentencepiece in /usr/local/lib/python3.7/dist-packages (from sentence_transformers) (0.1.96)\n",
            "Requirement already satisfied: scipy in /usr/local/lib/python3.7/dist-packages (from sentence_transformers) (1.4.1)\n",
            "Requirement already satisfied: torch>=1.6.0 in /usr/local/lib/python3.7/dist-packages (from sentence_transformers) (1.11.0+cu113)\n",
            "Requirement already satisfied: numpy in /usr/local/lib/python3.7/dist-packages (from sentence_transformers) (1.21.6)\n",
            "Requirement already satisfied: tqdm in /usr/local/lib/python3.7/dist-packages (from sentence_transformers) (4.64.0)\n",
            "Requirement already satisfied: scikit-learn in /usr/local/lib/python3.7/dist-packages (from sentence_transformers) (1.0.2)\n",
            "Requirement already satisfied: huggingface-hub in /usr/local/lib/python3.7/dist-packages (from sentence_transformers) (0.7.0)\n",
            "Requirement already satisfied: typing-extensions in /usr/local/lib/python3.7/dist-packages (from torch>=1.6.0->sentence_transformers) (4.2.0)\n",
            "Requirement already satisfied: regex!=2019.12.17 in /usr/local/lib/python3.7/dist-packages (from transformers<5.0.0,>=4.6.0->sentence_transformers) (2019.12.20)\n",
            "Requirement already satisfied: requests in /usr/local/lib/python3.7/dist-packages (from transformers<5.0.0,>=4.6.0->sentence_transformers) (2.23.0)\n",
            "Requirement already satisfied: filelock in /usr/local/lib/python3.7/dist-packages (from transformers<5.0.0,>=4.6.0->sentence_transformers) (3.7.0)\n",
            "Requirement already satisfied: pyyaml>=5.1 in /usr/local/lib/python3.7/dist-packages (from transformers<5.0.0,>=4.6.0->sentence_transformers) (6.0)\n",
            "Requirement already satisfied: importlib-metadata in /usr/local/lib/python3.7/dist-packages (from transformers<5.0.0,>=4.6.0->sentence_transformers) (4.11.4)\n",
            "Requirement already satisfied: tokenizers!=0.11.3,<0.13,>=0.11.1 in /usr/local/lib/python3.7/dist-packages (from transformers<5.0.0,>=4.6.0->sentence_transformers) (0.12.1)\n",
            "Requirement already satisfied: packaging>=20.0 in /usr/local/lib/python3.7/dist-packages (from transformers<5.0.0,>=4.6.0->sentence_transformers) (21.3)\n",
            "Requirement already satisfied: pyparsing!=3.0.5,>=2.0.2 in /usr/local/lib/python3.7/dist-packages (from packaging>=20.0->transformers<5.0.0,>=4.6.0->sentence_transformers) (3.0.9)\n",
            "Requirement already satisfied: zipp>=0.5 in /usr/local/lib/python3.7/dist-packages (from importlib-metadata->transformers<5.0.0,>=4.6.0->sentence_transformers) (3.8.0)\n",
            "Requirement already satisfied: six in /usr/local/lib/python3.7/dist-packages (from nltk->sentence_transformers) (1.15.0)\n",
            "Requirement already satisfied: certifi>=2017.4.17 in /usr/local/lib/python3.7/dist-packages (from requests->transformers<5.0.0,>=4.6.0->sentence_transformers) (2022.5.18.1)\n",
            "Requirement already satisfied: urllib3!=1.25.0,!=1.25.1,<1.26,>=1.21.1 in /usr/local/lib/python3.7/dist-packages (from requests->transformers<5.0.0,>=4.6.0->sentence_transformers) (1.24.3)\n",
            "Requirement already satisfied: idna<3,>=2.5 in /usr/local/lib/python3.7/dist-packages (from requests->transformers<5.0.0,>=4.6.0->sentence_transformers) (2.10)\n",
            "Requirement already satisfied: chardet<4,>=3.0.2 in /usr/local/lib/python3.7/dist-packages (from requests->transformers<5.0.0,>=4.6.0->sentence_transformers) (3.0.4)\n",
            "Requirement already satisfied: joblib>=0.11 in /usr/local/lib/python3.7/dist-packages (from scikit-learn->sentence_transformers) (1.1.0)\n",
            "Requirement already satisfied: threadpoolctl>=2.0.0 in /usr/local/lib/python3.7/dist-packages (from scikit-learn->sentence_transformers) (3.1.0)\n",
            "Requirement already satisfied: pillow!=8.3.*,>=5.3.0 in /usr/local/lib/python3.7/dist-packages (from torchvision->sentence_transformers) (7.1.2)\n"
          ]
        }
      ],
      "source": [
        "!pip install sentence_transformers\n",
        "from sentence_transformers import SentenceTransformer,util"
      ]
    },
    {
      "cell_type": "code",
      "execution_count": null,
      "metadata": {
        "id": "zcXbinonKsOq"
      },
      "outputs": [],
      "source": [
        "from sklearn.metrics.pairwise import cosine_similarity\n",
        "#Cosine Similarity\n",
        "def similar(doc_id,document_embeddings):\n",
        "    pairwise_similarities=cosine_similarity(document_embeddings)\n",
        "    similar_ix=np.argsort(pairwise_similarities[doc_id])[::-1]\n",
        "    for ix in similar_ix:\n",
        "        if ix==doc_id:\n",
        "            continue\n",
        "        print(\"Similarity:\",{pairwise_similarities[doc_id][ix]})"
      ]
    },
    {
      "cell_type": "code",
      "execution_count": null,
      "metadata": {
        "id": "Sn-eHs8DKsXW"
      },
      "outputs": [],
      "source": [
        "from sklearn.metrics.pairwise import euclidean_distances\n",
        "#Eucledian Dissimilarity\n",
        "def dis_similar(doc_id,document_embeddings):\n",
        "    pairwise_differences=euclidean_distances(document_embeddings)\n",
        "    similar_ix=np.argsort(pairwise_differences[doc_id])\n",
        "    for ix in similar_ix:\n",
        "        if ix==doc_id:\n",
        "            continue\n",
        "        print(\"Dis-Similarity:\",{pairwise_differences[doc_id][ix]})"
      ]
    },
    {
      "cell_type": "code",
      "execution_count": null,
      "metadata": {
        "id": "BJn_JeuKhC2n"
      },
      "outputs": [],
      "source": [
        "\n",
        "#Cosine Similarity\n",
        "def cosine(document_embeddings,job_embeddings):\n",
        "        document_embeddings = np.mean(np.array(document_embeddings))\n",
        "        job_embeddings =  np.mean(np.array(job_embeddings))\n",
        "        cos_sim = util.cos_sim(document_embeddings,job_embeddings)\n",
        "        print(\"Similarity:\",cos_sim)"
      ]
    },
    {
      "cell_type": "code",
      "execution_count": null,
      "metadata": {
        "id": "NUTg3aD78ns0"
      },
      "outputs": [],
      "source": [
        "sbert_model = SentenceTransformer('bert-base-nli-mean-tokens')"
      ]
    },
    {
      "cell_type": "code",
      "execution_count": null,
      "metadata": {
        "colab": {
          "base_uri": "https://localhost:8080/",
          "height": 356
        },
        "id": "iU0U3JfcRbjS",
        "outputId": "0475c9fc-0bda-43d6-e44c-43dd112e4a02"
      },
      "outputs": [
        {
          "output_type": "error",
          "ename": "FileNotFoundError",
          "evalue": "ignored",
          "traceback": [
            "\u001b[0;31m---------------------------------------------------------------------------\u001b[0m",
            "\u001b[0;31mFileNotFoundError\u001b[0m                         Traceback (most recent call last)",
            "\u001b[0;32m<ipython-input-60-cfffce6e9b70>\u001b[0m in \u001b[0;36m<module>\u001b[0;34m()\u001b[0m\n\u001b[1;32m      6\u001b[0m \u001b[0;34m\u001b[0m\u001b[0m\n\u001b[1;32m      7\u001b[0m \u001b[0;34m\u001b[0m\u001b[0m\n\u001b[0;32m----> 8\u001b[0;31m \u001b[0mdocument_embeddings\u001b[0m \u001b[0;34m=\u001b[0m \u001b[0msbert_model\u001b[0m\u001b[0;34m.\u001b[0m\u001b[0mencode\u001b[0m\u001b[0;34m(\u001b[0m\u001b[0;34m[\u001b[0m\u001b[0mtokenize\u001b[0m\u001b[0;34m(\u001b[0m\u001b[0mdocument_path\u001b[0m\u001b[0;34m)\u001b[0m\u001b[0;34m,\u001b[0m\u001b[0mtokenize\u001b[0m\u001b[0;34m(\u001b[0m\u001b[0mjob_requirement_path\u001b[0m\u001b[0;34m)\u001b[0m\u001b[0;34m]\u001b[0m\u001b[0;34m)\u001b[0m\u001b[0;34m\u001b[0m\u001b[0;34m\u001b[0m\u001b[0m\n\u001b[0m\u001b[1;32m      9\u001b[0m \u001b[0;31m#document_embeddings = sbert_model.encode(tokenize(document_path))\u001b[0m\u001b[0;34m\u001b[0m\u001b[0;34m\u001b[0m\u001b[0;34m\u001b[0m\u001b[0m\n\u001b[1;32m     10\u001b[0m \u001b[0;31m#job_embeddings = sbert_model.encode(tokenize(job_requirement_path))\u001b[0m\u001b[0;34m\u001b[0m\u001b[0;34m\u001b[0m\u001b[0;34m\u001b[0m\u001b[0m\n",
            "\u001b[0;32m<ipython-input-3-aaf07e7f4583>\u001b[0m in \u001b[0;36mtokenize\u001b[0;34m(path)\u001b[0m\n\u001b[1;32m     14\u001b[0m  \u001b[0;31m# Tokenize document\u001b[0m\u001b[0;34m\u001b[0m\u001b[0;34m\u001b[0m\u001b[0;34m\u001b[0m\u001b[0m\n\u001b[1;32m     15\u001b[0m \u001b[0;32mdef\u001b[0m \u001b[0mtokenize\u001b[0m\u001b[0;34m(\u001b[0m\u001b[0mpath\u001b[0m\u001b[0;34m)\u001b[0m\u001b[0;34m:\u001b[0m\u001b[0;34m\u001b[0m\u001b[0;34m\u001b[0m\u001b[0m\n\u001b[0;32m---> 16\u001b[0;31m     \u001b[0;32mwith\u001b[0m \u001b[0mopen\u001b[0m\u001b[0;34m(\u001b[0m\u001b[0mpath\u001b[0m\u001b[0;34m,\u001b[0m\u001b[0;34m'r'\u001b[0m\u001b[0;34m)\u001b[0m \u001b[0;32mas\u001b[0m \u001b[0mresume\u001b[0m\u001b[0;34m:\u001b[0m\u001b[0;34m\u001b[0m\u001b[0;34m\u001b[0m\u001b[0m\n\u001b[0m\u001b[1;32m     17\u001b[0m         \u001b[0mcontents\u001b[0m \u001b[0;34m=\u001b[0m \u001b[0;34m' '\u001b[0m\u001b[0;34m.\u001b[0m\u001b[0mjoin\u001b[0m\u001b[0;34m(\u001b[0m\u001b[0mresume\u001b[0m\u001b[0;34m.\u001b[0m\u001b[0mreadlines\u001b[0m\u001b[0;34m(\u001b[0m\u001b[0;34m)\u001b[0m\u001b[0;34m)\u001b[0m\u001b[0;34m\u001b[0m\u001b[0;34m\u001b[0m\u001b[0m\n\u001b[1;32m     18\u001b[0m     \u001b[0mcontents\u001b[0m \u001b[0;34m=\u001b[0m \u001b[0mcontents\u001b[0m\u001b[0;34m.\u001b[0m\u001b[0mlower\u001b[0m\u001b[0;34m(\u001b[0m\u001b[0;34m)\u001b[0m\u001b[0;34m\u001b[0m\u001b[0;34m\u001b[0m\u001b[0m\n",
            "\u001b[0;31mFileNotFoundError\u001b[0m: [Errno 2] No such file or directory: '/content/Random.txt'"
          ]
        }
      ],
      "source": [
        "#document_path = '/content/Nisarg_Parikh_CV.txt'\n",
        "document_path = '/content/Random.txt'\n",
        "#document_path = '/content/Random_2.txt'\n",
        "#document_path = '/content/LopSum.txt'\n",
        "job_requirement_path = '/content/Requirements.txt'\n",
        "\n",
        "\n",
        "document_embeddings = sbert_model.encode([tokenize(document_path),tokenize(job_requirement_path)])\n",
        "#document_embeddings = sbert_model.encode(tokenize(document_path))\n",
        "#job_embeddings = sbert_model.encode(tokenize(job_requirement_path))\n",
        "cosine_similarity(document_embeddings)"
      ]
    },
    {
      "cell_type": "code",
      "execution_count": null,
      "metadata": {
        "id": "ADsLlxfGB0BH"
      },
      "outputs": [],
      "source": [
        "dis_similar(0,document_embeddings)\n",
        "similar(0,document_embeddings)\n",
        "cosine(document_embeddings,job_embeddings)"
      ]
    },
    {
      "cell_type": "markdown",
      "metadata": {
        "id": "i6pqLRfBfNvR"
      },
      "source": [
        "##TFiDF"
      ]
    },
    {
      "cell_type": "code",
      "execution_count": null,
      "metadata": {
        "id": "5AYntORJvBRO"
      },
      "outputs": [],
      "source": [
        "document_path = '/content/Nisarg_Parikh_CV.txt'\n",
        "#document_path = '/content/LopSum.txt'\n",
        "#document_path = '/content/Random.txt'\n",
        "job_requirement_path = '/content/Requirements.txt'\n",
        "\n",
        "dataset = [' '.join(tokenize(job_requirement_path)),' '.join(tokenize(document_path))]\n",
        "\n",
        "# Create TfidfVectorizer object\n",
        "vectorizer = TfidfVectorizer()\n",
        "\n",
        "# Generate matrix of word vectors\n",
        "tfidf_matrix = vectorizer.fit_transform(dataset)"
      ]
    },
    {
      "cell_type": "code",
      "execution_count": null,
      "metadata": {
        "colab": {
          "base_uri": "https://localhost:8080/"
        },
        "id": "2eSzlWKmYcqN",
        "outputId": "6407469a-8184-437a-9bcf-2752cd3cb7b2"
      },
      "outputs": [
        {
          "name": "stdout",
          "output_type": "stream",
          "text": [
            "[[1.         0.03080858]\n",
            " [0.03080858 1.        ]]\n",
            "[[1.         0.03080858]\n",
            " [0.03080858 1.        ]]\n"
          ]
        }
      ],
      "source": [
        "cosine_sim = cosine_similarity(tfidf_matrix, tfidf_matrix)\n",
        "print(cosine_sim)\n",
        "cosine_sim = linear_kernel(tfidf_matrix, tfidf_matrix)\n",
        "print(cosine_sim)"
      ]
    },
    {
      "cell_type": "code",
      "execution_count": null,
      "metadata": {
        "id": "aLuZ6U290C3G"
      },
      "outputs": [],
      "source": [
        "job_document =  \n",
        "        \n",
        "\n",
        "cosine_sim = cosine_similarity()\n"
      ]
    },
    {
      "cell_type": "markdown",
      "metadata": {
        "id": "-eanSe3moBaX"
      },
      "source": [
        "#Dealing with Resumes"
      ]
    },
    {
      "cell_type": "code",
      "execution_count": null,
      "metadata": {
        "id": "kxVoQUfIzc_2"
      },
      "outputs": [],
      "source": [
        "candidate_path = r'/content/drive/MyDrive/Jobs/Data_Analytics/Candidates.xlsx'\n",
        "text_path = r'/content/drive/MyDrive/Jobs/Data_Analytics/Text_Resumes'\n",
        "#job_requirement_path = r'/content/drive/MyDrive/Jobs/Data_Analytics/Job_Requirements_Data_Analytics.txt'\n",
        "#job_requirement_path = r'/content/drive/MyDrive/Jobs/Data_Analytics/Job_Responsibilities_Data_Analytics.txt'\n",
        "job_requirement_path = r'/content/drive/MyDrive/Jobs/Data_Analytics/Job_Description_Data_Analytics.txt'"
      ]
    },
    {
      "cell_type": "code",
      "execution_count": null,
      "metadata": {
        "id": "e7TD0-ZZfQZO"
      },
      "outputs": [],
      "source": [
        "candidates = pd.read_excel(candidate_path,sheet_name='sheet1')\n",
        "#candidates.head()"
      ]
    },
    {
      "cell_type": "code",
      "execution_count": null,
      "metadata": {
        "id": "0tHg152TUJ6U"
      },
      "outputs": [],
      "source": [
        "def fetch_resume(file_names,first_name,last_name,text_path):\n",
        "  path = [x for x in file_names if x.startswith('_'.join(last_name.split())+\", \"+'_'.join(first_name.split()))]\n",
        "  with open(text_path + '/' + path[0]) as resume:\n",
        "    resume_text = resume.readlines()\n",
        "  return resume_text\n",
        "def fetch_resume_path(file_names,first_name,last_name,text_path):\n",
        "    path = [x for x in file_names if x.startswith('_'.join(last_name.split())+\", \"+'_'.join(first_name.split()))]\n",
        "    return text_path + '/' + path[0]\n",
        "file_names = os.listdir(text_path)"
      ]
    },
    {
      "cell_type": "code",
      "execution_count": null,
      "metadata": {
        "colab": {
          "base_uri": "https://localhost:8080/"
        },
        "id": "i3xMRb-dr-UD",
        "outputId": "1253ed94-3b9d-4248-8a5c-c52ff834f283"
      },
      "outputs": [
        {
          "output_type": "stream",
          "name": "stdout",
          "text": [
            "Vraj Patel\n",
            "['Vraj N. Patel \\n', '67 Fieldstone Road | Levittown | PA | 19056 | 267-300-4891 \\n', '\\n', 'VrajPatel@temple.edu \\n', '\\n', 'EDUCATION \\n', '\\n', 'Temple University – Fox School of Business, Philadelphia, PA             \\n', 'Bachelor of Business Administration, to be awarded May 2024 \\n', 'MAJOR: Management Information Systems | GPA: 3.74  \\n', 'Selected Courses: \\n', '\\n', 'Technological Horizons CIS 0822 \\n', 'Intro Prob Solv & Prog-Python CIS 1051 \\n', 'Legal Environments of Business LGLS 1101 \\n', 'Digital Systems MIS 2101 \\n', 'Microeconomic Principles \\n', '\\n', 'ACTIVITIES  \\n', '\\n', 'Member, Association for Information System \\n', '\\n', 'September 2021 – May 2022 \\n', '\\n', 'EXPERIENCE \\n', '\\n', 'SUBWAY, Levittown, PA \\n', 'Manager \\n', '•  Managed daily operations for retail quick serve food and beverage outlet that serves up to \\n', '\\n', 'August 2018 – January 2020  \\n', '\\n', '400 customers per day. \\n', '\\n', '• \\n', '\\n', 'Implemented a new inventory system for perishable food items including all meats produce \\n', 'and condiments. \\n', '\\n', '•  Supervised two full and part time employees, including scheduling, point of sale terminal, \\n', '\\n', 'and compliance with safe serve regulations. \\n', '\\n', 'SKILLS \\n', '\\n', 'Software: Microsoft Word, Excel, PowerPoint, Python \\n', 'Languages: English, Gujarati, Hindi \\n', '\\n', ' \\n', ' \\n', ' \\n', ' \\n', '                                \\n', ' \\n', ' \\n', ' \\n', ' \\n', ' \\n', ' \\n', ' \\n', ' \\n', ' \\n', ' \\n', ' \\n', ' \\n', '     \\n', ' \\n', ' \\n', ' \\n', ' \\n', ' \\n', ' \\n', ' \\n', ' \\n', ' \\n', ' \\n', ' \\n', '     \\n', ' \\n', ' \\n', '\\x0c']\n"
          ]
        }
      ],
      "source": [
        "id = 165\n",
        "print(candidates['First Name'][id],candidates['Last Name'][id])\n",
        "print(fetch_resume(file_names,candidates['First Name'][id],candidates['Last Name'][id],text_path))"
      ]
    },
    {
      "cell_type": "code",
      "execution_count": null,
      "metadata": {
        "id": "XUfDdutsCa6a"
      },
      "outputs": [],
      "source": [
        "#TFiDF\n",
        "\n",
        "\n",
        "def TFiDF(id,job_requirement_path):\n",
        "    resume_document = fetch_resume_path(file_names,candidates['First Name'][id],candidates['Last Name'][id],text_path)\n",
        "    # Create TfidfVectorizer object\n",
        "    dataset = [' '.join(tokenize(job_requirement_path)),' '.join(tokenize(resume_document))]\n",
        "    vectorizer = TfidfVectorizer()\n",
        "\n",
        "    # Generate matrix of word vectors\n",
        "    tfidf_matrix = vectorizer.fit_transform(dataset)\n",
        "\n",
        "    cosine_sim = cosine_similarity(tfidf_matrix, tfidf_matrix)\n",
        "    return cosine_sim[0][1]"
      ]
    },
    {
      "cell_type": "code",
      "execution_count": null,
      "metadata": {
        "id": "aQLxpvOVAUtl"
      },
      "outputs": [],
      "source": [
        "#Load a GLoVe embedding models\n",
        "with open('/content/drive/MyDrive/GLoVe/glove.6B.100d.txt', encoding='utf-8') as embedding_file:\n",
        "    glove_model = {}  \n",
        "    for line in embedding_file:\n",
        "        split_line = line.split()\n",
        "        word = split_line[0]\n",
        "        embedding = np.array(split_line[1:], dtype=np.float64)\n",
        "        glove_model[word] = embedding"
      ]
    },
    {
      "cell_type": "code",
      "execution_count": null,
      "metadata": {
        "id": "o9c7SVTFG6Is"
      },
      "outputs": [],
      "source": [
        "def GLoVe(id,job_requirement_path):\n",
        "  document_path = fetch_resume_path(file_names,candidates['First Name'][id],candidates['Last Name'][id],text_path)\n",
        "  job_tokens = tokenize(job_requirement_path)\n",
        "  document_tokens = tokenize(document_path) \n",
        "  #job_embeddings = np.array(tokens_to_embeddings(job_tokens))\n",
        "  job_embeddings,job_rejects = tokens_to_embeddings(job_tokens)\n",
        "  job_embeddings = np.mean(np.array(job_embeddings), axis=0)\n",
        "  #document_embeddings = np.array(tokens_to_embeddings(document_tokens))\n",
        "  document_embeddings, document_rejects = tokens_to_embeddings(document_tokens)\n",
        "  document_embeddings = np.mean(np.array(document_embeddings), axis=0)\n",
        "  reject_similarities = len(job_rejects.intersection(document_rejects))\n",
        "  return np.dot(job_embeddings, document_embeddings) / (np.linalg.norm(job_embeddings) * np.linalg.norm(document_embeddings)) + (reject_similarities / len(job_rejects.union(document_rejects)))"
      ]
    },
    {
      "cell_type": "code",
      "execution_count": null,
      "metadata": {
        "id": "St6pnsSa-rB8"
      },
      "outputs": [],
      "source": [
        "#GLoVE + TFiDF\n",
        "def GLoVe_TFiDF(id,job_requirement_path):\n",
        "  document_path = fetch_resume_path(file_names,candidates['First Name'][id],candidates['Last Name'][id],text_path)\n",
        "\n",
        "  dataset = [' '.join(tokenize(job_requirement_path)),' '.join(tokenize(document_path))]\n",
        "\n",
        "  # Create TfidfVectorizer object\n",
        "  vectorizer = TfidfVectorizer()\n",
        "\n",
        "  # Generate matrix of word vectors\n",
        "  tfidf_matrix = vectorizer.fit_transform(dataset)\n",
        "  tfidf_matrix = tfidf_matrix.toarray()\n",
        "  words=vectorizer.get_feature_names()\n",
        "  document_vectors = np.zeros((len(dataset),100))\n",
        "  for i in range(len(dataset)):\n",
        "      for j,k in zip(words,range(len(words))):\n",
        "        try:\n",
        "            #print(j)\n",
        "            #print(i)\n",
        "            document_vectors[i]+=glove_model[j]*tfidf_matrix[i][k]\n",
        "        except:\n",
        "            #print(i,k)\n",
        "            pass\n",
        "\n",
        "  pairwise_similarities=cosine_similarity(document_vectors)\n",
        "  return pairwise_similarities[0][1]"
      ]
    },
    {
      "cell_type": "code",
      "execution_count": null,
      "metadata": {
        "colab": {
          "base_uri": "https://localhost:8080/",
          "referenced_widgets": [
            "73d8e7d3b0614f6a9fef27e63c513f5f",
            "a6f42b2e03614c2682b73363c443c82a",
            "95ed050636f24f40bc3b48fa9b3098bd",
            "8a80b9ead7874b81b8ab163996158078",
            "a30abe401283407981bf57a50d580e65",
            "7b82783539a64ede934d79f4f20c3a8a",
            "0555b4edcc794f0f84879d8baa27b94f",
            "6d571d06a50841bcb1533a25028ecfa0",
            "57efa9f6b9f94100b826a50a0afa1f89",
            "1c2e7e14f0434ca291188d77423553d4",
            "b1cead17e53f4b6e93c7cf91d65fcb41",
            "671c155c1c5942ce9389d85b50259654",
            "599bb59f918a49c784c08d008d2f4161",
            "34cc53cb81c74d78aff592b8b9c93d1e",
            "c791fbeb21c248c29200231a66bdaa45",
            "cc7b0bc9b22d47b6b1686484d52af1a5",
            "429a2e58320f44509d4b4e53cd548f20",
            "9fa12a3ef9e14976b0d8f121c74e8fa0",
            "423b5b72ba3249e2855b03379350cb4b",
            "9dff5580047c4fcfa55a29e69dd4db33",
            "e2fbe18318e44bb88553489b0a7c18d3",
            "7876f7189b234b76a2b9bd3e8c1d87cf",
            "169da6b4c9204ac1accc40d052bcb599",
            "2f88c91e3258421a85d891c99674238a",
            "103d4d9decbf4e119446e2c286865cb2",
            "3489a0bdbce64d869894a580579feebd",
            "47987cf72b1e4ea796b86e146d4200dc",
            "abd057f0b56e4de184b07b734e46938b",
            "123d3d6ea53b43ae9488d59954e69245",
            "08a21dc4cbbb4282a3435820a1bf2fe5",
            "b9ce6bf6a1034801954911b8f0e33517",
            "0755df56aa9d4e419cd169fb9888a741",
            "c2270f8895b14d78be646db42dad5a25",
            "3403c31540954dfc8db1c42f715bc96e",
            "8b09ed7e0f05469885b629d1dcccfac2",
            "1873bfb6f8274518b1f777ade21ad9b7",
            "0a9e7d2cb16a4bb2a7893192f5c6651c",
            "672c63c63a524ca2907e8456d2aec050",
            "f1221b692f5744f295b742fff96c2aaf",
            "844b259b21e4448cb06d51790242235f",
            "6af0a94f9a39453cb7194791afed232c",
            "d11e6091c20741e1a6d95ac8ec591b8c",
            "3ce9ca68d5d943d8b7789eb8358b9fcb",
            "1fb3f15c4175417686aff5585b4beeba",
            "f11823d1271f42d78e7e3217be26a414",
            "8c257e4b96f044d994598ea4df1a3b59",
            "affaa19146134f01998cdc435d58c16a",
            "cab458eafb154ebf9002d95d3e4c4db8",
            "e9166b6e278a40e495fbfd16d67ae573",
            "31f66f2492ed4d2cb066a1a9f4131455",
            "5010f3e51fdf4a0f8945fce8ebe66e8b",
            "703d343dae38470ab7121ec89a475be0",
            "aa92303ce8f948debc397644a65b6597",
            "def3106ab3d7483bbec10b522520b00f",
            "62e9f52f63f84f818ef1f2241143b746",
            "4dbb8a6d71d649dbb5a6be824a04f0be",
            "e6ee5009d67547058e6bb135dec87d3c",
            "434c553786244dd0bacab8b79eb32855",
            "4eef587cebdd444b9b5336ff8e0e8c89",
            "494c7d37b37a4a8fa993a867f7f3dfeb",
            "dcc3061b1d7f4cc5886e6c7e7fc6824d",
            "eafffa743bb3430485d638e9eeed3963",
            "bad6c092bfef4f11b9c169bbeb3583c6",
            "8a24a87fa29d4d96ad7f0081a689398e",
            "868665bfa7be425d983b8dec809b3fbf",
            "3b175a3685424436b60918e7df7c34b3",
            "d49f5a0af88c420ab6bc880c309049f1",
            "618de58e97e04f698287d7d1a774f485",
            "163fcdac35004c649981764003f664f0",
            "8c6ef8ade573440a941bffbad6b9449a",
            "c2a3b558cb8a491ca6399e4ae2d8bf7d",
            "e9091ce6bed44c7294c917d8beda5951",
            "e64964fe08234a50952222bd708bf3f1",
            "52bc690c828d4d2d9a06af2495ec0303",
            "09ca9d75c6464ed1a3c23799538cef19",
            "f4fcfecb83054b499972f77009884f35",
            "733d5419c56d46c48798a9165461c5b3",
            "19e52d2d23514470acbcb2e94fe0f028",
            "3fd84c1ba4fc42e997d55dd64013f61b",
            "a36332e2b9a34bdb913ee4bda9dd0aec",
            "d6b16d514fd74c9294dc87cb8901cbac",
            "7f681352ec214f9b94421996d301929b",
            "00e3dd095a0244a0846911089c4ab366",
            "3630cee246d84935aa23a795db7465e2",
            "ba4154e8c1b74247ad1ab1a5adff0e94",
            "8d22e0d8aa5c4e829f1c7896eefd2183",
            "a7ade28226ee47de92807bcecd0b36da",
            "e894f502ca524398ab6441bf58d119b7",
            "79368ab3e79a483aae4e52806d1f6bec",
            "080d755e7d9c4705b55575f43278245f",
            "0508e9bdd3ea4b86848810e852b1baaa",
            "d38094372d0f4beaa8e1c2d47ea40c63",
            "e8dc608cbc314fe18763732cfe816a1f",
            "eea4e8396df847ac91da7c29536a88f3",
            "4ce71a210aaf4071a841532fbbe4ec7e",
            "82aa7229768b4273842bd98bce03ba74",
            "339c4ad2cdef42ada5cd870580612ef4",
            "32b33e33414a4ff7a46d17ad7a1850f9",
            "0aa53819e22542b8a7104dad75ec06ae",
            "d48165408c394fa694a7986936513c72",
            "aac1e0dbe261499b8306c68a3d774795",
            "d5c34468706c4ffbadeab2054f2c380a",
            "b70e307e50594e36852cdd69bcb6f8ef",
            "0b7a763755fa4c118f332cd358059cd5",
            "85d227dd88c64e34999b62b344d9733b",
            "e809a9b9c68148d097e92e746d147e1e",
            "48878dfd7f8e4fb291568531e88d5222",
            "6cb84b306df146d89b6c4d7f66b7b870",
            "c93539399c244581bc29342118a69682",
            "ca1c003f29ee43c79c46abe7a3d50082",
            "5f07ca5be1374d37bf50bcd31c451bfd",
            "543ef8b7c441414ab753c292c6f3992e",
            "36f5541108384a26a04f4acb5f8d8daa",
            "d609d330889b4ea79f8289ff2cffbd1c",
            "4e03e7a428e6429d9d9831a56473ae31",
            "dfe617ac29bf493e8f967dd27abe283d",
            "8066bfc07c344fc1a51369bb8b76c9c3",
            "08de7cc0cdf444c89ca0c72a661e3a03",
            "539640c6420d40fc8385eecb38014fbe",
            "976d7e43db2e4d16b6ba485985bdf9d9",
            "9db9b75709a64db9b6bbd54ed1275567",
            "352c466186514345bff3912fab77648d",
            "5ba79e24dbe44ea29f3b90c5e0a8436a",
            "21ebc458d9134460993996b0fcd1be01",
            "325ff4b4130944cab8447d4cf271db4e",
            "11ace15e029b4bd5b6d334163a774c53",
            "ba6828a14eed420aae5a29851621139a",
            "77f8a6ddd0f5477581c2e3dcc3771375",
            "281b3931c66a467e9db4cb8cb0e63a8e",
            "a0de70d00e8c4677b233c8bb00c000fa",
            "93a63b08635b4de9842c38785af031a0",
            "0ec8adeb059f481aab6ac6ff8a77ef25",
            "955340af330543279083c7578a365ece",
            "c7b680d09a7d4aa3b43aaadecdf86b53",
            "dbb52b00eff84f09b5d33b92a3e2ce26",
            "354aa196a6234ab19c57c1efd68f81c5",
            "4aeebd530c954dd590e4daa8001d0051",
            "39b6a64f23ce45baa06c723e0052beeb",
            "383373fca6664ca3ac6bc4ce9d9f5f85",
            "6eec83a060f3460e9b4ee653a8db7d99",
            "f238f88304244c24bfcdf36e61b69a80",
            "f67f504e26dc459db80a6ee822753344",
            "4fdb660e9fe64e7b861d588726d54185"
          ],
          "height": 1000
        },
        "id": "Glm9HBan7WPJ",
        "outputId": "593537bc-5d3a-471f-8f5e-4d643dee227f"
      },
      "outputs": [
        {
          "output_type": "stream",
          "name": "stdout",
          "text": [
            "Looking in indexes: https://pypi.org/simple, https://us-python.pkg.dev/colab-wheels/public/simple/\n",
            "Collecting sentence_transformers\n",
            "  Downloading sentence-transformers-2.2.1.tar.gz (84 kB)\n",
            "\u001b[K     |████████████████████████████████| 84 kB 2.0 MB/s \n",
            "\u001b[?25hCollecting transformers<5.0.0,>=4.6.0\n",
            "  Downloading transformers-4.20.1-py3-none-any.whl (4.4 MB)\n",
            "\u001b[K     |████████████████████████████████| 4.4 MB 40.2 MB/s \n",
            "\u001b[?25hRequirement already satisfied: tqdm in /usr/local/lib/python3.7/dist-packages (from sentence_transformers) (4.64.0)\n",
            "Requirement already satisfied: torch>=1.6.0 in /usr/local/lib/python3.7/dist-packages (from sentence_transformers) (1.11.0+cu113)\n",
            "Requirement already satisfied: torchvision in /usr/local/lib/python3.7/dist-packages (from sentence_transformers) (0.12.0+cu113)\n",
            "Requirement already satisfied: numpy in /usr/local/lib/python3.7/dist-packages (from sentence_transformers) (1.21.6)\n",
            "Requirement already satisfied: scikit-learn in /usr/local/lib/python3.7/dist-packages (from sentence_transformers) (1.0.2)\n",
            "Requirement already satisfied: scipy in /usr/local/lib/python3.7/dist-packages (from sentence_transformers) (1.4.1)\n",
            "Requirement already satisfied: nltk in /usr/local/lib/python3.7/dist-packages (from sentence_transformers) (3.7)\n",
            "Collecting sentencepiece\n",
            "  Downloading sentencepiece-0.1.96-cp37-cp37m-manylinux_2_17_x86_64.manylinux2014_x86_64.whl (1.2 MB)\n",
            "\u001b[K     |████████████████████████████████| 1.2 MB 44.4 MB/s \n",
            "\u001b[?25hCollecting huggingface-hub>=0.8.1\n",
            "  Downloading huggingface_hub-0.8.1-py3-none-any.whl (101 kB)\n",
            "\u001b[K     |████████████████████████████████| 101 kB 10.9 MB/s \n",
            "\u001b[?25hRequirement already satisfied: typing-extensions>=3.7.4.3 in /usr/local/lib/python3.7/dist-packages (from huggingface-hub>=0.8.1->sentence_transformers) (4.1.1)\n",
            "Requirement already satisfied: packaging>=20.9 in /usr/local/lib/python3.7/dist-packages (from huggingface-hub>=0.8.1->sentence_transformers) (21.3)\n",
            "Requirement already satisfied: importlib-metadata in /usr/local/lib/python3.7/dist-packages (from huggingface-hub>=0.8.1->sentence_transformers) (4.11.4)\n",
            "Requirement already satisfied: filelock in /usr/local/lib/python3.7/dist-packages (from huggingface-hub>=0.8.1->sentence_transformers) (3.7.1)\n",
            "Requirement already satisfied: requests in /usr/local/lib/python3.7/dist-packages (from huggingface-hub>=0.8.1->sentence_transformers) (2.23.0)\n",
            "Collecting pyyaml>=5.1\n",
            "  Downloading PyYAML-6.0-cp37-cp37m-manylinux_2_5_x86_64.manylinux1_x86_64.manylinux_2_12_x86_64.manylinux2010_x86_64.whl (596 kB)\n",
            "\u001b[K     |████████████████████████████████| 596 kB 37.1 MB/s \n",
            "\u001b[?25hRequirement already satisfied: pyparsing!=3.0.5,>=2.0.2 in /usr/local/lib/python3.7/dist-packages (from packaging>=20.9->huggingface-hub>=0.8.1->sentence_transformers) (3.0.9)\n",
            "Requirement already satisfied: regex!=2019.12.17 in /usr/local/lib/python3.7/dist-packages (from transformers<5.0.0,>=4.6.0->sentence_transformers) (2022.6.2)\n",
            "Collecting tokenizers!=0.11.3,<0.13,>=0.11.1\n",
            "  Downloading tokenizers-0.12.1-cp37-cp37m-manylinux_2_12_x86_64.manylinux2010_x86_64.whl (6.6 MB)\n",
            "\u001b[K     |████████████████████████████████| 6.6 MB 39.4 MB/s \n",
            "\u001b[?25hRequirement already satisfied: zipp>=0.5 in /usr/local/lib/python3.7/dist-packages (from importlib-metadata->huggingface-hub>=0.8.1->sentence_transformers) (3.8.0)\n",
            "Requirement already satisfied: click in /usr/local/lib/python3.7/dist-packages (from nltk->sentence_transformers) (7.1.2)\n",
            "Requirement already satisfied: joblib in /usr/local/lib/python3.7/dist-packages (from nltk->sentence_transformers) (1.1.0)\n",
            "Requirement already satisfied: idna<3,>=2.5 in /usr/local/lib/python3.7/dist-packages (from requests->huggingface-hub>=0.8.1->sentence_transformers) (2.10)\n",
            "Requirement already satisfied: chardet<4,>=3.0.2 in /usr/local/lib/python3.7/dist-packages (from requests->huggingface-hub>=0.8.1->sentence_transformers) (3.0.4)\n",
            "Requirement already satisfied: certifi>=2017.4.17 in /usr/local/lib/python3.7/dist-packages (from requests->huggingface-hub>=0.8.1->sentence_transformers) (2022.6.15)\n",
            "Requirement already satisfied: urllib3!=1.25.0,!=1.25.1,<1.26,>=1.21.1 in /usr/local/lib/python3.7/dist-packages (from requests->huggingface-hub>=0.8.1->sentence_transformers) (1.24.3)\n",
            "Requirement already satisfied: threadpoolctl>=2.0.0 in /usr/local/lib/python3.7/dist-packages (from scikit-learn->sentence_transformers) (3.1.0)\n",
            "Requirement already satisfied: pillow!=8.3.*,>=5.3.0 in /usr/local/lib/python3.7/dist-packages (from torchvision->sentence_transformers) (7.1.2)\n",
            "Building wheels for collected packages: sentence-transformers\n",
            "  Building wheel for sentence-transformers (setup.py) ... \u001b[?25l\u001b[?25hdone\n",
            "  Created wheel for sentence-transformers: filename=sentence_transformers-2.2.1-py3-none-any.whl size=125774 sha256=67d66b2df005a00cd242f682eb3a9332680de230a7a0df553fcd4d27924146d0\n",
            "  Stored in directory: /root/.cache/pip/wheels/58/27/2f/708b4f002c226e57b6243769da345c650633175c7634f93365\n",
            "Successfully built sentence-transformers\n",
            "Installing collected packages: pyyaml, tokenizers, huggingface-hub, transformers, sentencepiece, sentence-transformers\n",
            "  Attempting uninstall: pyyaml\n",
            "    Found existing installation: PyYAML 3.13\n",
            "    Uninstalling PyYAML-3.13:\n",
            "      Successfully uninstalled PyYAML-3.13\n",
            "Successfully installed huggingface-hub-0.8.1 pyyaml-6.0 sentence-transformers-2.2.1 sentencepiece-0.1.96 tokenizers-0.12.1 transformers-4.20.1\n"
          ]
        },
        {
          "output_type": "display_data",
          "data": {
            "text/plain": [
              "Downloading:   0%|          | 0.00/391 [00:00<?, ?B/s]"
            ],
            "application/vnd.jupyter.widget-view+json": {
              "version_major": 2,
              "version_minor": 0,
              "model_id": "73d8e7d3b0614f6a9fef27e63c513f5f"
            }
          },
          "metadata": {}
        },
        {
          "output_type": "display_data",
          "data": {
            "text/plain": [
              "Downloading:   0%|          | 0.00/190 [00:00<?, ?B/s]"
            ],
            "application/vnd.jupyter.widget-view+json": {
              "version_major": 2,
              "version_minor": 0,
              "model_id": "671c155c1c5942ce9389d85b50259654"
            }
          },
          "metadata": {}
        },
        {
          "output_type": "display_data",
          "data": {
            "text/plain": [
              "Downloading:   0%|          | 0.00/3.95k [00:00<?, ?B/s]"
            ],
            "application/vnd.jupyter.widget-view+json": {
              "version_major": 2,
              "version_minor": 0,
              "model_id": "169da6b4c9204ac1accc40d052bcb599"
            }
          },
          "metadata": {}
        },
        {
          "output_type": "display_data",
          "data": {
            "text/plain": [
              "Downloading:   0%|          | 0.00/2.00 [00:00<?, ?B/s]"
            ],
            "application/vnd.jupyter.widget-view+json": {
              "version_major": 2,
              "version_minor": 0,
              "model_id": "3403c31540954dfc8db1c42f715bc96e"
            }
          },
          "metadata": {}
        },
        {
          "output_type": "display_data",
          "data": {
            "text/plain": [
              "Downloading:   0%|          | 0.00/625 [00:00<?, ?B/s]"
            ],
            "application/vnd.jupyter.widget-view+json": {
              "version_major": 2,
              "version_minor": 0,
              "model_id": "f11823d1271f42d78e7e3217be26a414"
            }
          },
          "metadata": {}
        },
        {
          "output_type": "display_data",
          "data": {
            "text/plain": [
              "Downloading:   0%|          | 0.00/122 [00:00<?, ?B/s]"
            ],
            "application/vnd.jupyter.widget-view+json": {
              "version_major": 2,
              "version_minor": 0,
              "model_id": "4dbb8a6d71d649dbb5a6be824a04f0be"
            }
          },
          "metadata": {}
        },
        {
          "output_type": "display_data",
          "data": {
            "text/plain": [
              "Downloading:   0%|          | 0.00/438M [00:00<?, ?B/s]"
            ],
            "application/vnd.jupyter.widget-view+json": {
              "version_major": 2,
              "version_minor": 0,
              "model_id": "d49f5a0af88c420ab6bc880c309049f1"
            }
          },
          "metadata": {}
        },
        {
          "output_type": "display_data",
          "data": {
            "text/plain": [
              "Downloading:   0%|          | 0.00/53.0 [00:00<?, ?B/s]"
            ],
            "application/vnd.jupyter.widget-view+json": {
              "version_major": 2,
              "version_minor": 0,
              "model_id": "19e52d2d23514470acbcb2e94fe0f028"
            }
          },
          "metadata": {}
        },
        {
          "output_type": "display_data",
          "data": {
            "text/plain": [
              "Downloading:   0%|          | 0.00/112 [00:00<?, ?B/s]"
            ],
            "application/vnd.jupyter.widget-view+json": {
              "version_major": 2,
              "version_minor": 0,
              "model_id": "79368ab3e79a483aae4e52806d1f6bec"
            }
          },
          "metadata": {}
        },
        {
          "output_type": "display_data",
          "data": {
            "text/plain": [
              "Downloading:   0%|          | 0.00/466k [00:00<?, ?B/s]"
            ],
            "application/vnd.jupyter.widget-view+json": {
              "version_major": 2,
              "version_minor": 0,
              "model_id": "d48165408c394fa694a7986936513c72"
            }
          },
          "metadata": {}
        },
        {
          "output_type": "display_data",
          "data": {
            "text/plain": [
              "Downloading:   0%|          | 0.00/399 [00:00<?, ?B/s]"
            ],
            "application/vnd.jupyter.widget-view+json": {
              "version_major": 2,
              "version_minor": 0,
              "model_id": "5f07ca5be1374d37bf50bcd31c451bfd"
            }
          },
          "metadata": {}
        },
        {
          "output_type": "display_data",
          "data": {
            "text/plain": [
              "Downloading:   0%|          | 0.00/232k [00:00<?, ?B/s]"
            ],
            "application/vnd.jupyter.widget-view+json": {
              "version_major": 2,
              "version_minor": 0,
              "model_id": "352c466186514345bff3912fab77648d"
            }
          },
          "metadata": {}
        },
        {
          "output_type": "display_data",
          "data": {
            "text/plain": [
              "Downloading:   0%|          | 0.00/229 [00:00<?, ?B/s]"
            ],
            "application/vnd.jupyter.widget-view+json": {
              "version_major": 2,
              "version_minor": 0,
              "model_id": "955340af330543279083c7578a365ece"
            }
          },
          "metadata": {}
        }
      ],
      "source": [
        "!pip install sentence_transformers\n",
        "from sentence_transformers import SentenceTransformer,util\n",
        "sbert_model = SentenceTransformer('bert-base-nli-mean-tokens')"
      ]
    },
    {
      "cell_type": "code",
      "execution_count": null,
      "metadata": {
        "id": "0YwKqaN53ZdB"
      },
      "outputs": [],
      "source": [
        "from sklearn.metrics.pairwise import cosine_similarity\n",
        "\n",
        "def bert(id,job_requirement_path):\n",
        "  document_path = fetch_resume_path(file_names,candidates['First Name'][id],candidates['Last Name'][id],text_path)\n",
        "  document_embeddings = sbert_model.encode([tokenize(document_path),tokenize(job_requirement_path)])\n",
        "  #document_embeddings = sbert_model.encode(tokenize(document_path))\n",
        "  #job_embeddings = sbert_model.encode(tokenize(job_requirement_path))\n",
        "  return cosine_similarity(document_embeddings)[0][1]"
      ]
    },
    {
      "cell_type": "code",
      "execution_count": null,
      "metadata": {
        "colab": {
          "base_uri": "https://localhost:8080/"
        },
        "id": "keCG3gIL5JH9",
        "outputId": "35341085-1eba-4e9c-e4d0-5711555d2fe9"
      },
      "outputs": [
        {
          "output_type": "stream",
          "name": "stdout",
          "text": [
            "Looking in indexes: https://pypi.org/simple, https://us-python.pkg.dev/colab-wheels/public/simple/\n",
            "Collecting textdistance\n",
            "  Downloading textdistance-4.2.2-py3-none-any.whl (28 kB)\n",
            "Installing collected packages: textdistance\n",
            "Successfully installed textdistance-4.2.2\n"
          ]
        }
      ],
      "source": [
        "!pip install textdistance \n",
        "import textdistance as td\n",
        "\n",
        "\n",
        "def textdistance(id, job_requirement_path):\n",
        "    document_path = fetch_resume_path(file_names,candidates['First Name'][id],candidates['Last Name'][id],text_path)\n",
        "    job_des = tokenize(job_requirement_path)\n",
        "    j = td.jaccard.similarity(document_path, job_des)\n",
        "    s = td.sorensen_dice.similarity(document_path, job_des)\n",
        "    c = td.cosine.similarity(document_path, job_des)\n",
        "    o = td.overlap.normalized_similarity(document_path, job_des)\n",
        "    total = (j+s+c+o)/4\n",
        "    # total = (s+o)/2\n",
        "    return total*100"
      ]
    },
    {
      "cell_type": "code",
      "execution_count": null,
      "metadata": {
        "colab": {
          "base_uri": "https://localhost:8080/"
        },
        "id": "SnWXFw1DD_VC",
        "outputId": "d61e8646-f2ec-4426-9208-b8c09d5312c6"
      },
      "outputs": [
        {
          "output_type": "stream",
          "name": "stdout",
          "text": [
            "Dareen Hussein\n",
            "Textdistances:  1.6951432802271367\n",
            "GLoVe:  1.0313395403432224\n",
            "TFiDF:  0.15390283546757286\n",
            "GLoVe + TFiDF:  0.934198471662711\n",
            "Bert: 0.78554344\n"
          ]
        }
      ],
      "source": [
        "#Test \n",
        "id = 106\n",
        "print(candidates['First Name'][id],candidates['Last Name'][id])\n",
        "print(\"Textdistances: \", textdistance(id, job_requirement_path))\n",
        "print(\"GLoVe: \", GLoVe(id,job_requirement_path))\n",
        "print(\"TFiDF: \", TFiDF(id,job_requirement_path))\n",
        "print(\"GLoVe + TFiDF: \" , GLoVe_TFiDF(id,job_requirement_path))\n",
        "print(\"Bert:\" ,bert(id,job_requirement_path))"
      ]
    },
    {
      "cell_type": "markdown",
      "source": [
        "#Experimentation"
      ],
      "metadata": {
        "id": "uQzBw1a6JRkc"
      }
    },
    {
      "cell_type": "code",
      "source": [
        "#print(glove_model['NLTK'])"
      ],
      "metadata": {
        "id": "o--_QadAj07p"
      },
      "execution_count": null,
      "outputs": []
    },
    {
      "cell_type": "markdown",
      "source": [
        "##Timing Methods"
      ],
      "metadata": {
        "id": "XdoycPVECDxL"
      }
    },
    {
      "cell_type": "code",
      "source": [
        "bert_time=[]\n",
        "TFiDF_time=[]\n",
        "GLoVe_TFiDF_time=[]\n",
        "textdistance_time=[]\n",
        "GLoVe_time=[]\n",
        "test = 10\n",
        "for i in range(test):\n",
        "  time_start = time() \n",
        "\n",
        "  for id in range(len(file_names)):\n",
        "    try:\n",
        "      temp = GLoVe(id,job_requirement_path)\n",
        "    except:\n",
        "      continue\n",
        "  time_end = time()  \n",
        "  GLoVe_time.append(time_end-time_start)\n",
        "  time_start = time() \n",
        "  for id in range(len(file_names)):\n",
        "    try:\n",
        "      temp = TFiDF(id,job_requirement_path)\n",
        "    except:\n",
        "      continue\n",
        "  time_end = time()  \n",
        "  TFiDF_time.append(time_end-time_start)\n",
        "\n",
        "  time_start = time() \n",
        "  for id in range(len(file_names)):\n",
        "    try:\n",
        "      temp = GLoVe_TFiDF(id,job_requirement_path)\n",
        "    except:\n",
        "      continue     \n",
        "  time_end = time()  \n",
        "  GLoVe_TFiDF_time.append(time_end-time_start)\n",
        "\n",
        "\n",
        "  time_start = time() \n",
        "  for id in range(len(file_names)):\n",
        "    try:\n",
        "      temp = textdistance(id, job_requirement_path)\n",
        "    except:\n",
        "      continue    \n",
        "  time_end = time()  \n",
        "  textdistance_time.append(time_end-time_start) \n",
        "\n",
        "\n",
        "  time_start = time() \n",
        "  for id in range(len(file_names)):\n",
        "    try:\n",
        "      temp = bert(id,job_requirement_path)\n",
        "    except:\n",
        "      continue      \n",
        "  time_end = time()  \n",
        "  bert_time.append(time_end-time_start)\n"
      ],
      "metadata": {
        "id": "sLPkQfokCHKT"
      },
      "execution_count": null,
      "outputs": []
    },
    {
      "cell_type": "markdown",
      "metadata": {
        "id": "5xgxFyEFEx3c"
      },
      "source": [
        "##Visualization of Performance"
      ]
    },
    {
      "cell_type": "code",
      "execution_count": null,
      "metadata": {
        "id": "l5RmSg-FF8Oj"
      },
      "outputs": [],
      "source": [
        "import warnings\n",
        "warnings.filterwarnings('ignore')"
      ]
    },
    {
      "cell_type": "code",
      "execution_count": null,
      "metadata": {
        "id": "og4TSQRoEG1P"
      },
      "outputs": [],
      "source": [
        "import matplotlib.pyplot as plt\n",
        "GLoVe_Values = []\n",
        "TFiDF_Values = []\n",
        "GLoVe_TFiDF_Values = []\n",
        "textdistance_values = []\n",
        "bert_values = []\n",
        "for i in range(100):\n",
        "  id = i\n",
        "  try:\n",
        "    GLoVe_Values.append(GLoVe(id,job_requirement_path))\n",
        "    TFiDF_Values.append(TFiDF(id,job_requirement_path))\n",
        "    GLoVe_TFiDF_Values.append(GLoVe_TFiDF(id,job_requirement_path))\n",
        "    textdistance_values.append(textdistance(id, job_requirement_path))\n",
        "    bert_values.append(bert(id, job_requirement_path))\n",
        "  except:\n",
        "    continue\n"
      ]
    },
    {
      "cell_type": "code",
      "execution_count": null,
      "metadata": {
        "id": "TNENQ-ukI8ub"
      },
      "outputs": [],
      "source": [
        "i = len(GLoVe_Values) - 1\n",
        "while i > 0:\n",
        "  if TFiDF_Values[i] == 0.0:\n",
        "    print(i)\n",
        "    GLoVe_Values.pop(i)\n",
        "    TFiDF_Values.pop(i)\n",
        "    GLoVe_TFiDF_Values.pop(i)\n",
        "    textdistance_values.pop(i)\n",
        "    bert_values.pop(i)\n",
        "    i -= 1\n",
        "  i -= 1"
      ]
    },
    {
      "cell_type": "code",
      "execution_count": null,
      "metadata": {
        "colab": {
          "base_uri": "https://localhost:8080/",
          "height": 265
        },
        "id": "HzTM5BCDE3Pb",
        "outputId": "e4aab1ac-0bbe-43ca-9e78-7bcc20893268"
      },
      "outputs": [
        {
          "output_type": "display_data",
          "data": {
            "text/plain": [
              "<Figure size 432x288 with 1 Axes>"
            ],
            "image/png": "[encoded data removed]"
          },
          "metadata": {
            "needs_background": "light"
          }
        }
      ],
      "source": [
        "plt.plot(GLoVe_Values,label = \"GLoVe\")\n",
        "plt.plot(TFiDF_Values,label = \"TFiDF\")\n",
        "plt.plot(GLoVe_TFiDF_Values , label = \"GLoVe + TFiDF\")\n",
        "plt.plot(textdistance_values,label = \"Textdistance\")\n",
        "plt.plot(bert_values,label = \"Bert\")\n",
        "plt.legend()\n",
        "plt.show()"
      ]
    },
    {
      "cell_type": "markdown",
      "metadata": {
        "id": "AajyctzSezgC"
      },
      "source": [
        "##Error Analysis"
      ]
    },
    {
      "cell_type": "code",
      "execution_count": null,
      "metadata": {
        "id": "6BoF8BhJjfga"
      },
      "outputs": [],
      "source": [
        "import matplotlib.pyplot as plt\n",
        "import warnings\n",
        "warnings.filterwarnings('ignore')"
      ]
    },
    {
      "cell_type": "code",
      "execution_count": null,
      "metadata": {
        "id": "6YxpqSs9e218"
      },
      "outputs": [],
      "source": [
        "GLoVe_Values = {}\n",
        "TFiDF_Values = {}\n",
        "GLoVe_TFiDF_Values = {}\n",
        "textdistance_values = {}\n",
        "bert_values = {}\n",
        "name_error = []\n",
        "for i in range(len(file_names)):\n",
        "  id = i\n",
        "  try:\n",
        "    GLoVe_Values[i] = GLoVe(id,job_requirement_path)\n",
        "    TFiDF_Values[i] = TFiDF(id,job_requirement_path)\n",
        "    GLoVe_TFiDF_Values[i] = GLoVe_TFiDF(id,job_requirement_path)\n",
        "    textdistance_values[i] = textdistance(id, job_requirement_path)\n",
        "    bert_values[i] = bert(id,job_requirement_path)\n",
        "  except:\n",
        "    name_error.append(i)\n",
        "    continue"
      ]
    },
    {
      "cell_type": "code",
      "execution_count": null,
      "metadata": {
        "colab": {
          "base_uri": "https://localhost:8080/"
        },
        "id": "GLDT6QxIkSXV",
        "outputId": "0c714529-a72a-472b-969a-8b8065f4a0b9"
      },
      "outputs": [
        {
          "output_type": "stream",
          "name": "stdout",
          "text": [
            "[18, 41, 70, 93, 116, 131, 163, 166, 172, 173, 174, 198, 199, 200, 201, 202, 203, 204, 205, 206, 207, 208, 209, 210, 211, 212, 213, 214, 215, 216, 217, 218, 219, 220, 221, 222, 223, 224, 225, 226, 227, 228, 229, 230, 231, 232, 233, 234, 235, 236, 237, 238, 239, 240, 241, 242, 243, 244, 245, 246, 247, 248, 249, 250, 251, 252, 253, 254, 255, 256, 257, 258, 259, 260, 261, 262, 263, 264, 265, 266, 267, 268, 269, 270, 271, 272, 273, 274, 275, 276, 277, 278, 279, 280, 281, 282, 283, 284, 285, 286, 287, 288, 289, 290, 291, 292, 293, 294, 295, 296, 297, 298, 299, 300, 301, 302, 303, 304, 305, 306, 307, 308, 309, 310, 311, 312, 313, 314, 315, 316, 317, 318, 319, 320, 321, 322, 323, 324, 325, 326, 327, 328, 329, 330, 331, 332, 333, 334, 335, 336, 337, 338, 339, 340, 341, 342, 343, 344, 345, 346, 347, 348, 349, 350, 351, 352, 353, 354, 355, 356, 357, 358, 359, 360, 361, 362, 363, 364, 365, 366, 367, 368, 369, 370, 371, 372, 373, 374, 375, 376, 377, 378, 379, 380, 381, 382, 383, 384, 385, 386, 387, 388, 389, 390, 391, 392, 393, 394, 395, 396, 397, 398, 399, 400, 401, 402, 403, 404, 405, 406, 407, 408, 409, 410, 411, 412, 413, 414, 415, 416, 417, 418, 419, 420, 421, 422, 423, 424, 425, 426, 427, 428, 429, 430, 431, 432, 433, 434, 435, 436, 437, 438, 439, 440, 441, 442, 443, 444, 445]\n"
          ]
        }
      ],
      "source": [
        "print(name_error)"
      ]
    },
    {
      "cell_type": "code",
      "execution_count": null,
      "metadata": {
        "id": "CzKxIURgiSRe"
      },
      "outputs": [],
      "source": [
        "#Adding glove and tfidf rankings\n",
        "TFiDF_GLoVe_Values = TFiDF_Values.copy()\n",
        "for key,value in GLoVe_Values.items():\n",
        "  #print(key,value)\n",
        "  TFiDF_GLoVe_Values[key] += value\n",
        "  \n",
        "TFiDF_GLoVe_rankings = list(dict(sorted(TFiDF_GLoVe_Values.items(), key=lambda x: x[1],reverse = True)).keys())"
      ]
    },
    {
      "cell_type": "code",
      "execution_count": null,
      "metadata": {
        "id": "uQy9x-Jujtt7"
      },
      "outputs": [],
      "source": [
        "GLoVe_Rankings = list(dict(sorted(GLoVe_Values.items(), key=lambda x: x[1],reverse = True)).keys())\n",
        "TFiDF_Rankings = list(dict(sorted(TFiDF_Values.items(), key=lambda x: x[1],reverse = True)).keys())\n",
        "GLoVe_TFiDF_Rankings = list(dict(sorted(TFiDF_Values.items(), key=lambda x: x[1],reverse = True)).keys())\n",
        "textdistance_Rankings = list(dict(sorted(textdistance_values.items(), key=lambda x: x[1],reverse = True)).keys())\n",
        "bert_Rankings = list(dict(sorted(bert_values.items(), key=lambda x: x[1],reverse = True)).keys())"
      ]
    },
    {
      "cell_type": "code",
      "execution_count": null,
      "metadata": {
        "colab": {
          "base_uri": "https://localhost:8080/"
        },
        "id": "DpY5lYd-qByT",
        "outputId": "21a5f183-2891-47ce-8326-fab74ce10232"
      },
      "outputs": [
        {
          "output_type": "stream",
          "name": "stdout",
          "text": [
            "[55, 60, 8, 91, 57, 124, 151, 0, 97, 100, 33, 105, 185, 86, 132, 99, 79, 74, 187, 28, 46, 92, 143, 186, 114, 36, 89, 103, 80, 144, 196, 77, 159, 167, 24, 66, 129, 19, 64, 154, 176, 130, 160, 137, 21, 6, 194, 30, 56, 45, 94, 13, 148, 12, 108, 171, 1, 78, 134, 127, 188, 192, 115, 110, 147, 169, 63, 191, 72, 35, 71, 44, 126, 3, 195, 68, 106, 96, 48, 4, 168, 120, 76, 9, 15, 38, 26, 153, 61, 23, 50, 150, 37, 180, 40, 27, 59, 111, 75, 122, 157, 142, 88, 22, 121, 25, 177, 82, 161, 69, 164, 117, 20, 67, 17, 85, 136, 14, 112, 102, 95, 162, 51, 190, 11, 101, 53, 182, 7, 141, 181, 125, 42, 138, 5, 54, 152, 113, 140, 16, 39, 178, 62, 155, 98, 32, 128, 119, 29, 81, 65, 58, 90, 118, 43, 146, 135, 170, 149, 189, 139, 183, 145, 133, 52, 123, 184, 10, 107, 87, 179, 73, 109, 49, 31, 197, 2, 84, 158, 193, 47, 104, 156, 83, 34, 175, 165] \n",
            " [185, 60, 0, 124, 114, 187, 64, 129, 151, 100, 63, 191, 8, 77, 55, 56, 91, 80, 137, 6, 35, 113, 25, 97, 167, 57, 176, 147, 159, 3, 162, 92, 79, 66, 178, 102, 72, 15, 28, 24, 36, 33, 76, 160, 1, 108, 121, 144, 44, 105, 59, 46, 42, 74, 134, 192, 86, 69, 21, 78, 171, 106, 143, 71, 132, 196, 95, 103, 51, 150, 50, 67, 154, 112, 12, 19, 99, 65, 130, 186, 11, 101, 168, 45, 88, 188, 96, 16, 4, 127, 26, 68, 170, 31, 61, 115, 145, 62, 183, 85, 164, 157, 89, 120, 17, 126, 23, 43, 20, 136, 189, 47, 153, 7, 37, 94, 14, 9, 140, 180, 195, 75, 194, 146, 169, 148, 182, 177, 122, 81, 30, 161, 142, 104, 53, 190, 141, 84, 54, 149, 29, 49, 32, 52, 40, 158, 155, 27, 139, 179, 22, 197, 133, 13, 10, 98, 135, 119, 128, 152, 110, 5, 82, 181, 90, 2, 123, 58, 138, 117, 83, 111, 39, 125, 193, 107, 48, 118, 38, 109, 87, 175, 34, 184, 156, 73, 165] \n",
            " [185, 60, 0, 124, 114, 187, 64, 129, 151, 100, 63, 191, 8, 77, 55, 56, 91, 80, 137, 6, 35, 113, 25, 97, 167, 57, 176, 147, 159, 3, 162, 92, 79, 66, 178, 102, 72, 15, 28, 24, 36, 33, 76, 160, 1, 108, 121, 144, 44, 105, 59, 46, 42, 74, 134, 192, 86, 69, 21, 78, 171, 106, 143, 71, 132, 196, 95, 103, 51, 150, 50, 67, 154, 112, 12, 19, 99, 65, 130, 186, 11, 101, 168, 45, 88, 188, 96, 16, 4, 127, 26, 68, 170, 31, 61, 115, 145, 62, 183, 85, 164, 157, 89, 120, 17, 126, 23, 43, 20, 136, 189, 47, 153, 7, 37, 94, 14, 9, 140, 180, 195, 75, 194, 146, 169, 148, 182, 177, 122, 81, 30, 161, 142, 104, 53, 190, 141, 84, 54, 149, 29, 49, 32, 52, 40, 158, 155, 27, 139, 179, 22, 197, 133, 13, 10, 98, 135, 119, 128, 152, 110, 5, 82, 181, 90, 2, 123, 58, 138, 117, 83, 111, 39, 125, 193, 107, 48, 118, 38, 109, 87, 175, 34, 184, 156, 73, 165] \n",
            " [40, 122, 89, 169, 161, 181, 196, 35, 37, 117, 160, 165, 168, 42, 56, 105, 120, 134, 146, 156, 159, 167, 178, 194, 24, 25, 66, 98, 99, 107, 113, 137, 179, 182, 8, 12, 36, 119, 135, 136, 143, 147, 162, 188, 9, 21, 30, 48, 49, 57, 73, 75, 95, 96, 106, 108, 123, 170, 186, 190, 58, 71, 97, 102, 133, 139, 140, 149, 23, 114, 126, 138, 145, 171, 195, 111, 121, 124, 158, 183, 100, 152, 180, 128, 144, 15, 150, 164, 175, 68, 94, 157, 192, 5, 118, 141, 142, 22, 184, 76, 151, 155, 154, 72, 103, 127, 2, 20, 33, 185, 29, 32, 88, 104, 6, 28, 47, 65, 110, 176, 197, 11, 26, 43, 51, 53, 69, 82, 129, 148, 1, 59, 64, 80, 83, 85, 189, 16, 19, 55, 63, 77, 191, 14, 39, 62, 132, 177, 193, 67, 86, 112, 13, 27, 34, 87, 187, 54, 90, 130, 115, 46, 79, 44, 50, 84, 101, 17, 109, 7, 61, 31, 60, 125, 78, 91, 0, 74, 81, 38, 92, 45, 3, 10, 52, 4, 153] \n",
            " [126, 22, 154, 40, 155, 54, 149, 108, 53, 196, 7, 183, 189, 51, 136, 31, 184, 104, 62, 162, 73, 146, 186, 65, 72, 76, 2, 148, 63, 191, 6, 157, 164, 161, 34, 49, 103, 64, 95, 16, 147, 44, 56, 188, 5, 24, 0, 79, 10, 160, 121, 32, 169, 38, 170, 71, 68, 4, 88, 159, 12, 178, 182, 122, 133, 144, 48, 28, 85, 50, 55, 165, 75, 17, 158, 26, 181, 19, 120, 69, 100, 106, 109, 194, 134, 110, 195, 36, 124, 27, 89, 132, 152, 177, 47, 140, 13, 187, 35, 91, 113, 1, 153, 193, 143, 117, 137, 82, 119, 3, 175, 197, 39, 74, 176, 81, 80, 29, 107, 90, 138, 112, 43, 180, 58, 77, 37, 66, 59, 15, 87, 156, 52, 96, 185, 192, 8, 33, 25, 92, 111, 67, 83, 42, 127, 145, 168, 114, 129, 105, 139, 23, 171, 30, 118, 150, 135, 46, 115, 125, 128, 141, 14, 78, 60, 123, 9, 57, 142, 190, 45, 94, 21, 61, 101, 86, 98, 84, 11, 151, 130, 97, 102, 20, 179, 99, 167]\n"
          ]
        }
      ],
      "source": [
        "print(GLoVe_Rankings,'\\n',TFiDF_Rankings,'\\n',GLoVe_TFiDF_Rankings,'\\n',textdistance_Rankings,'\\n',bert_Rankings)"
      ]
    },
    {
      "cell_type": "code",
      "execution_count": null,
      "metadata": {
        "colab": {
          "base_uri": "https://localhost:8080/"
        },
        "id": "1OqDM5bxdXEo",
        "outputId": "d371fa43-dd23-44e7-f858-8f2f962965aa"
      },
      "outputs": [
        {
          "output_type": "stream",
          "name": "stdout",
          "text": [
            "First: 55 \n",
            " 185 \n",
            " 126 \n",
            " 40\n",
            "Last: 165 \n",
            " 165 \n",
            " 167 \n",
            " 153\n"
          ]
        }
      ],
      "source": [
        "print('First:' ,GLoVe_Rankings[0],'\\n',TFiDF_Rankings[0],'\\n',bert_Rankings[0],'\\n',textdistance_Rankings[0])\n",
        "print('Last:' ,GLoVe_Rankings[-1],'\\n',TFiDF_Rankings[-1],'\\n',bert_Rankings[-1],'\\n',textdistance_Rankings[-1])"
      ]
    },
    {
      "cell_type": "code",
      "execution_count": null,
      "metadata": {
        "colab": {
          "base_uri": "https://localhost:8080/"
        },
        "id": "wpJrbeTB9Ch5",
        "outputId": "712aa665-abec-4a00-f2fe-7c0ea97801b2"
      },
      "outputs": [
        {
          "output_type": "stream",
          "name": "stdout",
          "text": [
            "Ehsan Matinfar\n",
            "138 37 75\n"
          ]
        }
      ],
      "source": [
        "id = 19\n",
        "\n",
        "print(candidates['First Name'][id],candidates['Last Name'][id])\n",
        "print(textdistance_Rankings.index(id),GLoVe_Rankings.index(id),TFiDF_Rankings.index(id))"
      ]
    },
    {
      "cell_type": "code",
      "source": [
        "print(RBO(textdistance_Rankings,TFiDF_Rankings))"
      ],
      "metadata": {
        "colab": {
          "base_uri": "https://localhost:8080/"
        },
        "id": "9iSGU4f9ZdQa",
        "outputId": "6903c0bc-8e7f-411a-da84-bec78d4a496d"
      },
      "execution_count": null,
      "outputs": [
        {
          "output_type": "stream",
          "name": "stdout",
          "text": [
            "0.2620615439998424\n"
          ]
        }
      ]
    },
    {
      "cell_type": "markdown",
      "source": [
        "#Save Results"
      ],
      "metadata": {
        "id": "yC-LrjcB39e3"
      }
    },
    {
      "cell_type": "markdown",
      "source": [
        "##Save Top Ten"
      ],
      "metadata": {
        "id": "Zc8XswsQjvDz"
      }
    },
    {
      "cell_type": "code",
      "source": [
        "GLoVe_Top = {}\n",
        "TFiDF_Top = {}\n",
        "#GLoVe_TFiDF_Top = {} \n",
        "textdistance_Top = {}\n",
        "bert_Top = {}\n",
        "for i in range(10):\n",
        "  GLoVe_Top[i+1]=   candidates['First Name'][GLoVe_Rankings[i]] + \" \" + candidates['Last Name'][GLoVe_Rankings[i]]\n",
        "  #print(GLoVe_Rankings[i])\n",
        "  TFiDF_Top[i+1]= candidates['First Name'][TFiDF_Rankings[i]] + \" \" + candidates['Last Name'][TFiDF_Rankings[i]]\n",
        "  #GLoVe_TFiDF_Top[i] = candidates['First Name'][GLoVe_TFiDF_Rankings[i]],candidates['Last Name'][GLoVe_TFiDF_Rankings[i]]\n",
        "  textdistance_Top[i+1] = candidates['First Name'][textdistance_Rankings[i]] +\" \" + candidates['Last Name'][textdistance_Rankings[i]]\n",
        "  bert_Top[i+1] = candidates['First Name'][bert_Rankings[i]] +\" \" + candidates['Last Name'][bert_Rankings[i]]\n",
        "\n",
        "save_to_file = {\"GLoVe\":GLoVe_Top,\"TFiDF\":TFiDF_Top,\"Textdistance\":textdistance_Top,\"Bert\":bert_Top}\n",
        "print(save_to_file)"
      ],
      "metadata": {
        "colab": {
          "base_uri": "https://localhost:8080/"
        },
        "id": "FrBbnNkW38lg",
        "outputId": "dc31113f-6b45-4206-8e9b-a6d7d7b512eb"
      },
      "execution_count": null,
      "outputs": [
        {
          "output_type": "stream",
          "name": "stdout",
          "text": [
            "{'GLoVe': {1: 'Leo Moley', 2: 'Leana Mauricette', 3: 'Radhika Shukla', 4: 'Wang Yepu', 5: 'Ehsan Matinfar', 6: 'MerajUnnisa Begum', 7: 'Cynthia Liu', 8: 'Keegan Veazey', 9: 'Mohammed Zama', 10: 'Akshay Deshmukh'}, 'TFiDF': {1: 'Leo Moley', 2: 'Rajat Bhat', 3: 'Aakash Rathod', 4: 'Leana Mauricette', 5: 'Jai kiran Rajana', 6: 'MerajUnnisa Begum', 7: 'Rushal Gawali', 8: 'Mei-Chu Chen', 9: 'Shiva Abhishek Varma Penmetsa', 10: 'Atharva Saykhedkar'}, 'Textdistance': {1: 'Le Cai', 2: 'KEXI PI', 3: 'Xinze Yu', 4: 'Yutai Li', 5: 'Tu Nguyen', 6: 'Jeff Shen', 7: 'Wang Yepu', 8: 'Kedar S F', 9: 'Kevin Gong', 10: 'Jiazhi Jia'}, 'Bert': {1: 'Maulishree Gupta', 2: 'Giri Sai Sriram Mullangi', 3: 'Shrivatson Ramaratnam Giridharan', 4: 'Le Cai', 5: 'Sinchana Sulugodu Shashidhara', 6: 'Omid Halimi Milani', 7: 'Samrat Talukder', 8: 'Dhrumil Parekh', 9: 'Nima Razavi', 10: 'Wang Yepu'}}\n"
          ]
        }
      ]
    },
    {
      "cell_type": "code",
      "source": [
        "#with open(\"/content/drive/MyDrive/TopTen_Requirements.csv\",\"w+\") as file:\n",
        "#with open(\"/content/drive/MyDrive/TopTen_Responsibilities.csv\",\"w+\") as file:\n",
        "with open(\"/content/drive/MyDrive/TopTen.csv\",\"w+\") as file:  \n",
        "  writer = csv.writer(file)\n",
        "  writer.writerow([\"Method\\Columns\"]+list(GLoVe_Top.keys()))\n",
        "  for key ,value in save_to_file.items():\n",
        "    writer.writerow([key]+list(value.values()))\n",
        "\n"
      ],
      "metadata": {
        "id": "LQrtYEa95rWT"
      },
      "execution_count": null,
      "outputs": []
    },
    {
      "cell_type": "markdown",
      "source": [
        "##Save All"
      ],
      "metadata": {
        "id": "LJLJRQjHj0ol"
      }
    },
    {
      "cell_type": "code",
      "source": [
        "Candidates = {}\n",
        "for id in range(len(GLoVe_Rankings)):\n",
        "  try:\n",
        "    Candidate = candidates['First Name'][id] + ' ' + candidates['Last Name'][id]\n",
        "    Candidates[Candidate] = [GLoVe_Rankings.index(id),TFiDF_Rankings.index(id),GLoVe_TFiDF_Rankings.index(id),textdistance_Rankings.index(id),bert_Rankings.index(id)]\n",
        "  except:\n",
        "    Candidates[Candidate] = [0,0,0,0,0]\n",
        "    print(id,Candidate) \n",
        "print(Candidates) "
      ],
      "metadata": {
        "colab": {
          "base_uri": "https://localhost:8080/"
        },
        "id": "kIFDbETKj4gU",
        "outputId": "1de35f2e-f223-4f8f-c4c6-871706e11708"
      },
      "execution_count": null,
      "outputs": [
        {
          "output_type": "stream",
          "name": "stdout",
          "text": [
            "18 Diana Sîrbu\n",
            "41 Letícia Neves dos Santos\n",
            "70 Shruti Sorte\n",
            "93 Yue (Cora) Mao\n",
            "116 Jiatao Yuan\n",
            "131 Michelle Zeng\n",
            "163 Vaishnavi rao Kandula\n",
            "166 Xiukui Ji\n",
            "172 Zeynep Ebrar Çelikel\n",
            "173 Zeynep Ebrar Çelikel\n",
            "174 Abdullah Kasri\n",
            "{'Aakash Rathod': [78, 2, 2, 176, 46], 'Aditi Gaikwad': [68, 44, 44, 130, 101], 'Ajay Iyer': [174, 165, 165, 106, 26], 'Akhila Reddy Jali': [87, 29, 29, 182, 109], 'Ali Bagheri Tirtashi': [137, 88, 88, 185, 57], 'Alonso Bautista Martin': [141, 161, 161, 93, 44], 'Aman Khosla': [69, 19, 19, 114, 30], 'Amogh Pai': [139, 113, 113, 169, 10], 'Anirudh Nair': [30, 12, 12, 34, 136], 'Arham Choraria': [50, 117, 117, 44, 166], 'Atalay Denknalbant': [143, 154, 154, 183, 48], 'Ben Kreitner': [97, 80, 80, 121, 178], 'Brinda Sarkar': [28, 74, 74, 35, 60], 'Catherine Donner': [45, 153, 153, 152, 96], 'Chengcheng Feng': [122, 116, 116, 143, 162], 'Chuqiao(Kathleen) Li': [81, 37, 37, 85, 129], 'Deema Alnuhait': [146, 87, 87, 137, 39], 'Deep Arvind Bambharoliya': [165, 104, 104, 167, 73], 'Diana Sîrbu': [0, 0, 0, 0, 0], 'Ehsan Matinfar': [4, 75, 75, 138, 77], 'Eric Tran': [114, 108, 108, 107, 183], 'Fnu Gitanjali': [25, 58, 58, 45, 172], 'Giri Sai Sriram Mullangi': [164, 150, 150, 97, 1], 'Gogulkumar Mathi': [55, 106, 106, 68, 151], 'Gunjan Toora': [15, 39, 39, 24, 45], 'Han Seok Suh': [42, 22, 22, 25, 138], 'Hardik Singh': [103, 90, 90, 122, 75], 'Hitesh Manivannan': [125, 147, 147, 153, 89], 'Hritik Shah': [39, 38, 38, 115, 67], 'Ikram Khan': [82, 140, 140, 110, 117], 'Ines Bousselmi': [67, 130, 130, 46, 153], 'Jeewon Koo': [175, 93, 93, 171, 15], 'Jiahang Wu': [153, 142, 142, 111, 51], 'Jingyi Wu': [38, 41, 41, 108, 137], 'Joseph Venturini': [183, 182, 182, 154, 34], 'Kedar S F': [51, 20, 20, 7, 98], 'Keegan Veazey': [7, 40, 40, 36, 87], 'Kevin Gong': [138, 114, 114, 8, 126], 'Kshitij Zutshi': [94, 178, 178, 179, 53], 'Lavanya Kumaran': [53, 172, 172, 144, 112], 'Le Cai': [64, 144, 144, 0, 3], 'Letícia Neves dos Santos': [0, 0, 0, 0, 0], 'Mayank Jain': [168, 52, 52, 13, 143], 'Meghna Ashok': [133, 107, 107, 123, 122], 'Mohamad Ali Kalassina': [18, 48, 48, 163, 41], 'Mrunali Ghelani': [142, 83, 83, 181, 170], 'Muhammad Saad Zahoor': [91, 51, 51, 161, 157], 'Mukul Anand': [180, 111, 111, 116, 94], 'Murad Mammadli': [111, 176, 176, 47, 66], 'Muskaan Parmar': [155, 141, 141, 48, 35], 'Naga Sai Anirudh Nori': [105, 70, 70, 164, 69], 'Naman Bhatia': [73, 68, 68, 124, 13], 'Neerbhaya J B Rana': [166, 143, 143, 184, 132], 'Nima Razavi': [90, 134, 134, 125, 8], 'Omid Halimi Milani': [145, 138, 138, 157, 5], 'Pratik Multani': [74, 14, 14, 139, 70], 'Priyam Shah': [59, 15, 15, 14, 42], 'Radhika Shukla': [2, 25, 25, 49, 167], 'Rahul Fernandez': [152, 167, 167, 60, 124], 'Rahul Gaikwad': [120, 50, 50, 131, 128], 'Rajat Bhat': [89, 1, 1, 172, 164], 'Rio Zhao': [47, 94, 94, 170, 173], 'Rouzbeh Roshani': [119, 97, 97, 145, 18], 'Rubina Pradhan': [100, 10, 10, 140, 28], 'Rushal Gawali': [71, 6, 6, 132, 37], 'Sagar Gupta': [154, 77, 77, 117, 23], 'Sahil Sawant': [107, 33, 33, 26, 127], 'Sarthak Bhargava': [163, 71, 71, 149, 141], 'Sayali Madhukar Babar': [132, 91, 91, 89, 56], 'Shachi Garga': [124, 57, 57, 126, 79], 'Shruti Sorte': [0, 0, 0, 0, 0], 'Shubhangi Goyal': [70, 63, 63, 61, 55], 'Siyi Wu': [104, 36, 36, 103, 24], 'Sk Saqlain Ali': [170, 185, 185, 50, 20], 'Soumya Shukla': [65, 53, 53, 177, 113], 'Sridhar Ippili': [98, 121, 121, 51, 72], 'Suhaas Bharadwaj Mudigonda': [37, 42, 42, 99, 25], 'Sumeet Duddagi': [95, 13, 13, 141, 125], 'Sunil Verma': [57, 59, 59, 174, 163], 'SUSHANTH Suresh Kumar': [17, 32, 32, 162, 47], 'Swapnil Sethi': [99, 17, 17, 133, 116], 'Tianyuan Deng': [128, 129, 129, 178, 115], 'Tim L Giang': [80, 162, 162, 127, 107], 'VAIBHAV SINGH': [185, 170, 170, 134, 142], 'Venkata Krishna Sunkara': [167, 137, 137, 165, 177], 'Vikash Makani': [60, 99, 99, 135, 68], 'Vikramjeet Singh': [36, 56, 56, 150, 175], 'Vincent Claussen': [160, 180, 180, 155, 130], 'Xile Zhang': [112, 84, 84, 112, 58], 'Xinze Yu': [52, 102, 102, 2, 90], 'Yang(Cynthia) Chen': [130, 164, 164, 158, 119], 'Yu-Chih Chen': [23, 16, 16, 175, 99], 'Yue (Cora) Mao': [0, 0, 0, 0, 0], 'Abishek Muralikrishna': [43, 115, 115, 90, 171], 'Adarsh Challa': [75, 66, 66, 52, 38], 'Aditya Gaikwad': [85, 86, 86, 53, 133], 'Akshay Deshmukh': [9, 23, 23, 62, 181], 'Andrew Black': [173, 155, 155, 27, 176], 'Anindita Deb': [27, 76, 76, 28, 185], 'Atharva Saykhedkar': [83, 9, 9, 80, 80], 'Bhanu Krishna Motamarri': [109, 81, 81, 166, 174], 'Bhargav Nelluri': [102, 35, 35, 63, 182], 'Chang Wu': [11, 67, 67, 104, 36], 'Cheng Chen': [181, 133, 133, 113, 17], 'Cynthia Liu': [6, 49, 49, 15, 149], 'Dareen Hussein': [46, 61, 61, 54, 81], 'Devin Larson': [116, 175, 175, 29, 118], 'Dhrumil Parekh': [26, 45, 45, 55, 7], 'FRANCISCO RODRIGO ALONSO CASTELLANOS': [176, 179, 179, 168, 82], 'Fuchun Yang': [22, 160, 160, 118, 85], 'Hana Abdel-Megeed': [41, 171, 171, 75, 140], 'Harshit Shrimali': [131, 73, 73, 151, 121], 'Humphrey Han': [58, 21, 21, 30, 100], 'Jai kiran Rajana': [35, 4, 4, 69, 147], 'Jayasurya Ragupathi': [34, 95, 95, 160, 158], 'Jiatao Yuan': [0, 0, 0, 0, 0], 'Jiazhi Jia': [16, 169, 169, 9, 105], 'Jingwen (Lilly) Huang': [96, 177, 177, 94, 154], 'Karim Lakhani': [106, 157, 157, 37, 108], 'Kedar Ghule': [84, 103, 103, 16, 78], 'Kerwin(Wenjie) Du': [20, 46, 46, 76, 50], 'KEXI PI': [29, 128, 128, 1, 63], 'Khushi Patel': [115, 166, 166, 56, 165], 'Leana Mauricette': [1, 3, 3, 77, 88], 'Lillian Sun': [161, 173, 173, 173, 159], 'Maulishree Gupta': [88, 105, 105, 70, 0], 'Max Tjen': [123, 89, 89, 105, 144], 'Meg (Chia-Chien) Wu': [149, 158, 158, 83, 160], 'Mei-Chu Chen': [31, 7, 7, 128, 148], 'Merih Rana Biterge': [33, 78, 78, 159, 180], 'Michelle Zeng': [0, 0, 0, 0, 0], 'Mukund Kalantri': [49, 64, 64, 146, 91], 'Nadhiya Ganesan': [157, 152, 152, 64, 64], 'Naibiao Jin': [10, 54, 54, 17, 84], 'Nathan Riemer': [126, 156, 156, 38, 156], 'Nayah Boucaud': [21, 109, 109, 39, 14], 'Neha Patnaik': [56, 18, 18, 31, 106], 'Pradyuman Gangan': [108, 168, 168, 71, 120], 'Pranav Bhandari': [144, 148, 148, 65, 150], 'Prathmesh Desai': [77, 118, 118, 66, 95], 'Premchand Jayachandran': [117, 136, 136, 95, 161], 'Rahul Rammohan Mandical': [24, 132, 132, 96, 168], 'Rishabh Bhatt': [32, 62, 62, 40, 104], 'Rishabh Raj Makhija': [92, 47, 47, 84, 65], 'Rohan Srivastava': [135, 96, 96, 72, 145], 'Ruiting Zha': [171, 123, 123, 18, 21], 'Sakshi Grover': [48, 27, 27, 41, 40], 'Sameep Sheth': [44, 125, 125, 129, 27], 'Samrat Talukder': [150, 139, 139, 67, 6], 'Sanskriti Parajuli': [63, 69, 69, 86, 155], 'Shiva Abhishek Varma Penmetsa': [121, 8, 8, 100, 179], 'Shreeja Kikkisetti': [40, 159, 159, 81, 92], 'Shreya Sudheer Karakata': [72, 112, 112, 186, 102], 'Shrivatson Ramaratnam Giridharan': [118, 72, 72, 102, 2], 'Sinchana Sulugodu Shashidhara': [136, 146, 146, 101, 4], 'Suraj Kumar': [179, 184, 184, 19, 131], 'Suyash Prashant Gupte': [134, 101, 101, 91, 31], 'Swanand Barsawade': [182, 145, 145, 78, 74], 'Tayler Erbe': [86, 28, 28, 20, 59], 'Thi Nguyen': [62, 43, 43, 10, 49], 'Tu Nguyen': [66, 131, 131, 4, 33], 'Tulika Kotian': [148, 30, 30, 42, 19], 'Vaishnavi rao Kandula': [0, 0, 0, 0, 0], 'Vignesh Kumar Baskar': [162, 100, 100, 87, 32], 'Vraj Patel': [184, 186, 186, 11, 71], 'Xiukui Ji': [0, 0, 0, 0, 0], 'Yash Wasnik': [12, 24, 24, 21, 186], 'Yujia Zhai': [127, 82, 82, 12, 146], 'Yutai Li': [54, 124, 124, 3, 52], 'Zain Ul Abdeen': [147, 92, 92, 57, 54], 'Zarina Davletova': [61, 60, 60, 73, 152], 'Zeynep Ebrar Çelikel': [0, 0, 0, 0, 0], 'Abdullah Kasri': [0, 0, 0, 0, 0], 'Andrea Perez Acevedo': [186, 181, 181, 88, 110], 'Andrew Luo': [76, 26, 26, 119, 114], 'Bardia Mouhebat': [79, 127, 127, 147, 93], 'Bryan Helms': [129, 34, 34, 22, 61], 'Fangxin Wang': [158, 149, 149, 32, 184], 'Jacob Marin-Tomson': [93, 119, 119, 82, 123], 'Jeff Shen': [113, 163, 163, 5, 76], 'Jessie Huang': [140, 126, 126, 33, 62], 'Kaival J. Panchal': [169, 98, 98, 79, 11], 'Karima SELMANI BOUAYOUNE': [159, 183, 183, 98, 16], 'Leo Moley': [0, 0, 0, 109, 134], 'Md Nehal Salik': [14, 79, 79, 58, 22]}\n"
          ]
        }
      ]
    },
    {
      "cell_type": "code",
      "source": [
        "#with open(\"/content/drive/MyDrive/Data_Analytics_Rankings_Requirements.csv\",\"w+\") as file:\n",
        "#with open(\"/content/drive/MyDrive/Data_Analytics_Rankings_Responsibilities.csv\",\"w+\") as file:\n",
        "with open(\"/content/drive/MyDrive/Data_Analytics_Rankings.csv\",\"w+\") as file: \n",
        "  writer = csv.writer(file)\n",
        "  writer.writerow(['Name','GLoVe','TFiDF','GLoVe + TFiDF','Text Distance','Bert'])\n",
        "  for key,value in Candidates.items():\n",
        "    writer.writerow([key]+value)"
      ],
      "metadata": {
        "id": "ygLRm860jGNS"
      },
      "execution_count": null,
      "outputs": []
    },
    {
      "cell_type": "markdown",
      "source": [
        "##Save Ranking Comparision Scores"
      ],
      "metadata": {
        "id": "7zM0vsXxrGAk"
      }
    },
    {
      "cell_type": "code",
      "source": [
        "rankings = {\"Glove\" : GLoVe_Rankings ,\"TFiDF\" : TFiDF_Rankings ,\"Glove + TFiDF\" : GLoVe_TFiDF_Rankings ,\"Text Distance\" : textdistance_Rankings ,\"BeRT\" : bert_Rankings}\n",
        "scoring = {\"Glove\" : {} ,\"TFiDF\" : {},\"Glove + TFiDF\" : {} ,\"Text Distance\" : {} ,\"BeRT\" :{} }\n",
        "for key1,value1 in rankings.items():\n",
        "  for key2,value2 in rankings.items():\n",
        "      scoring[key1][key2]  = {}\n",
        "      #scoring[key1][key2]['kendall tau distance'] = kendalltau(value1, value2)\n",
        "      #scoring[key1][key2]['bleu scores'] = sentence_bleu([value1], value2)\n",
        "      #scoring[key1][key2] = sentence_bleu([value1], value2)\n",
        "      #scoring[key1][key2]= kendalltau(value1, value2)\n",
        "      scoring[key1][key2] = RBO(value1,value2)"
      ],
      "metadata": {
        "id": "ysD77HANmgZ_"
      },
      "execution_count": null,
      "outputs": []
    },
    {
      "cell_type": "code",
      "source": [
        "print(scoring)"
      ],
      "metadata": {
        "colab": {
          "base_uri": "https://localhost:8080/"
        },
        "id": "uO8sI7OIoE-G",
        "outputId": "ef4f219a-e679-44b9-f41a-ef2230496eea"
      },
      "execution_count": null,
      "outputs": [
        {
          "output_type": "stream",
          "name": "stdout",
          "text": [
            "{'Glove': {'Glove': 1.0, 'TFiDF': 4.803430137390974e-155, 'Glove + TFiDF': 4.803430137390974e-155, 'Text Distance': 4.039187183453553e-155, 'BeRT': 4.803430137390974e-155}, 'TFiDF': {'Glove': 4.803430137390974e-155, 'TFiDF': 1.0, 'Glove + TFiDF': 1.0, 'Text Distance': 1.821831989445342e-231, 'BeRT': 4.803430137390974e-155}, 'Glove + TFiDF': {'Glove': 4.803430137390974e-155, 'TFiDF': 1.0, 'Glove + TFiDF': 1.0, 'Text Distance': 1.821831989445342e-231, 'BeRT': 4.803430137390974e-155}, 'Text Distance': {'Glove': 4.039187183453553e-155, 'TFiDF': 1.821831989445342e-231, 'Glove + TFiDF': 1.821831989445342e-231, 'Text Distance': 1.0, 'BeRT': 4.039187183453553e-155}, 'BeRT': {'Glove': 4.803430137390974e-155, 'TFiDF': 4.803430137390974e-155, 'Glove + TFiDF': 4.803430137390974e-155, 'Text Distance': 4.039187183453553e-155, 'BeRT': 1.0}}\n"
          ]
        }
      ]
    },
    {
      "cell_type": "code",
      "source": [
        "with open('/content/drive/MyDrive/Results and Documentation/Bleu_Scores.csv','w+') as file:\n",
        "  writer = csv.writer(file)\n",
        "  writer.writerow(['','GLoVe','TFiDF','GLoVe + TFiDF','Text Distance','Bert'])\n",
        "  for key, value in scoring.items():\n",
        "      writer.writerow([key]+list(value.values()))\n"
      ],
      "metadata": {
        "id": "KzBfC3_2oQrA"
      },
      "execution_count": null,
      "outputs": []
    },
    {
      "cell_type": "code",
      "source": [
        "with open('/content/drive/MyDrive/Results and Documentation/kendall_tau.csv','w+') as file:\n",
        "  writer = csv.writer(file)\n",
        "  writer.writerow(['','GLoVe','TFiDF','GLoVe + TFiDF','Text Distance','Bert'])\n",
        "  for key, value in scoring.items():\n",
        "      writer.writerow([key]+list(value.values()))"
      ],
      "metadata": {
        "id": "07pUgT3qtZTT"
      },
      "execution_count": null,
      "outputs": []
    },
    {
      "cell_type": "code",
      "source": [
        "with open('/content/drive/MyDrive/Results and Documentation/RBO.csv','w+') as file:\n",
        "  writer = csv.writer(file)\n",
        "  writer.writerow(['','GLoVe','TFiDF','GLoVe + TFiDF','Text Distance','Bert'])\n",
        "  for key, value in scoring.items():\n",
        "      writer.writerow([key]+list(value.values()))"
      ],
      "metadata": {
        "id": "puAJN7YQMa4k"
      },
      "execution_count": null,
      "outputs": []
    },
    {
      "cell_type": "markdown",
      "source": [
        "##Save Timing Comparision"
      ],
      "metadata": {
        "id": "VEImclhwMpnW"
      }
    },
    {
      "cell_type": "code",
      "source": [
        "with open('/content/drive/MyDrive/Results and Documentation/methods_timings.csv','w+') as file:\n",
        "  writer = csv.writer(file)\n",
        "  writer.writerow(['','GLoVe','TFiDF','GLoVe + TFiDF','Text Distance','Bert'])\n",
        "  for i in range(test):\n",
        "    writer.writerow([i,GLoVe_time[i],TFiDF_time[i],GLoVe_TFiDF_time[i],textdistance_time[i],bert_time[i]])    \n",
        "  writer.writerow([\"Total\",sum(GLoVe_time),sum(TFiDF_time),sum(GLoVe_TFiDF_time),sum(textdistance_time),sum(bert_time)])    \n"
      ],
      "metadata": {
        "id": "EjPnVQtqMu36"
      },
      "execution_count": null,
      "outputs": []
    }
  ],
  "metadata": {
    "colab": {
      "collapsed_sections": [
        "bAUU2oweInvk",
        "EilnP1R2SKnC",
        "fHSWK3nixS2n",
        "XllHsgz1ZXI9",
        "G7mWbqcVI5Fx",
        "7DWqvVJTSdUa",
        "0wlhmeY9OTVX",
        "AUdtAHtY3Pv0",
        "0pCqr9K9JEWd",
        "I1TrByDnOQHc",
        "MihdWxVzYYdQ",
        "kEciyvBlN9pZ",
        "i6pqLRfBfNvR",
        "-eanSe3moBaX",
        "Zc8XswsQjvDz",
        "LJLJRQjHj0ol"
      ],
      "name": "Semantic_Matching.ipynb",
      "provenance": []
    },
    "kernelspec": {
      "display_name": "Python 3",
      "name": "python3"
    },
    "language_info": {
      "name": "python"
    },
    "widgets": {
      "application/vnd.jupyter.widget-state+json": {
        "73d8e7d3b0614f6a9fef27e63c513f5f": {
          "model_module": "@jupyter-widgets/controls",
          "model_name": "HBoxModel",
          "model_module_version": "1.5.0",
          "state": {
            "_dom_classes": [],
            "_model_module": "@jupyter-widgets/controls",
            "_model_module_version": "1.5.0",
            "_model_name": "HBoxModel",
            "_view_count": null,
            "_view_module": "@jupyter-widgets/controls",
            "_view_module_version": "1.5.0",
            "_view_name": "HBoxView",
            "box_style": "",
            "children": [
              "IPY_MODEL_a6f42b2e03614c2682b73363c443c82a",
              "IPY_MODEL_95ed050636f24f40bc3b48fa9b3098bd",
              "IPY_MODEL_8a80b9ead7874b81b8ab163996158078"
            ],
            "layout": "IPY_MODEL_a30abe401283407981bf57a50d580e65"
          }
        },
        "a6f42b2e03614c2682b73363c443c82a": {
          "model_module": "@jupyter-widgets/controls",
          "model_name": "HTMLModel",
          "model_module_version": "1.5.0",
          "state": {
            "_dom_classes": [],
            "_model_module": "@jupyter-widgets/controls",
            "_model_module_version": "1.5.0",
            "_model_name": "HTMLModel",
            "_view_count": null,
            "_view_module": "@jupyter-widgets/controls",
            "_view_module_version": "1.5.0",
            "_view_name": "HTMLView",
            "description": "",
            "description_tooltip": null,
            "layout": "IPY_MODEL_7b82783539a64ede934d79f4f20c3a8a",
            "placeholder": "​",
            "style": "IPY_MODEL_0555b4edcc794f0f84879d8baa27b94f",
            "value": "Downloading: 100%"
          }
        },
        "95ed050636f24f40bc3b48fa9b3098bd": {
          "model_module": "@jupyter-widgets/controls",
          "model_name": "FloatProgressModel",
          "model_module_version": "1.5.0",
          "state": {
            "_dom_classes": [],
            "_model_module": "@jupyter-widgets/controls",
            "_model_module_version": "1.5.0",
            "_model_name": "FloatProgressModel",
            "_view_count": null,
            "_view_module": "@jupyter-widgets/controls",
            "_view_module_version": "1.5.0",
            "_view_name": "ProgressView",
            "bar_style": "success",
            "description": "",
            "description_tooltip": null,
            "layout": "IPY_MODEL_6d571d06a50841bcb1533a25028ecfa0",
            "max": 391,
            "min": 0,
            "orientation": "horizontal",
            "style": "IPY_MODEL_57efa9f6b9f94100b826a50a0afa1f89",
            "value": 391
          }
        },
        "8a80b9ead7874b81b8ab163996158078": {
          "model_module": "@jupyter-widgets/controls",
          "model_name": "HTMLModel",
          "model_module_version": "1.5.0",
          "state": {
            "_dom_classes": [],
            "_model_module": "@jupyter-widgets/controls",
            "_model_module_version": "1.5.0",
            "_model_name": "HTMLModel",
            "_view_count": null,
            "_view_module": "@jupyter-widgets/controls",
            "_view_module_version": "1.5.0",
            "_view_name": "HTMLView",
            "description": "",
            "description_tooltip": null,
            "layout": "IPY_MODEL_1c2e7e14f0434ca291188d77423553d4",
            "placeholder": "​",
            "style": "IPY_MODEL_b1cead17e53f4b6e93c7cf91d65fcb41",
            "value": " 391/391 [00:00&lt;00:00, 6.77kB/s]"
          }
        },
        "a30abe401283407981bf57a50d580e65": {
          "model_module": "@jupyter-widgets/base",
          "model_name": "LayoutModel",
          "model_module_version": "1.2.0",
          "state": {
            "_model_module": "@jupyter-widgets/base",
            "_model_module_version": "1.2.0",
            "_model_name": "LayoutModel",
            "_view_count": null,
            "_view_module": "@jupyter-widgets/base",
            "_view_module_version": "1.2.0",
            "_view_name": "LayoutView",
            "align_content": null,
            "align_items": null,
            "align_self": null,
            "border": null,
            "bottom": null,
            "display": null,
            "flex": null,
            "flex_flow": null,
            "grid_area": null,
            "grid_auto_columns": null,
            "grid_auto_flow": null,
            "grid_auto_rows": null,
            "grid_column": null,
            "grid_gap": null,
            "grid_row": null,
            "grid_template_areas": null,
            "grid_template_columns": null,
            "grid_template_rows": null,
            "height": null,
            "justify_content": null,
            "justify_items": null,
            "left": null,
            "margin": null,
            "max_height": null,
            "max_width": null,
            "min_height": null,
            "min_width": null,
            "object_fit": null,
            "object_position": null,
            "order": null,
            "overflow": null,
            "overflow_x": null,
            "overflow_y": null,
            "padding": null,
            "right": null,
            "top": null,
            "visibility": null,
            "width": null
          }
        },
        "7b82783539a64ede934d79f4f20c3a8a": {
          "model_module": "@jupyter-widgets/base",
          "model_name": "LayoutModel",
          "model_module_version": "1.2.0",
          "state": {
            "_model_module": "@jupyter-widgets/base",
            "_model_module_version": "1.2.0",
            "_model_name": "LayoutModel",
            "_view_count": null,
            "_view_module": "@jupyter-widgets/base",
            "_view_module_version": "1.2.0",
            "_view_name": "LayoutView",
            "align_content": null,
            "align_items": null,
            "align_self": null,
            "border": null,
            "bottom": null,
            "display": null,
            "flex": null,
            "flex_flow": null,
            "grid_area": null,
            "grid_auto_columns": null,
            "grid_auto_flow": null,
            "grid_auto_rows": null,
            "grid_column": null,
            "grid_gap": null,
            "grid_row": null,
            "grid_template_areas": null,
            "grid_template_columns": null,
            "grid_template_rows": null,
            "height": null,
            "justify_content": null,
            "justify_items": null,
            "left": null,
            "margin": null,
            "max_height": null,
            "max_width": null,
            "min_height": null,
            "min_width": null,
            "object_fit": null,
            "object_position": null,
            "order": null,
            "overflow": null,
            "overflow_x": null,
            "overflow_y": null,
            "padding": null,
            "right": null,
            "top": null,
            "visibility": null,
            "width": null
          }
        },
        "0555b4edcc794f0f84879d8baa27b94f": {
          "model_module": "@jupyter-widgets/controls",
          "model_name": "DescriptionStyleModel",
          "model_module_version": "1.5.0",
          "state": {
            "_model_module": "@jupyter-widgets/controls",
            "_model_module_version": "1.5.0",
            "_model_name": "DescriptionStyleModel",
            "_view_count": null,
            "_view_module": "@jupyter-widgets/base",
            "_view_module_version": "1.2.0",
            "_view_name": "StyleView",
            "description_width": ""
          }
        },
        "6d571d06a50841bcb1533a25028ecfa0": {
          "model_module": "@jupyter-widgets/base",
          "model_name": "LayoutModel",
          "model_module_version": "1.2.0",
          "state": {
            "_model_module": "@jupyter-widgets/base",
            "_model_module_version": "1.2.0",
            "_model_name": "LayoutModel",
            "_view_count": null,
            "_view_module": "@jupyter-widgets/base",
            "_view_module_version": "1.2.0",
            "_view_name": "LayoutView",
            "align_content": null,
            "align_items": null,
            "align_self": null,
            "border": null,
            "bottom": null,
            "display": null,
            "flex": null,
            "flex_flow": null,
            "grid_area": null,
            "grid_auto_columns": null,
            "grid_auto_flow": null,
            "grid_auto_rows": null,
            "grid_column": null,
            "grid_gap": null,
            "grid_row": null,
            "grid_template_areas": null,
            "grid_template_columns": null,
            "grid_template_rows": null,
            "height": null,
            "justify_content": null,
            "justify_items": null,
            "left": null,
            "margin": null,
            "max_height": null,
            "max_width": null,
            "min_height": null,
            "min_width": null,
            "object_fit": null,
            "object_position": null,
            "order": null,
            "overflow": null,
            "overflow_x": null,
            "overflow_y": null,
            "padding": null,
            "right": null,
            "top": null,
            "visibility": null,
            "width": null
          }
        },
        "57efa9f6b9f94100b826a50a0afa1f89": {
          "model_module": "@jupyter-widgets/controls",
          "model_name": "ProgressStyleModel",
          "model_module_version": "1.5.0",
          "state": {
            "_model_module": "@jupyter-widgets/controls",
            "_model_module_version": "1.5.0",
            "_model_name": "ProgressStyleModel",
            "_view_count": null,
            "_view_module": "@jupyter-widgets/base",
            "_view_module_version": "1.2.0",
            "_view_name": "StyleView",
            "bar_color": null,
            "description_width": ""
          }
        },
        "1c2e7e14f0434ca291188d77423553d4": {
          "model_module": "@jupyter-widgets/base",
          "model_name": "LayoutModel",
          "model_module_version": "1.2.0",
          "state": {
            "_model_module": "@jupyter-widgets/base",
            "_model_module_version": "1.2.0",
            "_model_name": "LayoutModel",
            "_view_count": null,
            "_view_module": "@jupyter-widgets/base",
            "_view_module_version": "1.2.0",
            "_view_name": "LayoutView",
            "align_content": null,
            "align_items": null,
            "align_self": null,
            "border": null,
            "bottom": null,
            "display": null,
            "flex": null,
            "flex_flow": null,
            "grid_area": null,
            "grid_auto_columns": null,
            "grid_auto_flow": null,
            "grid_auto_rows": null,
            "grid_column": null,
            "grid_gap": null,
            "grid_row": null,
            "grid_template_areas": null,
            "grid_template_columns": null,
            "grid_template_rows": null,
            "height": null,
            "justify_content": null,
            "justify_items": null,
            "left": null,
            "margin": null,
            "max_height": null,
            "max_width": null,
            "min_height": null,
            "min_width": null,
            "object_fit": null,
            "object_position": null,
            "order": null,
            "overflow": null,
            "overflow_x": null,
            "overflow_y": null,
            "padding": null,
            "right": null,
            "top": null,
            "visibility": null,
            "width": null
          }
        },
        "b1cead17e53f4b6e93c7cf91d65fcb41": {
          "model_module": "@jupyter-widgets/controls",
          "model_name": "DescriptionStyleModel",
          "model_module_version": "1.5.0",
          "state": {
            "_model_module": "@jupyter-widgets/controls",
            "_model_module_version": "1.5.0",
            "_model_name": "DescriptionStyleModel",
            "_view_count": null,
            "_view_module": "@jupyter-widgets/base",
            "_view_module_version": "1.2.0",
            "_view_name": "StyleView",
            "description_width": ""
          }
        },
        "671c155c1c5942ce9389d85b50259654": {
          "model_module": "@jupyter-widgets/controls",
          "model_name": "HBoxModel",
          "model_module_version": "1.5.0",
          "state": {
            "_dom_classes": [],
            "_model_module": "@jupyter-widgets/controls",
            "_model_module_version": "1.5.0",
            "_model_name": "HBoxModel",
            "_view_count": null,
            "_view_module": "@jupyter-widgets/controls",
            "_view_module_version": "1.5.0",
            "_view_name": "HBoxView",
            "box_style": "",
            "children": [
              "IPY_MODEL_599bb59f918a49c784c08d008d2f4161",
              "IPY_MODEL_34cc53cb81c74d78aff592b8b9c93d1e",
              "IPY_MODEL_c791fbeb21c248c29200231a66bdaa45"
            ],
            "layout": "IPY_MODEL_cc7b0bc9b22d47b6b1686484d52af1a5"
          }
        },
        "599bb59f918a49c784c08d008d2f4161": {
          "model_module": "@jupyter-widgets/controls",
          "model_name": "HTMLModel",
          "model_module_version": "1.5.0",
          "state": {
            "_dom_classes": [],
            "_model_module": "@jupyter-widgets/controls",
            "_model_module_version": "1.5.0",
            "_model_name": "HTMLModel",
            "_view_count": null,
            "_view_module": "@jupyter-widgets/controls",
            "_view_module_version": "1.5.0",
            "_view_name": "HTMLView",
            "description": "",
            "description_tooltip": null,
            "layout": "IPY_MODEL_429a2e58320f44509d4b4e53cd548f20",
            "placeholder": "​",
            "style": "IPY_MODEL_9fa12a3ef9e14976b0d8f121c74e8fa0",
            "value": "Downloading: 100%"
          }
        },
        "34cc53cb81c74d78aff592b8b9c93d1e": {
          "model_module": "@jupyter-widgets/controls",
          "model_name": "FloatProgressModel",
          "model_module_version": "1.5.0",
          "state": {
            "_dom_classes": [],
            "_model_module": "@jupyter-widgets/controls",
            "_model_module_version": "1.5.0",
            "_model_name": "FloatProgressModel",
            "_view_count": null,
            "_view_module": "@jupyter-widgets/controls",
            "_view_module_version": "1.5.0",
            "_view_name": "ProgressView",
            "bar_style": "success",
            "description": "",
            "description_tooltip": null,
            "layout": "IPY_MODEL_423b5b72ba3249e2855b03379350cb4b",
            "max": 190,
            "min": 0,
            "orientation": "horizontal",
            "style": "IPY_MODEL_9dff5580047c4fcfa55a29e69dd4db33",
            "value": 190
          }
        },
        "c791fbeb21c248c29200231a66bdaa45": {
          "model_module": "@jupyter-widgets/controls",
          "model_name": "HTMLModel",
          "model_module_version": "1.5.0",
          "state": {
            "_dom_classes": [],
            "_model_module": "@jupyter-widgets/controls",
            "_model_module_version": "1.5.0",
            "_model_name": "HTMLModel",
            "_view_count": null,
            "_view_module": "@jupyter-widgets/controls",
            "_view_module_version": "1.5.0",
            "_view_name": "HTMLView",
            "description": "",
            "description_tooltip": null,
            "layout": "IPY_MODEL_e2fbe18318e44bb88553489b0a7c18d3",
            "placeholder": "​",
            "style": "IPY_MODEL_7876f7189b234b76a2b9bd3e8c1d87cf",
            "value": " 190/190 [00:00&lt;00:00, 3.49kB/s]"
          }
        },
        "cc7b0bc9b22d47b6b1686484d52af1a5": {
          "model_module": "@jupyter-widgets/base",
          "model_name": "LayoutModel",
          "model_module_version": "1.2.0",
          "state": {
            "_model_module": "@jupyter-widgets/base",
            "_model_module_version": "1.2.0",
            "_model_name": "LayoutModel",
            "_view_count": null,
            "_view_module": "@jupyter-widgets/base",
            "_view_module_version": "1.2.0",
            "_view_name": "LayoutView",
            "align_content": null,
            "align_items": null,
            "align_self": null,
            "border": null,
            "bottom": null,
            "display": null,
            "flex": null,
            "flex_flow": null,
            "grid_area": null,
            "grid_auto_columns": null,
            "grid_auto_flow": null,
            "grid_auto_rows": null,
            "grid_column": null,
            "grid_gap": null,
            "grid_row": null,
            "grid_template_areas": null,
            "grid_template_columns": null,
            "grid_template_rows": null,
            "height": null,
            "justify_content": null,
            "justify_items": null,
            "left": null,
            "margin": null,
            "max_height": null,
            "max_width": null,
            "min_height": null,
            "min_width": null,
            "object_fit": null,
            "object_position": null,
            "order": null,
            "overflow": null,
            "overflow_x": null,
            "overflow_y": null,
            "padding": null,
            "right": null,
            "top": null,
            "visibility": null,
            "width": null
          }
        },
        "429a2e58320f44509d4b4e53cd548f20": {
          "model_module": "@jupyter-widgets/base",
          "model_name": "LayoutModel",
          "model_module_version": "1.2.0",
          "state": {
            "_model_module": "@jupyter-widgets/base",
            "_model_module_version": "1.2.0",
            "_model_name": "LayoutModel",
            "_view_count": null,
            "_view_module": "@jupyter-widgets/base",
            "_view_module_version": "1.2.0",
            "_view_name": "LayoutView",
            "align_content": null,
            "align_items": null,
            "align_self": null,
            "border": null,
            "bottom": null,
            "display": null,
            "flex": null,
            "flex_flow": null,
            "grid_area": null,
            "grid_auto_columns": null,
            "grid_auto_flow": null,
            "grid_auto_rows": null,
            "grid_column": null,
            "grid_gap": null,
            "grid_row": null,
            "grid_template_areas": null,
            "grid_template_columns": null,
            "grid_template_rows": null,
            "height": null,
            "justify_content": null,
            "justify_items": null,
            "left": null,
            "margin": null,
            "max_height": null,
            "max_width": null,
            "min_height": null,
            "min_width": null,
            "object_fit": null,
            "object_position": null,
            "order": null,
            "overflow": null,
            "overflow_x": null,
            "overflow_y": null,
            "padding": null,
            "right": null,
            "top": null,
            "visibility": null,
            "width": null
          }
        },
        "9fa12a3ef9e14976b0d8f121c74e8fa0": {
          "model_module": "@jupyter-widgets/controls",
          "model_name": "DescriptionStyleModel",
          "model_module_version": "1.5.0",
          "state": {
            "_model_module": "@jupyter-widgets/controls",
            "_model_module_version": "1.5.0",
            "_model_name": "DescriptionStyleModel",
            "_view_count": null,
            "_view_module": "@jupyter-widgets/base",
            "_view_module_version": "1.2.0",
            "_view_name": "StyleView",
            "description_width": ""
          }
        },
        "423b5b72ba3249e2855b03379350cb4b": {
          "model_module": "@jupyter-widgets/base",
          "model_name": "LayoutModel",
          "model_module_version": "1.2.0",
          "state": {
            "_model_module": "@jupyter-widgets/base",
            "_model_module_version": "1.2.0",
            "_model_name": "LayoutModel",
            "_view_count": null,
            "_view_module": "@jupyter-widgets/base",
            "_view_module_version": "1.2.0",
            "_view_name": "LayoutView",
            "align_content": null,
            "align_items": null,
            "align_self": null,
            "border": null,
            "bottom": null,
            "display": null,
            "flex": null,
            "flex_flow": null,
            "grid_area": null,
            "grid_auto_columns": null,
            "grid_auto_flow": null,
            "grid_auto_rows": null,
            "grid_column": null,
            "grid_gap": null,
            "grid_row": null,
            "grid_template_areas": null,
            "grid_template_columns": null,
            "grid_template_rows": null,
            "height": null,
            "justify_content": null,
            "justify_items": null,
            "left": null,
            "margin": null,
            "max_height": null,
            "max_width": null,
            "min_height": null,
            "min_width": null,
            "object_fit": null,
            "object_position": null,
            "order": null,
            "overflow": null,
            "overflow_x": null,
            "overflow_y": null,
            "padding": null,
            "right": null,
            "top": null,
            "visibility": null,
            "width": null
          }
        },
        "9dff5580047c4fcfa55a29e69dd4db33": {
          "model_module": "@jupyter-widgets/controls",
          "model_name": "ProgressStyleModel",
          "model_module_version": "1.5.0",
          "state": {
            "_model_module": "@jupyter-widgets/controls",
            "_model_module_version": "1.5.0",
            "_model_name": "ProgressStyleModel",
            "_view_count": null,
            "_view_module": "@jupyter-widgets/base",
            "_view_module_version": "1.2.0",
            "_view_name": "StyleView",
            "bar_color": null,
            "description_width": ""
          }
        },
        "e2fbe18318e44bb88553489b0a7c18d3": {
          "model_module": "@jupyter-widgets/base",
          "model_name": "LayoutModel",
          "model_module_version": "1.2.0",
          "state": {
            "_model_module": "@jupyter-widgets/base",
            "_model_module_version": "1.2.0",
            "_model_name": "LayoutModel",
            "_view_count": null,
            "_view_module": "@jupyter-widgets/base",
            "_view_module_version": "1.2.0",
            "_view_name": "LayoutView",
            "align_content": null,
            "align_items": null,
            "align_self": null,
            "border": null,
            "bottom": null,
            "display": null,
            "flex": null,
            "flex_flow": null,
            "grid_area": null,
            "grid_auto_columns": null,
            "grid_auto_flow": null,
            "grid_auto_rows": null,
            "grid_column": null,
            "grid_gap": null,
            "grid_row": null,
            "grid_template_areas": null,
            "grid_template_columns": null,
            "grid_template_rows": null,
            "height": null,
            "justify_content": null,
            "justify_items": null,
            "left": null,
            "margin": null,
            "max_height": null,
            "max_width": null,
            "min_height": null,
            "min_width": null,
            "object_fit": null,
            "object_position": null,
            "order": null,
            "overflow": null,
            "overflow_x": null,
            "overflow_y": null,
            "padding": null,
            "right": null,
            "top": null,
            "visibility": null,
            "width": null
          }
        },
        "7876f7189b234b76a2b9bd3e8c1d87cf": {
          "model_module": "@jupyter-widgets/controls",
          "model_name": "DescriptionStyleModel",
          "model_module_version": "1.5.0",
          "state": {
            "_model_module": "@jupyter-widgets/controls",
            "_model_module_version": "1.5.0",
            "_model_name": "DescriptionStyleModel",
            "_view_count": null,
            "_view_module": "@jupyter-widgets/base",
            "_view_module_version": "1.2.0",
            "_view_name": "StyleView",
            "description_width": ""
          }
        },
        "169da6b4c9204ac1accc40d052bcb599": {
          "model_module": "@jupyter-widgets/controls",
          "model_name": "HBoxModel",
          "model_module_version": "1.5.0",
          "state": {
            "_dom_classes": [],
            "_model_module": "@jupyter-widgets/controls",
            "_model_module_version": "1.5.0",
            "_model_name": "HBoxModel",
            "_view_count": null,
            "_view_module": "@jupyter-widgets/controls",
            "_view_module_version": "1.5.0",
            "_view_name": "HBoxView",
            "box_style": "",
            "children": [
              "IPY_MODEL_2f88c91e3258421a85d891c99674238a",
              "IPY_MODEL_103d4d9decbf4e119446e2c286865cb2",
              "IPY_MODEL_3489a0bdbce64d869894a580579feebd"
            ],
            "layout": "IPY_MODEL_47987cf72b1e4ea796b86e146d4200dc"
          }
        },
        "2f88c91e3258421a85d891c99674238a": {
          "model_module": "@jupyter-widgets/controls",
          "model_name": "HTMLModel",
          "model_module_version": "1.5.0",
          "state": {
            "_dom_classes": [],
            "_model_module": "@jupyter-widgets/controls",
            "_model_module_version": "1.5.0",
            "_model_name": "HTMLModel",
            "_view_count": null,
            "_view_module": "@jupyter-widgets/controls",
            "_view_module_version": "1.5.0",
            "_view_name": "HTMLView",
            "description": "",
            "description_tooltip": null,
            "layout": "IPY_MODEL_abd057f0b56e4de184b07b734e46938b",
            "placeholder": "​",
            "style": "IPY_MODEL_123d3d6ea53b43ae9488d59954e69245",
            "value": "Downloading: 100%"
          }
        },
        "103d4d9decbf4e119446e2c286865cb2": {
          "model_module": "@jupyter-widgets/controls",
          "model_name": "FloatProgressModel",
          "model_module_version": "1.5.0",
          "state": {
            "_dom_classes": [],
            "_model_module": "@jupyter-widgets/controls",
            "_model_module_version": "1.5.0",
            "_model_name": "FloatProgressModel",
            "_view_count": null,
            "_view_module": "@jupyter-widgets/controls",
            "_view_module_version": "1.5.0",
            "_view_name": "ProgressView",
            "bar_style": "success",
            "description": "",
            "description_tooltip": null,
            "layout": "IPY_MODEL_08a21dc4cbbb4282a3435820a1bf2fe5",
            "max": 3951,
            "min": 0,
            "orientation": "horizontal",
            "style": "IPY_MODEL_b9ce6bf6a1034801954911b8f0e33517",
            "value": 3951
          }
        },
        "3489a0bdbce64d869894a580579feebd": {
          "model_module": "@jupyter-widgets/controls",
          "model_name": "HTMLModel",
          "model_module_version": "1.5.0",
          "state": {
            "_dom_classes": [],
            "_model_module": "@jupyter-widgets/controls",
            "_model_module_version": "1.5.0",
            "_model_name": "HTMLModel",
            "_view_count": null,
            "_view_module": "@jupyter-widgets/controls",
            "_view_module_version": "1.5.0",
            "_view_name": "HTMLView",
            "description": "",
            "description_tooltip": null,
            "layout": "IPY_MODEL_0755df56aa9d4e419cd169fb9888a741",
            "placeholder": "​",
            "style": "IPY_MODEL_c2270f8895b14d78be646db42dad5a25",
            "value": " 3.95k/3.95k [00:00&lt;00:00, 9.31kB/s]"
          }
        },
        "47987cf72b1e4ea796b86e146d4200dc": {
          "model_module": "@jupyter-widgets/base",
          "model_name": "LayoutModel",
          "model_module_version": "1.2.0",
          "state": {
            "_model_module": "@jupyter-widgets/base",
            "_model_module_version": "1.2.0",
            "_model_name": "LayoutModel",
            "_view_count": null,
            "_view_module": "@jupyter-widgets/base",
            "_view_module_version": "1.2.0",
            "_view_name": "LayoutView",
            "align_content": null,
            "align_items": null,
            "align_self": null,
            "border": null,
            "bottom": null,
            "display": null,
            "flex": null,
            "flex_flow": null,
            "grid_area": null,
            "grid_auto_columns": null,
            "grid_auto_flow": null,
            "grid_auto_rows": null,
            "grid_column": null,
            "grid_gap": null,
            "grid_row": null,
            "grid_template_areas": null,
            "grid_template_columns": null,
            "grid_template_rows": null,
            "height": null,
            "justify_content": null,
            "justify_items": null,
            "left": null,
            "margin": null,
            "max_height": null,
            "max_width": null,
            "min_height": null,
            "min_width": null,
            "object_fit": null,
            "object_position": null,
            "order": null,
            "overflow": null,
            "overflow_x": null,
            "overflow_y": null,
            "padding": null,
            "right": null,
            "top": null,
            "visibility": null,
            "width": null
          }
        },
        "abd057f0b56e4de184b07b734e46938b": {
          "model_module": "@jupyter-widgets/base",
          "model_name": "LayoutModel",
          "model_module_version": "1.2.0",
          "state": {
            "_model_module": "@jupyter-widgets/base",
            "_model_module_version": "1.2.0",
            "_model_name": "LayoutModel",
            "_view_count": null,
            "_view_module": "@jupyter-widgets/base",
            "_view_module_version": "1.2.0",
            "_view_name": "LayoutView",
            "align_content": null,
            "align_items": null,
            "align_self": null,
            "border": null,
            "bottom": null,
            "display": null,
            "flex": null,
            "flex_flow": null,
            "grid_area": null,
            "grid_auto_columns": null,
            "grid_auto_flow": null,
            "grid_auto_rows": null,
            "grid_column": null,
            "grid_gap": null,
            "grid_row": null,
            "grid_template_areas": null,
            "grid_template_columns": null,
            "grid_template_rows": null,
            "height": null,
            "justify_content": null,
            "justify_items": null,
            "left": null,
            "margin": null,
            "max_height": null,
            "max_width": null,
            "min_height": null,
            "min_width": null,
            "object_fit": null,
            "object_position": null,
            "order": null,
            "overflow": null,
            "overflow_x": null,
            "overflow_y": null,
            "padding": null,
            "right": null,
            "top": null,
            "visibility": null,
            "width": null
          }
        },
        "123d3d6ea53b43ae9488d59954e69245": {
          "model_module": "@jupyter-widgets/controls",
          "model_name": "DescriptionStyleModel",
          "model_module_version": "1.5.0",
          "state": {
            "_model_module": "@jupyter-widgets/controls",
            "_model_module_version": "1.5.0",
            "_model_name": "DescriptionStyleModel",
            "_view_count": null,
            "_view_module": "@jupyter-widgets/base",
            "_view_module_version": "1.2.0",
            "_view_name": "StyleView",
            "description_width": ""
          }
        },
        "08a21dc4cbbb4282a3435820a1bf2fe5": {
          "model_module": "@jupyter-widgets/base",
          "model_name": "LayoutModel",
          "model_module_version": "1.2.0",
          "state": {
            "_model_module": "@jupyter-widgets/base",
            "_model_module_version": "1.2.0",
            "_model_name": "LayoutModel",
            "_view_count": null,
            "_view_module": "@jupyter-widgets/base",
            "_view_module_version": "1.2.0",
            "_view_name": "LayoutView",
            "align_content": null,
            "align_items": null,
            "align_self": null,
            "border": null,
            "bottom": null,
            "display": null,
            "flex": null,
            "flex_flow": null,
            "grid_area": null,
            "grid_auto_columns": null,
            "grid_auto_flow": null,
            "grid_auto_rows": null,
            "grid_column": null,
            "grid_gap": null,
            "grid_row": null,
            "grid_template_areas": null,
            "grid_template_columns": null,
            "grid_template_rows": null,
            "height": null,
            "justify_content": null,
            "justify_items": null,
            "left": null,
            "margin": null,
            "max_height": null,
            "max_width": null,
            "min_height": null,
            "min_width": null,
            "object_fit": null,
            "object_position": null,
            "order": null,
            "overflow": null,
            "overflow_x": null,
            "overflow_y": null,
            "padding": null,
            "right": null,
            "top": null,
            "visibility": null,
            "width": null
          }
        },
        "b9ce6bf6a1034801954911b8f0e33517": {
          "model_module": "@jupyter-widgets/controls",
          "model_name": "ProgressStyleModel",
          "model_module_version": "1.5.0",
          "state": {
            "_model_module": "@jupyter-widgets/controls",
            "_model_module_version": "1.5.0",
            "_model_name": "ProgressStyleModel",
            "_view_count": null,
            "_view_module": "@jupyter-widgets/base",
            "_view_module_version": "1.2.0",
            "_view_name": "StyleView",
            "bar_color": null,
            "description_width": ""
          }
        },
        "0755df56aa9d4e419cd169fb9888a741": {
          "model_module": "@jupyter-widgets/base",
          "model_name": "LayoutModel",
          "model_module_version": "1.2.0",
          "state": {
            "_model_module": "@jupyter-widgets/base",
            "_model_module_version": "1.2.0",
            "_model_name": "LayoutModel",
            "_view_count": null,
            "_view_module": "@jupyter-widgets/base",
            "_view_module_version": "1.2.0",
            "_view_name": "LayoutView",
            "align_content": null,
            "align_items": null,
            "align_self": null,
            "border": null,
            "bottom": null,
            "display": null,
            "flex": null,
            "flex_flow": null,
            "grid_area": null,
            "grid_auto_columns": null,
            "grid_auto_flow": null,
            "grid_auto_rows": null,
            "grid_column": null,
            "grid_gap": null,
            "grid_row": null,
            "grid_template_areas": null,
            "grid_template_columns": null,
            "grid_template_rows": null,
            "height": null,
            "justify_content": null,
            "justify_items": null,
            "left": null,
            "margin": null,
            "max_height": null,
            "max_width": null,
            "min_height": null,
            "min_width": null,
            "object_fit": null,
            "object_position": null,
            "order": null,
            "overflow": null,
            "overflow_x": null,
            "overflow_y": null,
            "padding": null,
            "right": null,
            "top": null,
            "visibility": null,
            "width": null
          }
        },
        "c2270f8895b14d78be646db42dad5a25": {
          "model_module": "@jupyter-widgets/controls",
          "model_name": "DescriptionStyleModel",
          "model_module_version": "1.5.0",
          "state": {
            "_model_module": "@jupyter-widgets/controls",
            "_model_module_version": "1.5.0",
            "_model_name": "DescriptionStyleModel",
            "_view_count": null,
            "_view_module": "@jupyter-widgets/base",
            "_view_module_version": "1.2.0",
            "_view_name": "StyleView",
            "description_width": ""
          }
        },
        "3403c31540954dfc8db1c42f715bc96e": {
          "model_module": "@jupyter-widgets/controls",
          "model_name": "HBoxModel",
          "model_module_version": "1.5.0",
          "state": {
            "_dom_classes": [],
            "_model_module": "@jupyter-widgets/controls",
            "_model_module_version": "1.5.0",
            "_model_name": "HBoxModel",
            "_view_count": null,
            "_view_module": "@jupyter-widgets/controls",
            "_view_module_version": "1.5.0",
            "_view_name": "HBoxView",
            "box_style": "",
            "children": [
              "IPY_MODEL_8b09ed7e0f05469885b629d1dcccfac2",
              "IPY_MODEL_1873bfb6f8274518b1f777ade21ad9b7",
              "IPY_MODEL_0a9e7d2cb16a4bb2a7893192f5c6651c"
            ],
            "layout": "IPY_MODEL_672c63c63a524ca2907e8456d2aec050"
          }
        },
        "8b09ed7e0f05469885b629d1dcccfac2": {
          "model_module": "@jupyter-widgets/controls",
          "model_name": "HTMLModel",
          "model_module_version": "1.5.0",
          "state": {
            "_dom_classes": [],
            "_model_module": "@jupyter-widgets/controls",
            "_model_module_version": "1.5.0",
            "_model_name": "HTMLModel",
            "_view_count": null,
            "_view_module": "@jupyter-widgets/controls",
            "_view_module_version": "1.5.0",
            "_view_name": "HTMLView",
            "description": "",
            "description_tooltip": null,
            "layout": "IPY_MODEL_f1221b692f5744f295b742fff96c2aaf",
            "placeholder": "​",
            "style": "IPY_MODEL_844b259b21e4448cb06d51790242235f",
            "value": "Downloading: 100%"
          }
        },
        "1873bfb6f8274518b1f777ade21ad9b7": {
          "model_module": "@jupyter-widgets/controls",
          "model_name": "FloatProgressModel",
          "model_module_version": "1.5.0",
          "state": {
            "_dom_classes": [],
            "_model_module": "@jupyter-widgets/controls",
            "_model_module_version": "1.5.0",
            "_model_name": "FloatProgressModel",
            "_view_count": null,
            "_view_module": "@jupyter-widgets/controls",
            "_view_module_version": "1.5.0",
            "_view_name": "ProgressView",
            "bar_style": "success",
            "description": "",
            "description_tooltip": null,
            "layout": "IPY_MODEL_6af0a94f9a39453cb7194791afed232c",
            "max": 2,
            "min": 0,
            "orientation": "horizontal",
            "style": "IPY_MODEL_d11e6091c20741e1a6d95ac8ec591b8c",
            "value": 2
          }
        },
        "0a9e7d2cb16a4bb2a7893192f5c6651c": {
          "model_module": "@jupyter-widgets/controls",
          "model_name": "HTMLModel",
          "model_module_version": "1.5.0",
          "state": {
            "_dom_classes": [],
            "_model_module": "@jupyter-widgets/controls",
            "_model_module_version": "1.5.0",
            "_model_name": "HTMLModel",
            "_view_count": null,
            "_view_module": "@jupyter-widgets/controls",
            "_view_module_version": "1.5.0",
            "_view_name": "HTMLView",
            "description": "",
            "description_tooltip": null,
            "layout": "IPY_MODEL_3ce9ca68d5d943d8b7789eb8358b9fcb",
            "placeholder": "​",
            "style": "IPY_MODEL_1fb3f15c4175417686aff5585b4beeba",
            "value": " 2.00/2.00 [00:00&lt;00:00, 16.3B/s]"
          }
        },
        "672c63c63a524ca2907e8456d2aec050": {
          "model_module": "@jupyter-widgets/base",
          "model_name": "LayoutModel",
          "model_module_version": "1.2.0",
          "state": {
            "_model_module": "@jupyter-widgets/base",
            "_model_module_version": "1.2.0",
            "_model_name": "LayoutModel",
            "_view_count": null,
            "_view_module": "@jupyter-widgets/base",
            "_view_module_version": "1.2.0",
            "_view_name": "LayoutView",
            "align_content": null,
            "align_items": null,
            "align_self": null,
            "border": null,
            "bottom": null,
            "display": null,
            "flex": null,
            "flex_flow": null,
            "grid_area": null,
            "grid_auto_columns": null,
            "grid_auto_flow": null,
            "grid_auto_rows": null,
            "grid_column": null,
            "grid_gap": null,
            "grid_row": null,
            "grid_template_areas": null,
            "grid_template_columns": null,
            "grid_template_rows": null,
            "height": null,
            "justify_content": null,
            "justify_items": null,
            "left": null,
            "margin": null,
            "max_height": null,
            "max_width": null,
            "min_height": null,
            "min_width": null,
            "object_fit": null,
            "object_position": null,
            "order": null,
            "overflow": null,
            "overflow_x": null,
            "overflow_y": null,
            "padding": null,
            "right": null,
            "top": null,
            "visibility": null,
            "width": null
          }
        },
        "f1221b692f5744f295b742fff96c2aaf": {
          "model_module": "@jupyter-widgets/base",
          "model_name": "LayoutModel",
          "model_module_version": "1.2.0",
          "state": {
            "_model_module": "@jupyter-widgets/base",
            "_model_module_version": "1.2.0",
            "_model_name": "LayoutModel",
            "_view_count": null,
            "_view_module": "@jupyter-widgets/base",
            "_view_module_version": "1.2.0",
            "_view_name": "LayoutView",
            "align_content": null,
            "align_items": null,
            "align_self": null,
            "border": null,
            "bottom": null,
            "display": null,
            "flex": null,
            "flex_flow": null,
            "grid_area": null,
            "grid_auto_columns": null,
            "grid_auto_flow": null,
            "grid_auto_rows": null,
            "grid_column": null,
            "grid_gap": null,
            "grid_row": null,
            "grid_template_areas": null,
            "grid_template_columns": null,
            "grid_template_rows": null,
            "height": null,
            "justify_content": null,
            "justify_items": null,
            "left": null,
            "margin": null,
            "max_height": null,
            "max_width": null,
            "min_height": null,
            "min_width": null,
            "object_fit": null,
            "object_position": null,
            "order": null,
            "overflow": null,
            "overflow_x": null,
            "overflow_y": null,
            "padding": null,
            "right": null,
            "top": null,
            "visibility": null,
            "width": null
          }
        },
        "844b259b21e4448cb06d51790242235f": {
          "model_module": "@jupyter-widgets/controls",
          "model_name": "DescriptionStyleModel",
          "model_module_version": "1.5.0",
          "state": {
            "_model_module": "@jupyter-widgets/controls",
            "_model_module_version": "1.5.0",
            "_model_name": "DescriptionStyleModel",
            "_view_count": null,
            "_view_module": "@jupyter-widgets/base",
            "_view_module_version": "1.2.0",
            "_view_name": "StyleView",
            "description_width": ""
          }
        },
        "6af0a94f9a39453cb7194791afed232c": {
          "model_module": "@jupyter-widgets/base",
          "model_name": "LayoutModel",
          "model_module_version": "1.2.0",
          "state": {
            "_model_module": "@jupyter-widgets/base",
            "_model_module_version": "1.2.0",
            "_model_name": "LayoutModel",
            "_view_count": null,
            "_view_module": "@jupyter-widgets/base",
            "_view_module_version": "1.2.0",
            "_view_name": "LayoutView",
            "align_content": null,
            "align_items": null,
            "align_self": null,
            "border": null,
            "bottom": null,
            "display": null,
            "flex": null,
            "flex_flow": null,
            "grid_area": null,
            "grid_auto_columns": null,
            "grid_auto_flow": null,
            "grid_auto_rows": null,
            "grid_column": null,
            "grid_gap": null,
            "grid_row": null,
            "grid_template_areas": null,
            "grid_template_columns": null,
            "grid_template_rows": null,
            "height": null,
            "justify_content": null,
            "justify_items": null,
            "left": null,
            "margin": null,
            "max_height": null,
            "max_width": null,
            "min_height": null,
            "min_width": null,
            "object_fit": null,
            "object_position": null,
            "order": null,
            "overflow": null,
            "overflow_x": null,
            "overflow_y": null,
            "padding": null,
            "right": null,
            "top": null,
            "visibility": null,
            "width": null
          }
        },
        "d11e6091c20741e1a6d95ac8ec591b8c": {
          "model_module": "@jupyter-widgets/controls",
          "model_name": "ProgressStyleModel",
          "model_module_version": "1.5.0",
          "state": {
            "_model_module": "@jupyter-widgets/controls",
            "_model_module_version": "1.5.0",
            "_model_name": "ProgressStyleModel",
            "_view_count": null,
            "_view_module": "@jupyter-widgets/base",
            "_view_module_version": "1.2.0",
            "_view_name": "StyleView",
            "bar_color": null,
            "description_width": ""
          }
        },
        "3ce9ca68d5d943d8b7789eb8358b9fcb": {
          "model_module": "@jupyter-widgets/base",
          "model_name": "LayoutModel",
          "model_module_version": "1.2.0",
          "state": {
            "_model_module": "@jupyter-widgets/base",
            "_model_module_version": "1.2.0",
            "_model_name": "LayoutModel",
            "_view_count": null,
            "_view_module": "@jupyter-widgets/base",
            "_view_module_version": "1.2.0",
            "_view_name": "LayoutView",
            "align_content": null,
            "align_items": null,
            "align_self": null,
            "border": null,
            "bottom": null,
            "display": null,
            "flex": null,
            "flex_flow": null,
            "grid_area": null,
            "grid_auto_columns": null,
            "grid_auto_flow": null,
            "grid_auto_rows": null,
            "grid_column": null,
            "grid_gap": null,
            "grid_row": null,
            "grid_template_areas": null,
            "grid_template_columns": null,
            "grid_template_rows": null,
            "height": null,
            "justify_content": null,
            "justify_items": null,
            "left": null,
            "margin": null,
            "max_height": null,
            "max_width": null,
            "min_height": null,
            "min_width": null,
            "object_fit": null,
            "object_position": null,
            "order": null,
            "overflow": null,
            "overflow_x": null,
            "overflow_y": null,
            "padding": null,
            "right": null,
            "top": null,
            "visibility": null,
            "width": null
          }
        },
        "1fb3f15c4175417686aff5585b4beeba": {
          "model_module": "@jupyter-widgets/controls",
          "model_name": "DescriptionStyleModel",
          "model_module_version": "1.5.0",
          "state": {
            "_model_module": "@jupyter-widgets/controls",
            "_model_module_version": "1.5.0",
            "_model_name": "DescriptionStyleModel",
            "_view_count": null,
            "_view_module": "@jupyter-widgets/base",
            "_view_module_version": "1.2.0",
            "_view_name": "StyleView",
            "description_width": ""
          }
        },
        "f11823d1271f42d78e7e3217be26a414": {
          "model_module": "@jupyter-widgets/controls",
          "model_name": "HBoxModel",
          "model_module_version": "1.5.0",
          "state": {
            "_dom_classes": [],
            "_model_module": "@jupyter-widgets/controls",
            "_model_module_version": "1.5.0",
            "_model_name": "HBoxModel",
            "_view_count": null,
            "_view_module": "@jupyter-widgets/controls",
            "_view_module_version": "1.5.0",
            "_view_name": "HBoxView",
            "box_style": "",
            "children": [
              "IPY_MODEL_8c257e4b96f044d994598ea4df1a3b59",
              "IPY_MODEL_affaa19146134f01998cdc435d58c16a",
              "IPY_MODEL_cab458eafb154ebf9002d95d3e4c4db8"
            ],
            "layout": "IPY_MODEL_e9166b6e278a40e495fbfd16d67ae573"
          }
        },
        "8c257e4b96f044d994598ea4df1a3b59": {
          "model_module": "@jupyter-widgets/controls",
          "model_name": "HTMLModel",
          "model_module_version": "1.5.0",
          "state": {
            "_dom_classes": [],
            "_model_module": "@jupyter-widgets/controls",
            "_model_module_version": "1.5.0",
            "_model_name": "HTMLModel",
            "_view_count": null,
            "_view_module": "@jupyter-widgets/controls",
            "_view_module_version": "1.5.0",
            "_view_name": "HTMLView",
            "description": "",
            "description_tooltip": null,
            "layout": "IPY_MODEL_31f66f2492ed4d2cb066a1a9f4131455",
            "placeholder": "​",
            "style": "IPY_MODEL_5010f3e51fdf4a0f8945fce8ebe66e8b",
            "value": "Downloading: 100%"
          }
        },
        "affaa19146134f01998cdc435d58c16a": {
          "model_module": "@jupyter-widgets/controls",
          "model_name": "FloatProgressModel",
          "model_module_version": "1.5.0",
          "state": {
            "_dom_classes": [],
            "_model_module": "@jupyter-widgets/controls",
            "_model_module_version": "1.5.0",
            "_model_name": "FloatProgressModel",
            "_view_count": null,
            "_view_module": "@jupyter-widgets/controls",
            "_view_module_version": "1.5.0",
            "_view_name": "ProgressView",
            "bar_style": "success",
            "description": "",
            "description_tooltip": null,
            "layout": "IPY_MODEL_703d343dae38470ab7121ec89a475be0",
            "max": 625,
            "min": 0,
            "orientation": "horizontal",
            "style": "IPY_MODEL_aa92303ce8f948debc397644a65b6597",
            "value": 625
          }
        },
        "cab458eafb154ebf9002d95d3e4c4db8": {
          "model_module": "@jupyter-widgets/controls",
          "model_name": "HTMLModel",
          "model_module_version": "1.5.0",
          "state": {
            "_dom_classes": [],
            "_model_module": "@jupyter-widgets/controls",
            "_model_module_version": "1.5.0",
            "_model_name": "HTMLModel",
            "_view_count": null,
            "_view_module": "@jupyter-widgets/controls",
            "_view_module_version": "1.5.0",
            "_view_name": "HTMLView",
            "description": "",
            "description_tooltip": null,
            "layout": "IPY_MODEL_def3106ab3d7483bbec10b522520b00f",
            "placeholder": "​",
            "style": "IPY_MODEL_62e9f52f63f84f818ef1f2241143b746",
            "value": " 625/625 [00:00&lt;00:00, 6.44kB/s]"
          }
        },
        "e9166b6e278a40e495fbfd16d67ae573": {
          "model_module": "@jupyter-widgets/base",
          "model_name": "LayoutModel",
          "model_module_version": "1.2.0",
          "state": {
            "_model_module": "@jupyter-widgets/base",
            "_model_module_version": "1.2.0",
            "_model_name": "LayoutModel",
            "_view_count": null,
            "_view_module": "@jupyter-widgets/base",
            "_view_module_version": "1.2.0",
            "_view_name": "LayoutView",
            "align_content": null,
            "align_items": null,
            "align_self": null,
            "border": null,
            "bottom": null,
            "display": null,
            "flex": null,
            "flex_flow": null,
            "grid_area": null,
            "grid_auto_columns": null,
            "grid_auto_flow": null,
            "grid_auto_rows": null,
            "grid_column": null,
            "grid_gap": null,
            "grid_row": null,
            "grid_template_areas": null,
            "grid_template_columns": null,
            "grid_template_rows": null,
            "height": null,
            "justify_content": null,
            "justify_items": null,
            "left": null,
            "margin": null,
            "max_height": null,
            "max_width": null,
            "min_height": null,
            "min_width": null,
            "object_fit": null,
            "object_position": null,
            "order": null,
            "overflow": null,
            "overflow_x": null,
            "overflow_y": null,
            "padding": null,
            "right": null,
            "top": null,
            "visibility": null,
            "width": null
          }
        },
        "31f66f2492ed4d2cb066a1a9f4131455": {
          "model_module": "@jupyter-widgets/base",
          "model_name": "LayoutModel",
          "model_module_version": "1.2.0",
          "state": {
            "_model_module": "@jupyter-widgets/base",
            "_model_module_version": "1.2.0",
            "_model_name": "LayoutModel",
            "_view_count": null,
            "_view_module": "@jupyter-widgets/base",
            "_view_module_version": "1.2.0",
            "_view_name": "LayoutView",
            "align_content": null,
            "align_items": null,
            "align_self": null,
            "border": null,
            "bottom": null,
            "display": null,
            "flex": null,
            "flex_flow": null,
            "grid_area": null,
            "grid_auto_columns": null,
            "grid_auto_flow": null,
            "grid_auto_rows": null,
            "grid_column": null,
            "grid_gap": null,
            "grid_row": null,
            "grid_template_areas": null,
            "grid_template_columns": null,
            "grid_template_rows": null,
            "height": null,
            "justify_content": null,
            "justify_items": null,
            "left": null,
            "margin": null,
            "max_height": null,
            "max_width": null,
            "min_height": null,
            "min_width": null,
            "object_fit": null,
            "object_position": null,
            "order": null,
            "overflow": null,
            "overflow_x": null,
            "overflow_y": null,
            "padding": null,
            "right": null,
            "top": null,
            "visibility": null,
            "width": null
          }
        },
        "5010f3e51fdf4a0f8945fce8ebe66e8b": {
          "model_module": "@jupyter-widgets/controls",
          "model_name": "DescriptionStyleModel",
          "model_module_version": "1.5.0",
          "state": {
            "_model_module": "@jupyter-widgets/controls",
            "_model_module_version": "1.5.0",
            "_model_name": "DescriptionStyleModel",
            "_view_count": null,
            "_view_module": "@jupyter-widgets/base",
            "_view_module_version": "1.2.0",
            "_view_name": "StyleView",
            "description_width": ""
          }
        },
        "703d343dae38470ab7121ec89a475be0": {
          "model_module": "@jupyter-widgets/base",
          "model_name": "LayoutModel",
          "model_module_version": "1.2.0",
          "state": {
            "_model_module": "@jupyter-widgets/base",
            "_model_module_version": "1.2.0",
            "_model_name": "LayoutModel",
            "_view_count": null,
            "_view_module": "@jupyter-widgets/base",
            "_view_module_version": "1.2.0",
            "_view_name": "LayoutView",
            "align_content": null,
            "align_items": null,
            "align_self": null,
            "border": null,
            "bottom": null,
            "display": null,
            "flex": null,
            "flex_flow": null,
            "grid_area": null,
            "grid_auto_columns": null,
            "grid_auto_flow": null,
            "grid_auto_rows": null,
            "grid_column": null,
            "grid_gap": null,
            "grid_row": null,
            "grid_template_areas": null,
            "grid_template_columns": null,
            "grid_template_rows": null,
            "height": null,
            "justify_content": null,
            "justify_items": null,
            "left": null,
            "margin": null,
            "max_height": null,
            "max_width": null,
            "min_height": null,
            "min_width": null,
            "object_fit": null,
            "object_position": null,
            "order": null,
            "overflow": null,
            "overflow_x": null,
            "overflow_y": null,
            "padding": null,
            "right": null,
            "top": null,
            "visibility": null,
            "width": null
          }
        },
        "aa92303ce8f948debc397644a65b6597": {
          "model_module": "@jupyter-widgets/controls",
          "model_name": "ProgressStyleModel",
          "model_module_version": "1.5.0",
          "state": {
            "_model_module": "@jupyter-widgets/controls",
            "_model_module_version": "1.5.0",
            "_model_name": "ProgressStyleModel",
            "_view_count": null,
            "_view_module": "@jupyter-widgets/base",
            "_view_module_version": "1.2.0",
            "_view_name": "StyleView",
            "bar_color": null,
            "description_width": ""
          }
        },
        "def3106ab3d7483bbec10b522520b00f": {
          "model_module": "@jupyter-widgets/base",
          "model_name": "LayoutModel",
          "model_module_version": "1.2.0",
          "state": {
            "_model_module": "@jupyter-widgets/base",
            "_model_module_version": "1.2.0",
            "_model_name": "LayoutModel",
            "_view_count": null,
            "_view_module": "@jupyter-widgets/base",
            "_view_module_version": "1.2.0",
            "_view_name": "LayoutView",
            "align_content": null,
            "align_items": null,
            "align_self": null,
            "border": null,
            "bottom": null,
            "display": null,
            "flex": null,
            "flex_flow": null,
            "grid_area": null,
            "grid_auto_columns": null,
            "grid_auto_flow": null,
            "grid_auto_rows": null,
            "grid_column": null,
            "grid_gap": null,
            "grid_row": null,
            "grid_template_areas": null,
            "grid_template_columns": null,
            "grid_template_rows": null,
            "height": null,
            "justify_content": null,
            "justify_items": null,
            "left": null,
            "margin": null,
            "max_height": null,
            "max_width": null,
            "min_height": null,
            "min_width": null,
            "object_fit": null,
            "object_position": null,
            "order": null,
            "overflow": null,
            "overflow_x": null,
            "overflow_y": null,
            "padding": null,
            "right": null,
            "top": null,
            "visibility": null,
            "width": null
          }
        },
        "62e9f52f63f84f818ef1f2241143b746": {
          "model_module": "@jupyter-widgets/controls",
          "model_name": "DescriptionStyleModel",
          "model_module_version": "1.5.0",
          "state": {
            "_model_module": "@jupyter-widgets/controls",
            "_model_module_version": "1.5.0",
            "_model_name": "DescriptionStyleModel",
            "_view_count": null,
            "_view_module": "@jupyter-widgets/base",
            "_view_module_version": "1.2.0",
            "_view_name": "StyleView",
            "description_width": ""
          }
        },
        "4dbb8a6d71d649dbb5a6be824a04f0be": {
          "model_module": "@jupyter-widgets/controls",
          "model_name": "HBoxModel",
          "model_module_version": "1.5.0",
          "state": {
            "_dom_classes": [],
            "_model_module": "@jupyter-widgets/controls",
            "_model_module_version": "1.5.0",
            "_model_name": "HBoxModel",
            "_view_count": null,
            "_view_module": "@jupyter-widgets/controls",
            "_view_module_version": "1.5.0",
            "_view_name": "HBoxView",
            "box_style": "",
            "children": [
              "IPY_MODEL_e6ee5009d67547058e6bb135dec87d3c",
              "IPY_MODEL_434c553786244dd0bacab8b79eb32855",
              "IPY_MODEL_4eef587cebdd444b9b5336ff8e0e8c89"
            ],
            "layout": "IPY_MODEL_494c7d37b37a4a8fa993a867f7f3dfeb"
          }
        },
        "e6ee5009d67547058e6bb135dec87d3c": {
          "model_module": "@jupyter-widgets/controls",
          "model_name": "HTMLModel",
          "model_module_version": "1.5.0",
          "state": {
            "_dom_classes": [],
            "_model_module": "@jupyter-widgets/controls",
            "_model_module_version": "1.5.0",
            "_model_name": "HTMLModel",
            "_view_count": null,
            "_view_module": "@jupyter-widgets/controls",
            "_view_module_version": "1.5.0",
            "_view_name": "HTMLView",
            "description": "",
            "description_tooltip": null,
            "layout": "IPY_MODEL_dcc3061b1d7f4cc5886e6c7e7fc6824d",
            "placeholder": "​",
            "style": "IPY_MODEL_eafffa743bb3430485d638e9eeed3963",
            "value": "Downloading: 100%"
          }
        },
        "434c553786244dd0bacab8b79eb32855": {
          "model_module": "@jupyter-widgets/controls",
          "model_name": "FloatProgressModel",
          "model_module_version": "1.5.0",
          "state": {
            "_dom_classes": [],
            "_model_module": "@jupyter-widgets/controls",
            "_model_module_version": "1.5.0",
            "_model_name": "FloatProgressModel",
            "_view_count": null,
            "_view_module": "@jupyter-widgets/controls",
            "_view_module_version": "1.5.0",
            "_view_name": "ProgressView",
            "bar_style": "success",
            "description": "",
            "description_tooltip": null,
            "layout": "IPY_MODEL_bad6c092bfef4f11b9c169bbeb3583c6",
            "max": 122,
            "min": 0,
            "orientation": "horizontal",
            "style": "IPY_MODEL_8a24a87fa29d4d96ad7f0081a689398e",
            "value": 122
          }
        },
        "4eef587cebdd444b9b5336ff8e0e8c89": {
          "model_module": "@jupyter-widgets/controls",
          "model_name": "HTMLModel",
          "model_module_version": "1.5.0",
          "state": {
            "_dom_classes": [],
            "_model_module": "@jupyter-widgets/controls",
            "_model_module_version": "1.5.0",
            "_model_name": "HTMLModel",
            "_view_count": null,
            "_view_module": "@jupyter-widgets/controls",
            "_view_module_version": "1.5.0",
            "_view_name": "HTMLView",
            "description": "",
            "description_tooltip": null,
            "layout": "IPY_MODEL_868665bfa7be425d983b8dec809b3fbf",
            "placeholder": "​",
            "style": "IPY_MODEL_3b175a3685424436b60918e7df7c34b3",
            "value": " 122/122 [00:00&lt;00:00, 1.23kB/s]"
          }
        },
        "494c7d37b37a4a8fa993a867f7f3dfeb": {
          "model_module": "@jupyter-widgets/base",
          "model_name": "LayoutModel",
          "model_module_version": "1.2.0",
          "state": {
            "_model_module": "@jupyter-widgets/base",
            "_model_module_version": "1.2.0",
            "_model_name": "LayoutModel",
            "_view_count": null,
            "_view_module": "@jupyter-widgets/base",
            "_view_module_version": "1.2.0",
            "_view_name": "LayoutView",
            "align_content": null,
            "align_items": null,
            "align_self": null,
            "border": null,
            "bottom": null,
            "display": null,
            "flex": null,
            "flex_flow": null,
            "grid_area": null,
            "grid_auto_columns": null,
            "grid_auto_flow": null,
            "grid_auto_rows": null,
            "grid_column": null,
            "grid_gap": null,
            "grid_row": null,
            "grid_template_areas": null,
            "grid_template_columns": null,
            "grid_template_rows": null,
            "height": null,
            "justify_content": null,
            "justify_items": null,
            "left": null,
            "margin": null,
            "max_height": null,
            "max_width": null,
            "min_height": null,
            "min_width": null,
            "object_fit": null,
            "object_position": null,
            "order": null,
            "overflow": null,
            "overflow_x": null,
            "overflow_y": null,
            "padding": null,
            "right": null,
            "top": null,
            "visibility": null,
            "width": null
          }
        },
        "dcc3061b1d7f4cc5886e6c7e7fc6824d": {
          "model_module": "@jupyter-widgets/base",
          "model_name": "LayoutModel",
          "model_module_version": "1.2.0",
          "state": {
            "_model_module": "@jupyter-widgets/base",
            "_model_module_version": "1.2.0",
            "_model_name": "LayoutModel",
            "_view_count": null,
            "_view_module": "@jupyter-widgets/base",
            "_view_module_version": "1.2.0",
            "_view_name": "LayoutView",
            "align_content": null,
            "align_items": null,
            "align_self": null,
            "border": null,
            "bottom": null,
            "display": null,
            "flex": null,
            "flex_flow": null,
            "grid_area": null,
            "grid_auto_columns": null,
            "grid_auto_flow": null,
            "grid_auto_rows": null,
            "grid_column": null,
            "grid_gap": null,
            "grid_row": null,
            "grid_template_areas": null,
            "grid_template_columns": null,
            "grid_template_rows": null,
            "height": null,
            "justify_content": null,
            "justify_items": null,
            "left": null,
            "margin": null,
            "max_height": null,
            "max_width": null,
            "min_height": null,
            "min_width": null,
            "object_fit": null,
            "object_position": null,
            "order": null,
            "overflow": null,
            "overflow_x": null,
            "overflow_y": null,
            "padding": null,
            "right": null,
            "top": null,
            "visibility": null,
            "width": null
          }
        },
        "eafffa743bb3430485d638e9eeed3963": {
          "model_module": "@jupyter-widgets/controls",
          "model_name": "DescriptionStyleModel",
          "model_module_version": "1.5.0",
          "state": {
            "_model_module": "@jupyter-widgets/controls",
            "_model_module_version": "1.5.0",
            "_model_name": "DescriptionStyleModel",
            "_view_count": null,
            "_view_module": "@jupyter-widgets/base",
            "_view_module_version": "1.2.0",
            "_view_name": "StyleView",
            "description_width": ""
          }
        },
        "bad6c092bfef4f11b9c169bbeb3583c6": {
          "model_module": "@jupyter-widgets/base",
          "model_name": "LayoutModel",
          "model_module_version": "1.2.0",
          "state": {
            "_model_module": "@jupyter-widgets/base",
            "_model_module_version": "1.2.0",
            "_model_name": "LayoutModel",
            "_view_count": null,
            "_view_module": "@jupyter-widgets/base",
            "_view_module_version": "1.2.0",
            "_view_name": "LayoutView",
            "align_content": null,
            "align_items": null,
            "align_self": null,
            "border": null,
            "bottom": null,
            "display": null,
            "flex": null,
            "flex_flow": null,
            "grid_area": null,
            "grid_auto_columns": null,
            "grid_auto_flow": null,
            "grid_auto_rows": null,
            "grid_column": null,
            "grid_gap": null,
            "grid_row": null,
            "grid_template_areas": null,
            "grid_template_columns": null,
            "grid_template_rows": null,
            "height": null,
            "justify_content": null,
            "justify_items": null,
            "left": null,
            "margin": null,
            "max_height": null,
            "max_width": null,
            "min_height": null,
            "min_width": null,
            "object_fit": null,
            "object_position": null,
            "order": null,
            "overflow": null,
            "overflow_x": null,
            "overflow_y": null,
            "padding": null,
            "right": null,
            "top": null,
            "visibility": null,
            "width": null
          }
        },
        "8a24a87fa29d4d96ad7f0081a689398e": {
          "model_module": "@jupyter-widgets/controls",
          "model_name": "ProgressStyleModel",
          "model_module_version": "1.5.0",
          "state": {
            "_model_module": "@jupyter-widgets/controls",
            "_model_module_version": "1.5.0",
            "_model_name": "ProgressStyleModel",
            "_view_count": null,
            "_view_module": "@jupyter-widgets/base",
            "_view_module_version": "1.2.0",
            "_view_name": "StyleView",
            "bar_color": null,
            "description_width": ""
          }
        },
        "868665bfa7be425d983b8dec809b3fbf": {
          "model_module": "@jupyter-widgets/base",
          "model_name": "LayoutModel",
          "model_module_version": "1.2.0",
          "state": {
            "_model_module": "@jupyter-widgets/base",
            "_model_module_version": "1.2.0",
            "_model_name": "LayoutModel",
            "_view_count": null,
            "_view_module": "@jupyter-widgets/base",
            "_view_module_version": "1.2.0",
            "_view_name": "LayoutView",
            "align_content": null,
            "align_items": null,
            "align_self": null,
            "border": null,
            "bottom": null,
            "display": null,
            "flex": null,
            "flex_flow": null,
            "grid_area": null,
            "grid_auto_columns": null,
            "grid_auto_flow": null,
            "grid_auto_rows": null,
            "grid_column": null,
            "grid_gap": null,
            "grid_row": null,
            "grid_template_areas": null,
            "grid_template_columns": null,
            "grid_template_rows": null,
            "height": null,
            "justify_content": null,
            "justify_items": null,
            "left": null,
            "margin": null,
            "max_height": null,
            "max_width": null,
            "min_height": null,
            "min_width": null,
            "object_fit": null,
            "object_position": null,
            "order": null,
            "overflow": null,
            "overflow_x": null,
            "overflow_y": null,
            "padding": null,
            "right": null,
            "top": null,
            "visibility": null,
            "width": null
          }
        },
        "3b175a3685424436b60918e7df7c34b3": {
          "model_module": "@jupyter-widgets/controls",
          "model_name": "DescriptionStyleModel",
          "model_module_version": "1.5.0",
          "state": {
            "_model_module": "@jupyter-widgets/controls",
            "_model_module_version": "1.5.0",
            "_model_name": "DescriptionStyleModel",
            "_view_count": null,
            "_view_module": "@jupyter-widgets/base",
            "_view_module_version": "1.2.0",
            "_view_name": "StyleView",
            "description_width": ""
          }
        },
        "d49f5a0af88c420ab6bc880c309049f1": {
          "model_module": "@jupyter-widgets/controls",
          "model_name": "HBoxModel",
          "model_module_version": "1.5.0",
          "state": {
            "_dom_classes": [],
            "_model_module": "@jupyter-widgets/controls",
            "_model_module_version": "1.5.0",
            "_model_name": "HBoxModel",
            "_view_count": null,
            "_view_module": "@jupyter-widgets/controls",
            "_view_module_version": "1.5.0",
            "_view_name": "HBoxView",
            "box_style": "",
            "children": [
              "IPY_MODEL_618de58e97e04f698287d7d1a774f485",
              "IPY_MODEL_163fcdac35004c649981764003f664f0",
              "IPY_MODEL_8c6ef8ade573440a941bffbad6b9449a"
            ],
            "layout": "IPY_MODEL_c2a3b558cb8a491ca6399e4ae2d8bf7d"
          }
        },
        "618de58e97e04f698287d7d1a774f485": {
          "model_module": "@jupyter-widgets/controls",
          "model_name": "HTMLModel",
          "model_module_version": "1.5.0",
          "state": {
            "_dom_classes": [],
            "_model_module": "@jupyter-widgets/controls",
            "_model_module_version": "1.5.0",
            "_model_name": "HTMLModel",
            "_view_count": null,
            "_view_module": "@jupyter-widgets/controls",
            "_view_module_version": "1.5.0",
            "_view_name": "HTMLView",
            "description": "",
            "description_tooltip": null,
            "layout": "IPY_MODEL_e9091ce6bed44c7294c917d8beda5951",
            "placeholder": "​",
            "style": "IPY_MODEL_e64964fe08234a50952222bd708bf3f1",
            "value": "Downloading: 100%"
          }
        },
        "163fcdac35004c649981764003f664f0": {
          "model_module": "@jupyter-widgets/controls",
          "model_name": "FloatProgressModel",
          "model_module_version": "1.5.0",
          "state": {
            "_dom_classes": [],
            "_model_module": "@jupyter-widgets/controls",
            "_model_module_version": "1.5.0",
            "_model_name": "FloatProgressModel",
            "_view_count": null,
            "_view_module": "@jupyter-widgets/controls",
            "_view_module_version": "1.5.0",
            "_view_name": "ProgressView",
            "bar_style": "success",
            "description": "",
            "description_tooltip": null,
            "layout": "IPY_MODEL_52bc690c828d4d2d9a06af2495ec0303",
            "max": 438007537,
            "min": 0,
            "orientation": "horizontal",
            "style": "IPY_MODEL_09ca9d75c6464ed1a3c23799538cef19",
            "value": 438007537
          }
        },
        "8c6ef8ade573440a941bffbad6b9449a": {
          "model_module": "@jupyter-widgets/controls",
          "model_name": "HTMLModel",
          "model_module_version": "1.5.0",
          "state": {
            "_dom_classes": [],
            "_model_module": "@jupyter-widgets/controls",
            "_model_module_version": "1.5.0",
            "_model_name": "HTMLModel",
            "_view_count": null,
            "_view_module": "@jupyter-widgets/controls",
            "_view_module_version": "1.5.0",
            "_view_name": "HTMLView",
            "description": "",
            "description_tooltip": null,
            "layout": "IPY_MODEL_f4fcfecb83054b499972f77009884f35",
            "placeholder": "​",
            "style": "IPY_MODEL_733d5419c56d46c48798a9165461c5b3",
            "value": " 438M/438M [00:18&lt;00:00, 23.2MB/s]"
          }
        },
        "c2a3b558cb8a491ca6399e4ae2d8bf7d": {
          "model_module": "@jupyter-widgets/base",
          "model_name": "LayoutModel",
          "model_module_version": "1.2.0",
          "state": {
            "_model_module": "@jupyter-widgets/base",
            "_model_module_version": "1.2.0",
            "_model_name": "LayoutModel",
            "_view_count": null,
            "_view_module": "@jupyter-widgets/base",
            "_view_module_version": "1.2.0",
            "_view_name": "LayoutView",
            "align_content": null,
            "align_items": null,
            "align_self": null,
            "border": null,
            "bottom": null,
            "display": null,
            "flex": null,
            "flex_flow": null,
            "grid_area": null,
            "grid_auto_columns": null,
            "grid_auto_flow": null,
            "grid_auto_rows": null,
            "grid_column": null,
            "grid_gap": null,
            "grid_row": null,
            "grid_template_areas": null,
            "grid_template_columns": null,
            "grid_template_rows": null,
            "height": null,
            "justify_content": null,
            "justify_items": null,
            "left": null,
            "margin": null,
            "max_height": null,
            "max_width": null,
            "min_height": null,
            "min_width": null,
            "object_fit": null,
            "object_position": null,
            "order": null,
            "overflow": null,
            "overflow_x": null,
            "overflow_y": null,
            "padding": null,
            "right": null,
            "top": null,
            "visibility": null,
            "width": null
          }
        },
        "e9091ce6bed44c7294c917d8beda5951": {
          "model_module": "@jupyter-widgets/base",
          "model_name": "LayoutModel",
          "model_module_version": "1.2.0",
          "state": {
            "_model_module": "@jupyter-widgets/base",
            "_model_module_version": "1.2.0",
            "_model_name": "LayoutModel",
            "_view_count": null,
            "_view_module": "@jupyter-widgets/base",
            "_view_module_version": "1.2.0",
            "_view_name": "LayoutView",
            "align_content": null,
            "align_items": null,
            "align_self": null,
            "border": null,
            "bottom": null,
            "display": null,
            "flex": null,
            "flex_flow": null,
            "grid_area": null,
            "grid_auto_columns": null,
            "grid_auto_flow": null,
            "grid_auto_rows": null,
            "grid_column": null,
            "grid_gap": null,
            "grid_row": null,
            "grid_template_areas": null,
            "grid_template_columns": null,
            "grid_template_rows": null,
            "height": null,
            "justify_content": null,
            "justify_items": null,
            "left": null,
            "margin": null,
            "max_height": null,
            "max_width": null,
            "min_height": null,
            "min_width": null,
            "object_fit": null,
            "object_position": null,
            "order": null,
            "overflow": null,
            "overflow_x": null,
            "overflow_y": null,
            "padding": null,
            "right": null,
            "top": null,
            "visibility": null,
            "width": null
          }
        },
        "e64964fe08234a50952222bd708bf3f1": {
          "model_module": "@jupyter-widgets/controls",
          "model_name": "DescriptionStyleModel",
          "model_module_version": "1.5.0",
          "state": {
            "_model_module": "@jupyter-widgets/controls",
            "_model_module_version": "1.5.0",
            "_model_name": "DescriptionStyleModel",
            "_view_count": null,
            "_view_module": "@jupyter-widgets/base",
            "_view_module_version": "1.2.0",
            "_view_name": "StyleView",
            "description_width": ""
          }
        },
        "52bc690c828d4d2d9a06af2495ec0303": {
          "model_module": "@jupyter-widgets/base",
          "model_name": "LayoutModel",
          "model_module_version": "1.2.0",
          "state": {
            "_model_module": "@jupyter-widgets/base",
            "_model_module_version": "1.2.0",
            "_model_name": "LayoutModel",
            "_view_count": null,
            "_view_module": "@jupyter-widgets/base",
            "_view_module_version": "1.2.0",
            "_view_name": "LayoutView",
            "align_content": null,
            "align_items": null,
            "align_self": null,
            "border": null,
            "bottom": null,
            "display": null,
            "flex": null,
            "flex_flow": null,
            "grid_area": null,
            "grid_auto_columns": null,
            "grid_auto_flow": null,
            "grid_auto_rows": null,
            "grid_column": null,
            "grid_gap": null,
            "grid_row": null,
            "grid_template_areas": null,
            "grid_template_columns": null,
            "grid_template_rows": null,
            "height": null,
            "justify_content": null,
            "justify_items": null,
            "left": null,
            "margin": null,
            "max_height": null,
            "max_width": null,
            "min_height": null,
            "min_width": null,
            "object_fit": null,
            "object_position": null,
            "order": null,
            "overflow": null,
            "overflow_x": null,
            "overflow_y": null,
            "padding": null,
            "right": null,
            "top": null,
            "visibility": null,
            "width": null
          }
        },
        "09ca9d75c6464ed1a3c23799538cef19": {
          "model_module": "@jupyter-widgets/controls",
          "model_name": "ProgressStyleModel",
          "model_module_version": "1.5.0",
          "state": {
            "_model_module": "@jupyter-widgets/controls",
            "_model_module_version": "1.5.0",
            "_model_name": "ProgressStyleModel",
            "_view_count": null,
            "_view_module": "@jupyter-widgets/base",
            "_view_module_version": "1.2.0",
            "_view_name": "StyleView",
            "bar_color": null,
            "description_width": ""
          }
        },
        "f4fcfecb83054b499972f77009884f35": {
          "model_module": "@jupyter-widgets/base",
          "model_name": "LayoutModel",
          "model_module_version": "1.2.0",
          "state": {
            "_model_module": "@jupyter-widgets/base",
            "_model_module_version": "1.2.0",
            "_model_name": "LayoutModel",
            "_view_count": null,
            "_view_module": "@jupyter-widgets/base",
            "_view_module_version": "1.2.0",
            "_view_name": "LayoutView",
            "align_content": null,
            "align_items": null,
            "align_self": null,
            "border": null,
            "bottom": null,
            "display": null,
            "flex": null,
            "flex_flow": null,
            "grid_area": null,
            "grid_auto_columns": null,
            "grid_auto_flow": null,
            "grid_auto_rows": null,
            "grid_column": null,
            "grid_gap": null,
            "grid_row": null,
            "grid_template_areas": null,
            "grid_template_columns": null,
            "grid_template_rows": null,
            "height": null,
            "justify_content": null,
            "justify_items": null,
            "left": null,
            "margin": null,
            "max_height": null,
            "max_width": null,
            "min_height": null,
            "min_width": null,
            "object_fit": null,
            "object_position": null,
            "order": null,
            "overflow": null,
            "overflow_x": null,
            "overflow_y": null,
            "padding": null,
            "right": null,
            "top": null,
            "visibility": null,
            "width": null
          }
        },
        "733d5419c56d46c48798a9165461c5b3": {
          "model_module": "@jupyter-widgets/controls",
          "model_name": "DescriptionStyleModel",
          "model_module_version": "1.5.0",
          "state": {
            "_model_module": "@jupyter-widgets/controls",
            "_model_module_version": "1.5.0",
            "_model_name": "DescriptionStyleModel",
            "_view_count": null,
            "_view_module": "@jupyter-widgets/base",
            "_view_module_version": "1.2.0",
            "_view_name": "StyleView",
            "description_width": ""
          }
        },
        "19e52d2d23514470acbcb2e94fe0f028": {
          "model_module": "@jupyter-widgets/controls",
          "model_name": "HBoxModel",
          "model_module_version": "1.5.0",
          "state": {
            "_dom_classes": [],
            "_model_module": "@jupyter-widgets/controls",
            "_model_module_version": "1.5.0",
            "_model_name": "HBoxModel",
            "_view_count": null,
            "_view_module": "@jupyter-widgets/controls",
            "_view_module_version": "1.5.0",
            "_view_name": "HBoxView",
            "box_style": "",
            "children": [
              "IPY_MODEL_3fd84c1ba4fc42e997d55dd64013f61b",
              "IPY_MODEL_a36332e2b9a34bdb913ee4bda9dd0aec",
              "IPY_MODEL_d6b16d514fd74c9294dc87cb8901cbac"
            ],
            "layout": "IPY_MODEL_7f681352ec214f9b94421996d301929b"
          }
        },
        "3fd84c1ba4fc42e997d55dd64013f61b": {
          "model_module": "@jupyter-widgets/controls",
          "model_name": "HTMLModel",
          "model_module_version": "1.5.0",
          "state": {
            "_dom_classes": [],
            "_model_module": "@jupyter-widgets/controls",
            "_model_module_version": "1.5.0",
            "_model_name": "HTMLModel",
            "_view_count": null,
            "_view_module": "@jupyter-widgets/controls",
            "_view_module_version": "1.5.0",
            "_view_name": "HTMLView",
            "description": "",
            "description_tooltip": null,
            "layout": "IPY_MODEL_00e3dd095a0244a0846911089c4ab366",
            "placeholder": "​",
            "style": "IPY_MODEL_3630cee246d84935aa23a795db7465e2",
            "value": "Downloading: 100%"
          }
        },
        "a36332e2b9a34bdb913ee4bda9dd0aec": {
          "model_module": "@jupyter-widgets/controls",
          "model_name": "FloatProgressModel",
          "model_module_version": "1.5.0",
          "state": {
            "_dom_classes": [],
            "_model_module": "@jupyter-widgets/controls",
            "_model_module_version": "1.5.0",
            "_model_name": "FloatProgressModel",
            "_view_count": null,
            "_view_module": "@jupyter-widgets/controls",
            "_view_module_version": "1.5.0",
            "_view_name": "ProgressView",
            "bar_style": "success",
            "description": "",
            "description_tooltip": null,
            "layout": "IPY_MODEL_ba4154e8c1b74247ad1ab1a5adff0e94",
            "max": 53,
            "min": 0,
            "orientation": "horizontal",
            "style": "IPY_MODEL_8d22e0d8aa5c4e829f1c7896eefd2183",
            "value": 53
          }
        },
        "d6b16d514fd74c9294dc87cb8901cbac": {
          "model_module": "@jupyter-widgets/controls",
          "model_name": "HTMLModel",
          "model_module_version": "1.5.0",
          "state": {
            "_dom_classes": [],
            "_model_module": "@jupyter-widgets/controls",
            "_model_module_version": "1.5.0",
            "_model_name": "HTMLModel",
            "_view_count": null,
            "_view_module": "@jupyter-widgets/controls",
            "_view_module_version": "1.5.0",
            "_view_name": "HTMLView",
            "description": "",
            "description_tooltip": null,
            "layout": "IPY_MODEL_a7ade28226ee47de92807bcecd0b36da",
            "placeholder": "​",
            "style": "IPY_MODEL_e894f502ca524398ab6441bf58d119b7",
            "value": " 53.0/53.0 [00:00&lt;00:00, 662B/s]"
          }
        },
        "7f681352ec214f9b94421996d301929b": {
          "model_module": "@jupyter-widgets/base",
          "model_name": "LayoutModel",
          "model_module_version": "1.2.0",
          "state": {
            "_model_module": "@jupyter-widgets/base",
            "_model_module_version": "1.2.0",
            "_model_name": "LayoutModel",
            "_view_count": null,
            "_view_module": "@jupyter-widgets/base",
            "_view_module_version": "1.2.0",
            "_view_name": "LayoutView",
            "align_content": null,
            "align_items": null,
            "align_self": null,
            "border": null,
            "bottom": null,
            "display": null,
            "flex": null,
            "flex_flow": null,
            "grid_area": null,
            "grid_auto_columns": null,
            "grid_auto_flow": null,
            "grid_auto_rows": null,
            "grid_column": null,
            "grid_gap": null,
            "grid_row": null,
            "grid_template_areas": null,
            "grid_template_columns": null,
            "grid_template_rows": null,
            "height": null,
            "justify_content": null,
            "justify_items": null,
            "left": null,
            "margin": null,
            "max_height": null,
            "max_width": null,
            "min_height": null,
            "min_width": null,
            "object_fit": null,
            "object_position": null,
            "order": null,
            "overflow": null,
            "overflow_x": null,
            "overflow_y": null,
            "padding": null,
            "right": null,
            "top": null,
            "visibility": null,
            "width": null
          }
        },
        "00e3dd095a0244a0846911089c4ab366": {
          "model_module": "@jupyter-widgets/base",
          "model_name": "LayoutModel",
          "model_module_version": "1.2.0",
          "state": {
            "_model_module": "@jupyter-widgets/base",
            "_model_module_version": "1.2.0",
            "_model_name": "LayoutModel",
            "_view_count": null,
            "_view_module": "@jupyter-widgets/base",
            "_view_module_version": "1.2.0",
            "_view_name": "LayoutView",
            "align_content": null,
            "align_items": null,
            "align_self": null,
            "border": null,
            "bottom": null,
            "display": null,
            "flex": null,
            "flex_flow": null,
            "grid_area": null,
            "grid_auto_columns": null,
            "grid_auto_flow": null,
            "grid_auto_rows": null,
            "grid_column": null,
            "grid_gap": null,
            "grid_row": null,
            "grid_template_areas": null,
            "grid_template_columns": null,
            "grid_template_rows": null,
            "height": null,
            "justify_content": null,
            "justify_items": null,
            "left": null,
            "margin": null,
            "max_height": null,
            "max_width": null,
            "min_height": null,
            "min_width": null,
            "object_fit": null,
            "object_position": null,
            "order": null,
            "overflow": null,
            "overflow_x": null,
            "overflow_y": null,
            "padding": null,
            "right": null,
            "top": null,
            "visibility": null,
            "width": null
          }
        },
        "3630cee246d84935aa23a795db7465e2": {
          "model_module": "@jupyter-widgets/controls",
          "model_name": "DescriptionStyleModel",
          "model_module_version": "1.5.0",
          "state": {
            "_model_module": "@jupyter-widgets/controls",
            "_model_module_version": "1.5.0",
            "_model_name": "DescriptionStyleModel",
            "_view_count": null,
            "_view_module": "@jupyter-widgets/base",
            "_view_module_version": "1.2.0",
            "_view_name": "StyleView",
            "description_width": ""
          }
        },
        "ba4154e8c1b74247ad1ab1a5adff0e94": {
          "model_module": "@jupyter-widgets/base",
          "model_name": "LayoutModel",
          "model_module_version": "1.2.0",
          "state": {
            "_model_module": "@jupyter-widgets/base",
            "_model_module_version": "1.2.0",
            "_model_name": "LayoutModel",
            "_view_count": null,
            "_view_module": "@jupyter-widgets/base",
            "_view_module_version": "1.2.0",
            "_view_name": "LayoutView",
            "align_content": null,
            "align_items": null,
            "align_self": null,
            "border": null,
            "bottom": null,
            "display": null,
            "flex": null,
            "flex_flow": null,
            "grid_area": null,
            "grid_auto_columns": null,
            "grid_auto_flow": null,
            "grid_auto_rows": null,
            "grid_column": null,
            "grid_gap": null,
            "grid_row": null,
            "grid_template_areas": null,
            "grid_template_columns": null,
            "grid_template_rows": null,
            "height": null,
            "justify_content": null,
            "justify_items": null,
            "left": null,
            "margin": null,
            "max_height": null,
            "max_width": null,
            "min_height": null,
            "min_width": null,
            "object_fit": null,
            "object_position": null,
            "order": null,
            "overflow": null,
            "overflow_x": null,
            "overflow_y": null,
            "padding": null,
            "right": null,
            "top": null,
            "visibility": null,
            "width": null
          }
        },
        "8d22e0d8aa5c4e829f1c7896eefd2183": {
          "model_module": "@jupyter-widgets/controls",
          "model_name": "ProgressStyleModel",
          "model_module_version": "1.5.0",
          "state": {
            "_model_module": "@jupyter-widgets/controls",
            "_model_module_version": "1.5.0",
            "_model_name": "ProgressStyleModel",
            "_view_count": null,
            "_view_module": "@jupyter-widgets/base",
            "_view_module_version": "1.2.0",
            "_view_name": "StyleView",
            "bar_color": null,
            "description_width": ""
          }
        },
        "a7ade28226ee47de92807bcecd0b36da": {
          "model_module": "@jupyter-widgets/base",
          "model_name": "LayoutModel",
          "model_module_version": "1.2.0",
          "state": {
            "_model_module": "@jupyter-widgets/base",
            "_model_module_version": "1.2.0",
            "_model_name": "LayoutModel",
            "_view_count": null,
            "_view_module": "@jupyter-widgets/base",
            "_view_module_version": "1.2.0",
            "_view_name": "LayoutView",
            "align_content": null,
            "align_items": null,
            "align_self": null,
            "border": null,
            "bottom": null,
            "display": null,
            "flex": null,
            "flex_flow": null,
            "grid_area": null,
            "grid_auto_columns": null,
            "grid_auto_flow": null,
            "grid_auto_rows": null,
            "grid_column": null,
            "grid_gap": null,
            "grid_row": null,
            "grid_template_areas": null,
            "grid_template_columns": null,
            "grid_template_rows": null,
            "height": null,
            "justify_content": null,
            "justify_items": null,
            "left": null,
            "margin": null,
            "max_height": null,
            "max_width": null,
            "min_height": null,
            "min_width": null,
            "object_fit": null,
            "object_position": null,
            "order": null,
            "overflow": null,
            "overflow_x": null,
            "overflow_y": null,
            "padding": null,
            "right": null,
            "top": null,
            "visibility": null,
            "width": null
          }
        },
        "e894f502ca524398ab6441bf58d119b7": {
          "model_module": "@jupyter-widgets/controls",
          "model_name": "DescriptionStyleModel",
          "model_module_version": "1.5.0",
          "state": {
            "_model_module": "@jupyter-widgets/controls",
            "_model_module_version": "1.5.0",
            "_model_name": "DescriptionStyleModel",
            "_view_count": null,
            "_view_module": "@jupyter-widgets/base",
            "_view_module_version": "1.2.0",
            "_view_name": "StyleView",
            "description_width": ""
          }
        },
        "79368ab3e79a483aae4e52806d1f6bec": {
          "model_module": "@jupyter-widgets/controls",
          "model_name": "HBoxModel",
          "model_module_version": "1.5.0",
          "state": {
            "_dom_classes": [],
            "_model_module": "@jupyter-widgets/controls",
            "_model_module_version": "1.5.0",
            "_model_name": "HBoxModel",
            "_view_count": null,
            "_view_module": "@jupyter-widgets/controls",
            "_view_module_version": "1.5.0",
            "_view_name": "HBoxView",
            "box_style": "",
            "children": [
              "IPY_MODEL_080d755e7d9c4705b55575f43278245f",
              "IPY_MODEL_0508e9bdd3ea4b86848810e852b1baaa",
              "IPY_MODEL_d38094372d0f4beaa8e1c2d47ea40c63"
            ],
            "layout": "IPY_MODEL_e8dc608cbc314fe18763732cfe816a1f"
          }
        },
        "080d755e7d9c4705b55575f43278245f": {
          "model_module": "@jupyter-widgets/controls",
          "model_name": "HTMLModel",
          "model_module_version": "1.5.0",
          "state": {
            "_dom_classes": [],
            "_model_module": "@jupyter-widgets/controls",
            "_model_module_version": "1.5.0",
            "_model_name": "HTMLModel",
            "_view_count": null,
            "_view_module": "@jupyter-widgets/controls",
            "_view_module_version": "1.5.0",
            "_view_name": "HTMLView",
            "description": "",
            "description_tooltip": null,
            "layout": "IPY_MODEL_eea4e8396df847ac91da7c29536a88f3",
            "placeholder": "​",
            "style": "IPY_MODEL_4ce71a210aaf4071a841532fbbe4ec7e",
            "value": "Downloading: 100%"
          }
        },
        "0508e9bdd3ea4b86848810e852b1baaa": {
          "model_module": "@jupyter-widgets/controls",
          "model_name": "FloatProgressModel",
          "model_module_version": "1.5.0",
          "state": {
            "_dom_classes": [],
            "_model_module": "@jupyter-widgets/controls",
            "_model_module_version": "1.5.0",
            "_model_name": "FloatProgressModel",
            "_view_count": null,
            "_view_module": "@jupyter-widgets/controls",
            "_view_module_version": "1.5.0",
            "_view_name": "ProgressView",
            "bar_style": "success",
            "description": "",
            "description_tooltip": null,
            "layout": "IPY_MODEL_82aa7229768b4273842bd98bce03ba74",
            "max": 112,
            "min": 0,
            "orientation": "horizontal",
            "style": "IPY_MODEL_339c4ad2cdef42ada5cd870580612ef4",
            "value": 112
          }
        },
        "d38094372d0f4beaa8e1c2d47ea40c63": {
          "model_module": "@jupyter-widgets/controls",
          "model_name": "HTMLModel",
          "model_module_version": "1.5.0",
          "state": {
            "_dom_classes": [],
            "_model_module": "@jupyter-widgets/controls",
            "_model_module_version": "1.5.0",
            "_model_name": "HTMLModel",
            "_view_count": null,
            "_view_module": "@jupyter-widgets/controls",
            "_view_module_version": "1.5.0",
            "_view_name": "HTMLView",
            "description": "",
            "description_tooltip": null,
            "layout": "IPY_MODEL_32b33e33414a4ff7a46d17ad7a1850f9",
            "placeholder": "​",
            "style": "IPY_MODEL_0aa53819e22542b8a7104dad75ec06ae",
            "value": " 112/112 [00:00&lt;00:00, 880B/s]"
          }
        },
        "e8dc608cbc314fe18763732cfe816a1f": {
          "model_module": "@jupyter-widgets/base",
          "model_name": "LayoutModel",
          "model_module_version": "1.2.0",
          "state": {
            "_model_module": "@jupyter-widgets/base",
            "_model_module_version": "1.2.0",
            "_model_name": "LayoutModel",
            "_view_count": null,
            "_view_module": "@jupyter-widgets/base",
            "_view_module_version": "1.2.0",
            "_view_name": "LayoutView",
            "align_content": null,
            "align_items": null,
            "align_self": null,
            "border": null,
            "bottom": null,
            "display": null,
            "flex": null,
            "flex_flow": null,
            "grid_area": null,
            "grid_auto_columns": null,
            "grid_auto_flow": null,
            "grid_auto_rows": null,
            "grid_column": null,
            "grid_gap": null,
            "grid_row": null,
            "grid_template_areas": null,
            "grid_template_columns": null,
            "grid_template_rows": null,
            "height": null,
            "justify_content": null,
            "justify_items": null,
            "left": null,
            "margin": null,
            "max_height": null,
            "max_width": null,
            "min_height": null,
            "min_width": null,
            "object_fit": null,
            "object_position": null,
            "order": null,
            "overflow": null,
            "overflow_x": null,
            "overflow_y": null,
            "padding": null,
            "right": null,
            "top": null,
            "visibility": null,
            "width": null
          }
        },
        "eea4e8396df847ac91da7c29536a88f3": {
          "model_module": "@jupyter-widgets/base",
          "model_name": "LayoutModel",
          "model_module_version": "1.2.0",
          "state": {
            "_model_module": "@jupyter-widgets/base",
            "_model_module_version": "1.2.0",
            "_model_name": "LayoutModel",
            "_view_count": null,
            "_view_module": "@jupyter-widgets/base",
            "_view_module_version": "1.2.0",
            "_view_name": "LayoutView",
            "align_content": null,
            "align_items": null,
            "align_self": null,
            "border": null,
            "bottom": null,
            "display": null,
            "flex": null,
            "flex_flow": null,
            "grid_area": null,
            "grid_auto_columns": null,
            "grid_auto_flow": null,
            "grid_auto_rows": null,
            "grid_column": null,
            "grid_gap": null,
            "grid_row": null,
            "grid_template_areas": null,
            "grid_template_columns": null,
            "grid_template_rows": null,
            "height": null,
            "justify_content": null,
            "justify_items": null,
            "left": null,
            "margin": null,
            "max_height": null,
            "max_width": null,
            "min_height": null,
            "min_width": null,
            "object_fit": null,
            "object_position": null,
            "order": null,
            "overflow": null,
            "overflow_x": null,
            "overflow_y": null,
            "padding": null,
            "right": null,
            "top": null,
            "visibility": null,
            "width": null
          }
        },
        "4ce71a210aaf4071a841532fbbe4ec7e": {
          "model_module": "@jupyter-widgets/controls",
          "model_name": "DescriptionStyleModel",
          "model_module_version": "1.5.0",
          "state": {
            "_model_module": "@jupyter-widgets/controls",
            "_model_module_version": "1.5.0",
            "_model_name": "DescriptionStyleModel",
            "_view_count": null,
            "_view_module": "@jupyter-widgets/base",
            "_view_module_version": "1.2.0",
            "_view_name": "StyleView",
            "description_width": ""
          }
        },
        "82aa7229768b4273842bd98bce03ba74": {
          "model_module": "@jupyter-widgets/base",
          "model_name": "LayoutModel",
          "model_module_version": "1.2.0",
          "state": {
            "_model_module": "@jupyter-widgets/base",
            "_model_module_version": "1.2.0",
            "_model_name": "LayoutModel",
            "_view_count": null,
            "_view_module": "@jupyter-widgets/base",
            "_view_module_version": "1.2.0",
            "_view_name": "LayoutView",
            "align_content": null,
            "align_items": null,
            "align_self": null,
            "border": null,
            "bottom": null,
            "display": null,
            "flex": null,
            "flex_flow": null,
            "grid_area": null,
            "grid_auto_columns": null,
            "grid_auto_flow": null,
            "grid_auto_rows": null,
            "grid_column": null,
            "grid_gap": null,
            "grid_row": null,
            "grid_template_areas": null,
            "grid_template_columns": null,
            "grid_template_rows": null,
            "height": null,
            "justify_content": null,
            "justify_items": null,
            "left": null,
            "margin": null,
            "max_height": null,
            "max_width": null,
            "min_height": null,
            "min_width": null,
            "object_fit": null,
            "object_position": null,
            "order": null,
            "overflow": null,
            "overflow_x": null,
            "overflow_y": null,
            "padding": null,
            "right": null,
            "top": null,
            "visibility": null,
            "width": null
          }
        },
        "339c4ad2cdef42ada5cd870580612ef4": {
          "model_module": "@jupyter-widgets/controls",
          "model_name": "ProgressStyleModel",
          "model_module_version": "1.5.0",
          "state": {
            "_model_module": "@jupyter-widgets/controls",
            "_model_module_version": "1.5.0",
            "_model_name": "ProgressStyleModel",
            "_view_count": null,
            "_view_module": "@jupyter-widgets/base",
            "_view_module_version": "1.2.0",
            "_view_name": "StyleView",
            "bar_color": null,
            "description_width": ""
          }
        },
        "32b33e33414a4ff7a46d17ad7a1850f9": {
          "model_module": "@jupyter-widgets/base",
          "model_name": "LayoutModel",
          "model_module_version": "1.2.0",
          "state": {
            "_model_module": "@jupyter-widgets/base",
            "_model_module_version": "1.2.0",
            "_model_name": "LayoutModel",
            "_view_count": null,
            "_view_module": "@jupyter-widgets/base",
            "_view_module_version": "1.2.0",
            "_view_name": "LayoutView",
            "align_content": null,
            "align_items": null,
            "align_self": null,
            "border": null,
            "bottom": null,
            "display": null,
            "flex": null,
            "flex_flow": null,
            "grid_area": null,
            "grid_auto_columns": null,
            "grid_auto_flow": null,
            "grid_auto_rows": null,
            "grid_column": null,
            "grid_gap": null,
            "grid_row": null,
            "grid_template_areas": null,
            "grid_template_columns": null,
            "grid_template_rows": null,
            "height": null,
            "justify_content": null,
            "justify_items": null,
            "left": null,
            "margin": null,
            "max_height": null,
            "max_width": null,
            "min_height": null,
            "min_width": null,
            "object_fit": null,
            "object_position": null,
            "order": null,
            "overflow": null,
            "overflow_x": null,
            "overflow_y": null,
            "padding": null,
            "right": null,
            "top": null,
            "visibility": null,
            "width": null
          }
        },
        "0aa53819e22542b8a7104dad75ec06ae": {
          "model_module": "@jupyter-widgets/controls",
          "model_name": "DescriptionStyleModel",
          "model_module_version": "1.5.0",
          "state": {
            "_model_module": "@jupyter-widgets/controls",
            "_model_module_version": "1.5.0",
            "_model_name": "DescriptionStyleModel",
            "_view_count": null,
            "_view_module": "@jupyter-widgets/base",
            "_view_module_version": "1.2.0",
            "_view_name": "StyleView",
            "description_width": ""
          }
        },
        "d48165408c394fa694a7986936513c72": {
          "model_module": "@jupyter-widgets/controls",
          "model_name": "HBoxModel",
          "model_module_version": "1.5.0",
          "state": {
            "_dom_classes": [],
            "_model_module": "@jupyter-widgets/controls",
            "_model_module_version": "1.5.0",
            "_model_name": "HBoxModel",
            "_view_count": null,
            "_view_module": "@jupyter-widgets/controls",
            "_view_module_version": "1.5.0",
            "_view_name": "HBoxView",
            "box_style": "",
            "children": [
              "IPY_MODEL_aac1e0dbe261499b8306c68a3d774795",
              "IPY_MODEL_d5c34468706c4ffbadeab2054f2c380a",
              "IPY_MODEL_b70e307e50594e36852cdd69bcb6f8ef"
            ],
            "layout": "IPY_MODEL_0b7a763755fa4c118f332cd358059cd5"
          }
        },
        "aac1e0dbe261499b8306c68a3d774795": {
          "model_module": "@jupyter-widgets/controls",
          "model_name": "HTMLModel",
          "model_module_version": "1.5.0",
          "state": {
            "_dom_classes": [],
            "_model_module": "@jupyter-widgets/controls",
            "_model_module_version": "1.5.0",
            "_model_name": "HTMLModel",
            "_view_count": null,
            "_view_module": "@jupyter-widgets/controls",
            "_view_module_version": "1.5.0",
            "_view_name": "HTMLView",
            "description": "",
            "description_tooltip": null,
            "layout": "IPY_MODEL_85d227dd88c64e34999b62b344d9733b",
            "placeholder": "​",
            "style": "IPY_MODEL_e809a9b9c68148d097e92e746d147e1e",
            "value": "Downloading: 100%"
          }
        },
        "d5c34468706c4ffbadeab2054f2c380a": {
          "model_module": "@jupyter-widgets/controls",
          "model_name": "FloatProgressModel",
          "model_module_version": "1.5.0",
          "state": {
            "_dom_classes": [],
            "_model_module": "@jupyter-widgets/controls",
            "_model_module_version": "1.5.0",
            "_model_name": "FloatProgressModel",
            "_view_count": null,
            "_view_module": "@jupyter-widgets/controls",
            "_view_module_version": "1.5.0",
            "_view_name": "ProgressView",
            "bar_style": "success",
            "description": "",
            "description_tooltip": null,
            "layout": "IPY_MODEL_48878dfd7f8e4fb291568531e88d5222",
            "max": 466081,
            "min": 0,
            "orientation": "horizontal",
            "style": "IPY_MODEL_6cb84b306df146d89b6c4d7f66b7b870",
            "value": 466081
          }
        },
        "b70e307e50594e36852cdd69bcb6f8ef": {
          "model_module": "@jupyter-widgets/controls",
          "model_name": "HTMLModel",
          "model_module_version": "1.5.0",
          "state": {
            "_dom_classes": [],
            "_model_module": "@jupyter-widgets/controls",
            "_model_module_version": "1.5.0",
            "_model_name": "HTMLModel",
            "_view_count": null,
            "_view_module": "@jupyter-widgets/controls",
            "_view_module_version": "1.5.0",
            "_view_name": "HTMLView",
            "description": "",
            "description_tooltip": null,
            "layout": "IPY_MODEL_c93539399c244581bc29342118a69682",
            "placeholder": "​",
            "style": "IPY_MODEL_ca1c003f29ee43c79c46abe7a3d50082",
            "value": " 466k/466k [00:00&lt;00:00, 5.78MB/s]"
          }
        },
        "0b7a763755fa4c118f332cd358059cd5": {
          "model_module": "@jupyter-widgets/base",
          "model_name": "LayoutModel",
          "model_module_version": "1.2.0",
          "state": {
            "_model_module": "@jupyter-widgets/base",
            "_model_module_version": "1.2.0",
            "_model_name": "LayoutModel",
            "_view_count": null,
            "_view_module": "@jupyter-widgets/base",
            "_view_module_version": "1.2.0",
            "_view_name": "LayoutView",
            "align_content": null,
            "align_items": null,
            "align_self": null,
            "border": null,
            "bottom": null,
            "display": null,
            "flex": null,
            "flex_flow": null,
            "grid_area": null,
            "grid_auto_columns": null,
            "grid_auto_flow": null,
            "grid_auto_rows": null,
            "grid_column": null,
            "grid_gap": null,
            "grid_row": null,
            "grid_template_areas": null,
            "grid_template_columns": null,
            "grid_template_rows": null,
            "height": null,
            "justify_content": null,
            "justify_items": null,
            "left": null,
            "margin": null,
            "max_height": null,
            "max_width": null,
            "min_height": null,
            "min_width": null,
            "object_fit": null,
            "object_position": null,
            "order": null,
            "overflow": null,
            "overflow_x": null,
            "overflow_y": null,
            "padding": null,
            "right": null,
            "top": null,
            "visibility": null,
            "width": null
          }
        },
        "85d227dd88c64e34999b62b344d9733b": {
          "model_module": "@jupyter-widgets/base",
          "model_name": "LayoutModel",
          "model_module_version": "1.2.0",
          "state": {
            "_model_module": "@jupyter-widgets/base",
            "_model_module_version": "1.2.0",
            "_model_name": "LayoutModel",
            "_view_count": null,
            "_view_module": "@jupyter-widgets/base",
            "_view_module_version": "1.2.0",
            "_view_name": "LayoutView",
            "align_content": null,
            "align_items": null,
            "align_self": null,
            "border": null,
            "bottom": null,
            "display": null,
            "flex": null,
            "flex_flow": null,
            "grid_area": null,
            "grid_auto_columns": null,
            "grid_auto_flow": null,
            "grid_auto_rows": null,
            "grid_column": null,
            "grid_gap": null,
            "grid_row": null,
            "grid_template_areas": null,
            "grid_template_columns": null,
            "grid_template_rows": null,
            "height": null,
            "justify_content": null,
            "justify_items": null,
            "left": null,
            "margin": null,
            "max_height": null,
            "max_width": null,
            "min_height": null,
            "min_width": null,
            "object_fit": null,
            "object_position": null,
            "order": null,
            "overflow": null,
            "overflow_x": null,
            "overflow_y": null,
            "padding": null,
            "right": null,
            "top": null,
            "visibility": null,
            "width": null
          }
        },
        "e809a9b9c68148d097e92e746d147e1e": {
          "model_module": "@jupyter-widgets/controls",
          "model_name": "DescriptionStyleModel",
          "model_module_version": "1.5.0",
          "state": {
            "_model_module": "@jupyter-widgets/controls",
            "_model_module_version": "1.5.0",
            "_model_name": "DescriptionStyleModel",
            "_view_count": null,
            "_view_module": "@jupyter-widgets/base",
            "_view_module_version": "1.2.0",
            "_view_name": "StyleView",
            "description_width": ""
          }
        },
        "48878dfd7f8e4fb291568531e88d5222": {
          "model_module": "@jupyter-widgets/base",
          "model_name": "LayoutModel",
          "model_module_version": "1.2.0",
          "state": {
            "_model_module": "@jupyter-widgets/base",
            "_model_module_version": "1.2.0",
            "_model_name": "LayoutModel",
            "_view_count": null,
            "_view_module": "@jupyter-widgets/base",
            "_view_module_version": "1.2.0",
            "_view_name": "LayoutView",
            "align_content": null,
            "align_items": null,
            "align_self": null,
            "border": null,
            "bottom": null,
            "display": null,
            "flex": null,
            "flex_flow": null,
            "grid_area": null,
            "grid_auto_columns": null,
            "grid_auto_flow": null,
            "grid_auto_rows": null,
            "grid_column": null,
            "grid_gap": null,
            "grid_row": null,
            "grid_template_areas": null,
            "grid_template_columns": null,
            "grid_template_rows": null,
            "height": null,
            "justify_content": null,
            "justify_items": null,
            "left": null,
            "margin": null,
            "max_height": null,
            "max_width": null,
            "min_height": null,
            "min_width": null,
            "object_fit": null,
            "object_position": null,
            "order": null,
            "overflow": null,
            "overflow_x": null,
            "overflow_y": null,
            "padding": null,
            "right": null,
            "top": null,
            "visibility": null,
            "width": null
          }
        },
        "6cb84b306df146d89b6c4d7f66b7b870": {
          "model_module": "@jupyter-widgets/controls",
          "model_name": "ProgressStyleModel",
          "model_module_version": "1.5.0",
          "state": {
            "_model_module": "@jupyter-widgets/controls",
            "_model_module_version": "1.5.0",
            "_model_name": "ProgressStyleModel",
            "_view_count": null,
            "_view_module": "@jupyter-widgets/base",
            "_view_module_version": "1.2.0",
            "_view_name": "StyleView",
            "bar_color": null,
            "description_width": ""
          }
        },
        "c93539399c244581bc29342118a69682": {
          "model_module": "@jupyter-widgets/base",
          "model_name": "LayoutModel",
          "model_module_version": "1.2.0",
          "state": {
            "_model_module": "@jupyter-widgets/base",
            "_model_module_version": "1.2.0",
            "_model_name": "LayoutModel",
            "_view_count": null,
            "_view_module": "@jupyter-widgets/base",
            "_view_module_version": "1.2.0",
            "_view_name": "LayoutView",
            "align_content": null,
            "align_items": null,
            "align_self": null,
            "border": null,
            "bottom": null,
            "display": null,
            "flex": null,
            "flex_flow": null,
            "grid_area": null,
            "grid_auto_columns": null,
            "grid_auto_flow": null,
            "grid_auto_rows": null,
            "grid_column": null,
            "grid_gap": null,
            "grid_row": null,
            "grid_template_areas": null,
            "grid_template_columns": null,
            "grid_template_rows": null,
            "height": null,
            "justify_content": null,
            "justify_items": null,
            "left": null,
            "margin": null,
            "max_height": null,
            "max_width": null,
            "min_height": null,
            "min_width": null,
            "object_fit": null,
            "object_position": null,
            "order": null,
            "overflow": null,
            "overflow_x": null,
            "overflow_y": null,
            "padding": null,
            "right": null,
            "top": null,
            "visibility": null,
            "width": null
          }
        },
        "ca1c003f29ee43c79c46abe7a3d50082": {
          "model_module": "@jupyter-widgets/controls",
          "model_name": "DescriptionStyleModel",
          "model_module_version": "1.5.0",
          "state": {
            "_model_module": "@jupyter-widgets/controls",
            "_model_module_version": "1.5.0",
            "_model_name": "DescriptionStyleModel",
            "_view_count": null,
            "_view_module": "@jupyter-widgets/base",
            "_view_module_version": "1.2.0",
            "_view_name": "StyleView",
            "description_width": ""
          }
        },
        "5f07ca5be1374d37bf50bcd31c451bfd": {
          "model_module": "@jupyter-widgets/controls",
          "model_name": "HBoxModel",
          "model_module_version": "1.5.0",
          "state": {
            "_dom_classes": [],
            "_model_module": "@jupyter-widgets/controls",
            "_model_module_version": "1.5.0",
            "_model_name": "HBoxModel",
            "_view_count": null,
            "_view_module": "@jupyter-widgets/controls",
            "_view_module_version": "1.5.0",
            "_view_name": "HBoxView",
            "box_style": "",
            "children": [
              "IPY_MODEL_543ef8b7c441414ab753c292c6f3992e",
              "IPY_MODEL_36f5541108384a26a04f4acb5f8d8daa",
              "IPY_MODEL_d609d330889b4ea79f8289ff2cffbd1c"
            ],
            "layout": "IPY_MODEL_4e03e7a428e6429d9d9831a56473ae31"
          }
        },
        "543ef8b7c441414ab753c292c6f3992e": {
          "model_module": "@jupyter-widgets/controls",
          "model_name": "HTMLModel",
          "model_module_version": "1.5.0",
          "state": {
            "_dom_classes": [],
            "_model_module": "@jupyter-widgets/controls",
            "_model_module_version": "1.5.0",
            "_model_name": "HTMLModel",
            "_view_count": null,
            "_view_module": "@jupyter-widgets/controls",
            "_view_module_version": "1.5.0",
            "_view_name": "HTMLView",
            "description": "",
            "description_tooltip": null,
            "layout": "IPY_MODEL_dfe617ac29bf493e8f967dd27abe283d",
            "placeholder": "​",
            "style": "IPY_MODEL_8066bfc07c344fc1a51369bb8b76c9c3",
            "value": "Downloading: 100%"
          }
        },
        "36f5541108384a26a04f4acb5f8d8daa": {
          "model_module": "@jupyter-widgets/controls",
          "model_name": "FloatProgressModel",
          "model_module_version": "1.5.0",
          "state": {
            "_dom_classes": [],
            "_model_module": "@jupyter-widgets/controls",
            "_model_module_version": "1.5.0",
            "_model_name": "FloatProgressModel",
            "_view_count": null,
            "_view_module": "@jupyter-widgets/controls",
            "_view_module_version": "1.5.0",
            "_view_name": "ProgressView",
            "bar_style": "success",
            "description": "",
            "description_tooltip": null,
            "layout": "IPY_MODEL_08de7cc0cdf444c89ca0c72a661e3a03",
            "max": 399,
            "min": 0,
            "orientation": "horizontal",
            "style": "IPY_MODEL_539640c6420d40fc8385eecb38014fbe",
            "value": 399
          }
        },
        "d609d330889b4ea79f8289ff2cffbd1c": {
          "model_module": "@jupyter-widgets/controls",
          "model_name": "HTMLModel",
          "model_module_version": "1.5.0",
          "state": {
            "_dom_classes": [],
            "_model_module": "@jupyter-widgets/controls",
            "_model_module_version": "1.5.0",
            "_model_name": "HTMLModel",
            "_view_count": null,
            "_view_module": "@jupyter-widgets/controls",
            "_view_module_version": "1.5.0",
            "_view_name": "HTMLView",
            "description": "",
            "description_tooltip": null,
            "layout": "IPY_MODEL_976d7e43db2e4d16b6ba485985bdf9d9",
            "placeholder": "​",
            "style": "IPY_MODEL_9db9b75709a64db9b6bbd54ed1275567",
            "value": " 399/399 [00:00&lt;00:00, 3.73kB/s]"
          }
        },
        "4e03e7a428e6429d9d9831a56473ae31": {
          "model_module": "@jupyter-widgets/base",
          "model_name": "LayoutModel",
          "model_module_version": "1.2.0",
          "state": {
            "_model_module": "@jupyter-widgets/base",
            "_model_module_version": "1.2.0",
            "_model_name": "LayoutModel",
            "_view_count": null,
            "_view_module": "@jupyter-widgets/base",
            "_view_module_version": "1.2.0",
            "_view_name": "LayoutView",
            "align_content": null,
            "align_items": null,
            "align_self": null,
            "border": null,
            "bottom": null,
            "display": null,
            "flex": null,
            "flex_flow": null,
            "grid_area": null,
            "grid_auto_columns": null,
            "grid_auto_flow": null,
            "grid_auto_rows": null,
            "grid_column": null,
            "grid_gap": null,
            "grid_row": null,
            "grid_template_areas": null,
            "grid_template_columns": null,
            "grid_template_rows": null,
            "height": null,
            "justify_content": null,
            "justify_items": null,
            "left": null,
            "margin": null,
            "max_height": null,
            "max_width": null,
            "min_height": null,
            "min_width": null,
            "object_fit": null,
            "object_position": null,
            "order": null,
            "overflow": null,
            "overflow_x": null,
            "overflow_y": null,
            "padding": null,
            "right": null,
            "top": null,
            "visibility": null,
            "width": null
          }
        },
        "dfe617ac29bf493e8f967dd27abe283d": {
          "model_module": "@jupyter-widgets/base",
          "model_name": "LayoutModel",
          "model_module_version": "1.2.0",
          "state": {
            "_model_module": "@jupyter-widgets/base",
            "_model_module_version": "1.2.0",
            "_model_name": "LayoutModel",
            "_view_count": null,
            "_view_module": "@jupyter-widgets/base",
            "_view_module_version": "1.2.0",
            "_view_name": "LayoutView",
            "align_content": null,
            "align_items": null,
            "align_self": null,
            "border": null,
            "bottom": null,
            "display": null,
            "flex": null,
            "flex_flow": null,
            "grid_area": null,
            "grid_auto_columns": null,
            "grid_auto_flow": null,
            "grid_auto_rows": null,
            "grid_column": null,
            "grid_gap": null,
            "grid_row": null,
            "grid_template_areas": null,
            "grid_template_columns": null,
            "grid_template_rows": null,
            "height": null,
            "justify_content": null,
            "justify_items": null,
            "left": null,
            "margin": null,
            "max_height": null,
            "max_width": null,
            "min_height": null,
            "min_width": null,
            "object_fit": null,
            "object_position": null,
            "order": null,
            "overflow": null,
            "overflow_x": null,
            "overflow_y": null,
            "padding": null,
            "right": null,
            "top": null,
            "visibility": null,
            "width": null
          }
        },
        "8066bfc07c344fc1a51369bb8b76c9c3": {
          "model_module": "@jupyter-widgets/controls",
          "model_name": "DescriptionStyleModel",
          "model_module_version": "1.5.0",
          "state": {
            "_model_module": "@jupyter-widgets/controls",
            "_model_module_version": "1.5.0",
            "_model_name": "DescriptionStyleModel",
            "_view_count": null,
            "_view_module": "@jupyter-widgets/base",
            "_view_module_version": "1.2.0",
            "_view_name": "StyleView",
            "description_width": ""
          }
        },
        "08de7cc0cdf444c89ca0c72a661e3a03": {
          "model_module": "@jupyter-widgets/base",
          "model_name": "LayoutModel",
          "model_module_version": "1.2.0",
          "state": {
            "_model_module": "@jupyter-widgets/base",
            "_model_module_version": "1.2.0",
            "_model_name": "LayoutModel",
            "_view_count": null,
            "_view_module": "@jupyter-widgets/base",
            "_view_module_version": "1.2.0",
            "_view_name": "LayoutView",
            "align_content": null,
            "align_items": null,
            "align_self": null,
            "border": null,
            "bottom": null,
            "display": null,
            "flex": null,
            "flex_flow": null,
            "grid_area": null,
            "grid_auto_columns": null,
            "grid_auto_flow": null,
            "grid_auto_rows": null,
            "grid_column": null,
            "grid_gap": null,
            "grid_row": null,
            "grid_template_areas": null,
            "grid_template_columns": null,
            "grid_template_rows": null,
            "height": null,
            "justify_content": null,
            "justify_items": null,
            "left": null,
            "margin": null,
            "max_height": null,
            "max_width": null,
            "min_height": null,
            "min_width": null,
            "object_fit": null,
            "object_position": null,
            "order": null,
            "overflow": null,
            "overflow_x": null,
            "overflow_y": null,
            "padding": null,
            "right": null,
            "top": null,
            "visibility": null,
            "width": null
          }
        },
        "539640c6420d40fc8385eecb38014fbe": {
          "model_module": "@jupyter-widgets/controls",
          "model_name": "ProgressStyleModel",
          "model_module_version": "1.5.0",
          "state": {
            "_model_module": "@jupyter-widgets/controls",
            "_model_module_version": "1.5.0",
            "_model_name": "ProgressStyleModel",
            "_view_count": null,
            "_view_module": "@jupyter-widgets/base",
            "_view_module_version": "1.2.0",
            "_view_name": "StyleView",
            "bar_color": null,
            "description_width": ""
          }
        },
        "976d7e43db2e4d16b6ba485985bdf9d9": {
          "model_module": "@jupyter-widgets/base",
          "model_name": "LayoutModel",
          "model_module_version": "1.2.0",
          "state": {
            "_model_module": "@jupyter-widgets/base",
            "_model_module_version": "1.2.0",
            "_model_name": "LayoutModel",
            "_view_count": null,
            "_view_module": "@jupyter-widgets/base",
            "_view_module_version": "1.2.0",
            "_view_name": "LayoutView",
            "align_content": null,
            "align_items": null,
            "align_self": null,
            "border": null,
            "bottom": null,
            "display": null,
            "flex": null,
            "flex_flow": null,
            "grid_area": null,
            "grid_auto_columns": null,
            "grid_auto_flow": null,
            "grid_auto_rows": null,
            "grid_column": null,
            "grid_gap": null,
            "grid_row": null,
            "grid_template_areas": null,
            "grid_template_columns": null,
            "grid_template_rows": null,
            "height": null,
            "justify_content": null,
            "justify_items": null,
            "left": null,
            "margin": null,
            "max_height": null,
            "max_width": null,
            "min_height": null,
            "min_width": null,
            "object_fit": null,
            "object_position": null,
            "order": null,
            "overflow": null,
            "overflow_x": null,
            "overflow_y": null,
            "padding": null,
            "right": null,
            "top": null,
            "visibility": null,
            "width": null
          }
        },
        "9db9b75709a64db9b6bbd54ed1275567": {
          "model_module": "@jupyter-widgets/controls",
          "model_name": "DescriptionStyleModel",
          "model_module_version": "1.5.0",
          "state": {
            "_model_module": "@jupyter-widgets/controls",
            "_model_module_version": "1.5.0",
            "_model_name": "DescriptionStyleModel",
            "_view_count": null,
            "_view_module": "@jupyter-widgets/base",
            "_view_module_version": "1.2.0",
            "_view_name": "StyleView",
            "description_width": ""
          }
        },
        "352c466186514345bff3912fab77648d": {
          "model_module": "@jupyter-widgets/controls",
          "model_name": "HBoxModel",
          "model_module_version": "1.5.0",
          "state": {
            "_dom_classes": [],
            "_model_module": "@jupyter-widgets/controls",
            "_model_module_version": "1.5.0",
            "_model_name": "HBoxModel",
            "_view_count": null,
            "_view_module": "@jupyter-widgets/controls",
            "_view_module_version": "1.5.0",
            "_view_name": "HBoxView",
            "box_style": "",
            "children": [
              "IPY_MODEL_5ba79e24dbe44ea29f3b90c5e0a8436a",
              "IPY_MODEL_21ebc458d9134460993996b0fcd1be01",
              "IPY_MODEL_325ff4b4130944cab8447d4cf271db4e"
            ],
            "layout": "IPY_MODEL_11ace15e029b4bd5b6d334163a774c53"
          }
        },
        "5ba79e24dbe44ea29f3b90c5e0a8436a": {
          "model_module": "@jupyter-widgets/controls",
          "model_name": "HTMLModel",
          "model_module_version": "1.5.0",
          "state": {
            "_dom_classes": [],
            "_model_module": "@jupyter-widgets/controls",
            "_model_module_version": "1.5.0",
            "_model_name": "HTMLModel",
            "_view_count": null,
            "_view_module": "@jupyter-widgets/controls",
            "_view_module_version": "1.5.0",
            "_view_name": "HTMLView",
            "description": "",
            "description_tooltip": null,
            "layout": "IPY_MODEL_ba6828a14eed420aae5a29851621139a",
            "placeholder": "​",
            "style": "IPY_MODEL_77f8a6ddd0f5477581c2e3dcc3771375",
            "value": "Downloading: 100%"
          }
        },
        "21ebc458d9134460993996b0fcd1be01": {
          "model_module": "@jupyter-widgets/controls",
          "model_name": "FloatProgressModel",
          "model_module_version": "1.5.0",
          "state": {
            "_dom_classes": [],
            "_model_module": "@jupyter-widgets/controls",
            "_model_module_version": "1.5.0",
            "_model_name": "FloatProgressModel",
            "_view_count": null,
            "_view_module": "@jupyter-widgets/controls",
            "_view_module_version": "1.5.0",
            "_view_name": "ProgressView",
            "bar_style": "success",
            "description": "",
            "description_tooltip": null,
            "layout": "IPY_MODEL_281b3931c66a467e9db4cb8cb0e63a8e",
            "max": 231508,
            "min": 0,
            "orientation": "horizontal",
            "style": "IPY_MODEL_a0de70d00e8c4677b233c8bb00c000fa",
            "value": 231508
          }
        },
        "325ff4b4130944cab8447d4cf271db4e": {
          "model_module": "@jupyter-widgets/controls",
          "model_name": "HTMLModel",
          "model_module_version": "1.5.0",
          "state": {
            "_dom_classes": [],
            "_model_module": "@jupyter-widgets/controls",
            "_model_module_version": "1.5.0",
            "_model_name": "HTMLModel",
            "_view_count": null,
            "_view_module": "@jupyter-widgets/controls",
            "_view_module_version": "1.5.0",
            "_view_name": "HTMLView",
            "description": "",
            "description_tooltip": null,
            "layout": "IPY_MODEL_93a63b08635b4de9842c38785af031a0",
            "placeholder": "​",
            "style": "IPY_MODEL_0ec8adeb059f481aab6ac6ff8a77ef25",
            "value": " 232k/232k [00:00&lt;00:00, 7.36kB/s]"
          }
        },
        "11ace15e029b4bd5b6d334163a774c53": {
          "model_module": "@jupyter-widgets/base",
          "model_name": "LayoutModel",
          "model_module_version": "1.2.0",
          "state": {
            "_model_module": "@jupyter-widgets/base",
            "_model_module_version": "1.2.0",
            "_model_name": "LayoutModel",
            "_view_count": null,
            "_view_module": "@jupyter-widgets/base",
            "_view_module_version": "1.2.0",
            "_view_name": "LayoutView",
            "align_content": null,
            "align_items": null,
            "align_self": null,
            "border": null,
            "bottom": null,
            "display": null,
            "flex": null,
            "flex_flow": null,
            "grid_area": null,
            "grid_auto_columns": null,
            "grid_auto_flow": null,
            "grid_auto_rows": null,
            "grid_column": null,
            "grid_gap": null,
            "grid_row": null,
            "grid_template_areas": null,
            "grid_template_columns": null,
            "grid_template_rows": null,
            "height": null,
            "justify_content": null,
            "justify_items": null,
            "left": null,
            "margin": null,
            "max_height": null,
            "max_width": null,
            "min_height": null,
            "min_width": null,
            "object_fit": null,
            "object_position": null,
            "order": null,
            "overflow": null,
            "overflow_x": null,
            "overflow_y": null,
            "padding": null,
            "right": null,
            "top": null,
            "visibility": null,
            "width": null
          }
        },
        "ba6828a14eed420aae5a29851621139a": {
          "model_module": "@jupyter-widgets/base",
          "model_name": "LayoutModel",
          "model_module_version": "1.2.0",
          "state": {
            "_model_module": "@jupyter-widgets/base",
            "_model_module_version": "1.2.0",
            "_model_name": "LayoutModel",
            "_view_count": null,
            "_view_module": "@jupyter-widgets/base",
            "_view_module_version": "1.2.0",
            "_view_name": "LayoutView",
            "align_content": null,
            "align_items": null,
            "align_self": null,
            "border": null,
            "bottom": null,
            "display": null,
            "flex": null,
            "flex_flow": null,
            "grid_area": null,
            "grid_auto_columns": null,
            "grid_auto_flow": null,
            "grid_auto_rows": null,
            "grid_column": null,
            "grid_gap": null,
            "grid_row": null,
            "grid_template_areas": null,
            "grid_template_columns": null,
            "grid_template_rows": null,
            "height": null,
            "justify_content": null,
            "justify_items": null,
            "left": null,
            "margin": null,
            "max_height": null,
            "max_width": null,
            "min_height": null,
            "min_width": null,
            "object_fit": null,
            "object_position": null,
            "order": null,
            "overflow": null,
            "overflow_x": null,
            "overflow_y": null,
            "padding": null,
            "right": null,
            "top": null,
            "visibility": null,
            "width": null
          }
        },
        "77f8a6ddd0f5477581c2e3dcc3771375": {
          "model_module": "@jupyter-widgets/controls",
          "model_name": "DescriptionStyleModel",
          "model_module_version": "1.5.0",
          "state": {
            "_model_module": "@jupyter-widgets/controls",
            "_model_module_version": "1.5.0",
            "_model_name": "DescriptionStyleModel",
            "_view_count": null,
            "_view_module": "@jupyter-widgets/base",
            "_view_module_version": "1.2.0",
            "_view_name": "StyleView",
            "description_width": ""
          }
        },
        "281b3931c66a467e9db4cb8cb0e63a8e": {
          "model_module": "@jupyter-widgets/base",
          "model_name": "LayoutModel",
          "model_module_version": "1.2.0",
          "state": {
            "_model_module": "@jupyter-widgets/base",
            "_model_module_version": "1.2.0",
            "_model_name": "LayoutModel",
            "_view_count": null,
            "_view_module": "@jupyter-widgets/base",
            "_view_module_version": "1.2.0",
            "_view_name": "LayoutView",
            "align_content": null,
            "align_items": null,
            "align_self": null,
            "border": null,
            "bottom": null,
            "display": null,
            "flex": null,
            "flex_flow": null,
            "grid_area": null,
            "grid_auto_columns": null,
            "grid_auto_flow": null,
            "grid_auto_rows": null,
            "grid_column": null,
            "grid_gap": null,
            "grid_row": null,
            "grid_template_areas": null,
            "grid_template_columns": null,
            "grid_template_rows": null,
            "height": null,
            "justify_content": null,
            "justify_items": null,
            "left": null,
            "margin": null,
            "max_height": null,
            "max_width": null,
            "min_height": null,
            "min_width": null,
            "object_fit": null,
            "object_position": null,
            "order": null,
            "overflow": null,
            "overflow_x": null,
            "overflow_y": null,
            "padding": null,
            "right": null,
            "top": null,
            "visibility": null,
            "width": null
          }
        },
        "a0de70d00e8c4677b233c8bb00c000fa": {
          "model_module": "@jupyter-widgets/controls",
          "model_name": "ProgressStyleModel",
          "model_module_version": "1.5.0",
          "state": {
            "_model_module": "@jupyter-widgets/controls",
            "_model_module_version": "1.5.0",
            "_model_name": "ProgressStyleModel",
            "_view_count": null,
            "_view_module": "@jupyter-widgets/base",
            "_view_module_version": "1.2.0",
            "_view_name": "StyleView",
            "bar_color": null,
            "description_width": ""
          }
        },
        "93a63b08635b4de9842c38785af031a0": {
          "model_module": "@jupyter-widgets/base",
          "model_name": "LayoutModel",
          "model_module_version": "1.2.0",
          "state": {
            "_model_module": "@jupyter-widgets/base",
            "_model_module_version": "1.2.0",
            "_model_name": "LayoutModel",
            "_view_count": null,
            "_view_module": "@jupyter-widgets/base",
            "_view_module_version": "1.2.0",
            "_view_name": "LayoutView",
            "align_content": null,
            "align_items": null,
            "align_self": null,
            "border": null,
            "bottom": null,
            "display": null,
            "flex": null,
            "flex_flow": null,
            "grid_area": null,
            "grid_auto_columns": null,
            "grid_auto_flow": null,
            "grid_auto_rows": null,
            "grid_column": null,
            "grid_gap": null,
            "grid_row": null,
            "grid_template_areas": null,
            "grid_template_columns": null,
            "grid_template_rows": null,
            "height": null,
            "justify_content": null,
            "justify_items": null,
            "left": null,
            "margin": null,
            "max_height": null,
            "max_width": null,
            "min_height": null,
            "min_width": null,
            "object_fit": null,
            "object_position": null,
            "order": null,
            "overflow": null,
            "overflow_x": null,
            "overflow_y": null,
            "padding": null,
            "right": null,
            "top": null,
            "visibility": null,
            "width": null
          }
        },
        "0ec8adeb059f481aab6ac6ff8a77ef25": {
          "model_module": "@jupyter-widgets/controls",
          "model_name": "DescriptionStyleModel",
          "model_module_version": "1.5.0",
          "state": {
            "_model_module": "@jupyter-widgets/controls",
            "_model_module_version": "1.5.0",
            "_model_name": "DescriptionStyleModel",
            "_view_count": null,
            "_view_module": "@jupyter-widgets/base",
            "_view_module_version": "1.2.0",
            "_view_name": "StyleView",
            "description_width": ""
          }
        },
        "955340af330543279083c7578a365ece": {
          "model_module": "@jupyter-widgets/controls",
          "model_name": "HBoxModel",
          "model_module_version": "1.5.0",
          "state": {
            "_dom_classes": [],
            "_model_module": "@jupyter-widgets/controls",
            "_model_module_version": "1.5.0",
            "_model_name": "HBoxModel",
            "_view_count": null,
            "_view_module": "@jupyter-widgets/controls",
            "_view_module_version": "1.5.0",
            "_view_name": "HBoxView",
            "box_style": "",
            "children": [
              "IPY_MODEL_c7b680d09a7d4aa3b43aaadecdf86b53",
              "IPY_MODEL_dbb52b00eff84f09b5d33b92a3e2ce26",
              "IPY_MODEL_354aa196a6234ab19c57c1efd68f81c5"
            ],
            "layout": "IPY_MODEL_4aeebd530c954dd590e4daa8001d0051"
          }
        },
        "c7b680d09a7d4aa3b43aaadecdf86b53": {
          "model_module": "@jupyter-widgets/controls",
          "model_name": "HTMLModel",
          "model_module_version": "1.5.0",
          "state": {
            "_dom_classes": [],
            "_model_module": "@jupyter-widgets/controls",
            "_model_module_version": "1.5.0",
            "_model_name": "HTMLModel",
            "_view_count": null,
            "_view_module": "@jupyter-widgets/controls",
            "_view_module_version": "1.5.0",
            "_view_name": "HTMLView",
            "description": "",
            "description_tooltip": null,
            "layout": "IPY_MODEL_39b6a64f23ce45baa06c723e0052beeb",
            "placeholder": "​",
            "style": "IPY_MODEL_383373fca6664ca3ac6bc4ce9d9f5f85",
            "value": "Downloading: 100%"
          }
        },
        "dbb52b00eff84f09b5d33b92a3e2ce26": {
          "model_module": "@jupyter-widgets/controls",
          "model_name": "FloatProgressModel",
          "model_module_version": "1.5.0",
          "state": {
            "_dom_classes": [],
            "_model_module": "@jupyter-widgets/controls",
            "_model_module_version": "1.5.0",
            "_model_name": "FloatProgressModel",
            "_view_count": null,
            "_view_module": "@jupyter-widgets/controls",
            "_view_module_version": "1.5.0",
            "_view_name": "ProgressView",
            "bar_style": "success",
            "description": "",
            "description_tooltip": null,
            "layout": "IPY_MODEL_6eec83a060f3460e9b4ee653a8db7d99",
            "max": 229,
            "min": 0,
            "orientation": "horizontal",
            "style": "IPY_MODEL_f238f88304244c24bfcdf36e61b69a80",
            "value": 229
          }
        },
        "354aa196a6234ab19c57c1efd68f81c5": {
          "model_module": "@jupyter-widgets/controls",
          "model_name": "HTMLModel",
          "model_module_version": "1.5.0",
          "state": {
            "_dom_classes": [],
            "_model_module": "@jupyter-widgets/controls",
            "_model_module_version": "1.5.0",
            "_model_name": "HTMLModel",
            "_view_count": null,
            "_view_module": "@jupyter-widgets/controls",
            "_view_module_version": "1.5.0",
            "_view_name": "HTMLView",
            "description": "",
            "description_tooltip": null,
            "layout": "IPY_MODEL_f67f504e26dc459db80a6ee822753344",
            "placeholder": "​",
            "style": "IPY_MODEL_4fdb660e9fe64e7b861d588726d54185",
            "value": " 229/229 [00:00&lt;00:00, 2.32kB/s]"
          }
        },
        "4aeebd530c954dd590e4daa8001d0051": {
          "model_module": "@jupyter-widgets/base",
          "model_name": "LayoutModel",
          "model_module_version": "1.2.0",
          "state": {
            "_model_module": "@jupyter-widgets/base",
            "_model_module_version": "1.2.0",
            "_model_name": "LayoutModel",
            "_view_count": null,
            "_view_module": "@jupyter-widgets/base",
            "_view_module_version": "1.2.0",
            "_view_name": "LayoutView",
            "align_content": null,
            "align_items": null,
            "align_self": null,
            "border": null,
            "bottom": null,
            "display": null,
            "flex": null,
            "flex_flow": null,
            "grid_area": null,
            "grid_auto_columns": null,
            "grid_auto_flow": null,
            "grid_auto_rows": null,
            "grid_column": null,
            "grid_gap": null,
            "grid_row": null,
            "grid_template_areas": null,
            "grid_template_columns": null,
            "grid_template_rows": null,
            "height": null,
            "justify_content": null,
            "justify_items": null,
            "left": null,
            "margin": null,
            "max_height": null,
            "max_width": null,
            "min_height": null,
            "min_width": null,
            "object_fit": null,
            "object_position": null,
            "order": null,
            "overflow": null,
            "overflow_x": null,
            "overflow_y": null,
            "padding": null,
            "right": null,
            "top": null,
            "visibility": null,
            "width": null
          }
        },
        "39b6a64f23ce45baa06c723e0052beeb": {
          "model_module": "@jupyter-widgets/base",
          "model_name": "LayoutModel",
          "model_module_version": "1.2.0",
          "state": {
            "_model_module": "@jupyter-widgets/base",
            "_model_module_version": "1.2.0",
            "_model_name": "LayoutModel",
            "_view_count": null,
            "_view_module": "@jupyter-widgets/base",
            "_view_module_version": "1.2.0",
            "_view_name": "LayoutView",
            "align_content": null,
            "align_items": null,
            "align_self": null,
            "border": null,
            "bottom": null,
            "display": null,
            "flex": null,
            "flex_flow": null,
            "grid_area": null,
            "grid_auto_columns": null,
            "grid_auto_flow": null,
            "grid_auto_rows": null,
            "grid_column": null,
            "grid_gap": null,
            "grid_row": null,
            "grid_template_areas": null,
            "grid_template_columns": null,
            "grid_template_rows": null,
            "height": null,
            "justify_content": null,
            "justify_items": null,
            "left": null,
            "margin": null,
            "max_height": null,
            "max_width": null,
            "min_height": null,
            "min_width": null,
            "object_fit": null,
            "object_position": null,
            "order": null,
            "overflow": null,
            "overflow_x": null,
            "overflow_y": null,
            "padding": null,
            "right": null,
            "top": null,
            "visibility": null,
            "width": null
          }
        },
        "383373fca6664ca3ac6bc4ce9d9f5f85": {
          "model_module": "@jupyter-widgets/controls",
          "model_name": "DescriptionStyleModel",
          "model_module_version": "1.5.0",
          "state": {
            "_model_module": "@jupyter-widgets/controls",
            "_model_module_version": "1.5.0",
            "_model_name": "DescriptionStyleModel",
            "_view_count": null,
            "_view_module": "@jupyter-widgets/base",
            "_view_module_version": "1.2.0",
            "_view_name": "StyleView",
            "description_width": ""
          }
        },
        "6eec83a060f3460e9b4ee653a8db7d99": {
          "model_module": "@jupyter-widgets/base",
          "model_name": "LayoutModel",
          "model_module_version": "1.2.0",
          "state": {
            "_model_module": "@jupyter-widgets/base",
            "_model_module_version": "1.2.0",
            "_model_name": "LayoutModel",
            "_view_count": null,
            "_view_module": "@jupyter-widgets/base",
            "_view_module_version": "1.2.0",
            "_view_name": "LayoutView",
            "align_content": null,
            "align_items": null,
            "align_self": null,
            "border": null,
            "bottom": null,
            "display": null,
            "flex": null,
            "flex_flow": null,
            "grid_area": null,
            "grid_auto_columns": null,
            "grid_auto_flow": null,
            "grid_auto_rows": null,
            "grid_column": null,
            "grid_gap": null,
            "grid_row": null,
            "grid_template_areas": null,
            "grid_template_columns": null,
            "grid_template_rows": null,
            "height": null,
            "justify_content": null,
            "justify_items": null,
            "left": null,
            "margin": null,
            "max_height": null,
            "max_width": null,
            "min_height": null,
            "min_width": null,
            "object_fit": null,
            "object_position": null,
            "order": null,
            "overflow": null,
            "overflow_x": null,
            "overflow_y": null,
            "padding": null,
            "right": null,
            "top": null,
            "visibility": null,
            "width": null
          }
        },
        "f238f88304244c24bfcdf36e61b69a80": {
          "model_module": "@jupyter-widgets/controls",
          "model_name": "ProgressStyleModel",
          "model_module_version": "1.5.0",
          "state": {
            "_model_module": "@jupyter-widgets/controls",
            "_model_module_version": "1.5.0",
            "_model_name": "ProgressStyleModel",
            "_view_count": null,
            "_view_module": "@jupyter-widgets/base",
            "_view_module_version": "1.2.0",
            "_view_name": "StyleView",
            "bar_color": null,
            "description_width": ""
          }
        },
        "f67f504e26dc459db80a6ee822753344": {
          "model_module": "@jupyter-widgets/base",
          "model_name": "LayoutModel",
          "model_module_version": "1.2.0",
          "state": {
            "_model_module": "@jupyter-widgets/base",
            "_model_module_version": "1.2.0",
            "_model_name": "LayoutModel",
            "_view_count": null,
            "_view_module": "@jupyter-widgets/base",
            "_view_module_version": "1.2.0",
            "_view_name": "LayoutView",
            "align_content": null,
            "align_items": null,
            "align_self": null,
            "border": null,
            "bottom": null,
            "display": null,
            "flex": null,
            "flex_flow": null,
            "grid_area": null,
            "grid_auto_columns": null,
            "grid_auto_flow": null,
            "grid_auto_rows": null,
            "grid_column": null,
            "grid_gap": null,
            "grid_row": null,
            "grid_template_areas": null,
            "grid_template_columns": null,
            "grid_template_rows": null,
            "height": null,
            "justify_content": null,
            "justify_items": null,
            "left": null,
            "margin": null,
            "max_height": null,
            "max_width": null,
            "min_height": null,
            "min_width": null,
            "object_fit": null,
            "object_position": null,
            "order": null,
            "overflow": null,
            "overflow_x": null,
            "overflow_y": null,
            "padding": null,
            "right": null,
            "top": null,
            "visibility": null,
            "width": null
          }
        },
        "4fdb660e9fe64e7b861d588726d54185": {
          "model_module": "@jupyter-widgets/controls",
          "model_name": "DescriptionStyleModel",
          "model_module_version": "1.5.0",
          "state": {
            "_model_module": "@jupyter-widgets/controls",
            "_model_module_version": "1.5.0",
            "_model_name": "DescriptionStyleModel",
            "_view_count": null,
            "_view_module": "@jupyter-widgets/base",
            "_view_module_version": "1.2.0",
            "_view_name": "StyleView",
            "description_width": ""
          }
        }
      }
    }
  },
  "nbformat": 4,
  "nbformat_minor": 0
}